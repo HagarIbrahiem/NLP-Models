{
  "nbformat": 4,
  "nbformat_minor": 0,
  "metadata": {
    "colab": {
      "provenance": [],
      "collapsed_sections": [
        "7O9-fbPt2Pwl",
        "TfMoMRm22WsL",
        "lkYV86i16vgi",
        "-pc2RaxB7r98",
        "QuNxOkTb_14j",
        "pAlgJrD_QNuC",
        "1HtYNezsRhPN",
        "YvSlUkVQX_oz"
      ],
      "authorship_tag": "ABX9TyMcRcaTL3vOKXXVtO9/F8ci",
      "include_colab_link": true
    },
    "kernelspec": {
      "name": "python3",
      "display_name": "Python 3"
    },
    "language_info": {
      "name": "python"
    },
    "widgets": {
      "application/vnd.jupyter.widget-state+json": {
        "d45d91749341486da0c1f2c2b4fb1139": {
          "model_module": "@jupyter-widgets/controls",
          "model_name": "HBoxModel",
          "model_module_version": "1.5.0",
          "state": {
            "_dom_classes": [],
            "_model_module": "@jupyter-widgets/controls",
            "_model_module_version": "1.5.0",
            "_model_name": "HBoxModel",
            "_view_count": null,
            "_view_module": "@jupyter-widgets/controls",
            "_view_module_version": "1.5.0",
            "_view_name": "HBoxView",
            "box_style": "",
            "children": [
              "IPY_MODEL_ec8826e6cc6040ff8e8e92140e30facb",
              "IPY_MODEL_1211e52024514eeaa57e289e6fd5529e",
              "IPY_MODEL_d988f905672e4411a72e06c883f4dbb7"
            ],
            "layout": "IPY_MODEL_fab7602dc2974288af72fcb2c62b4cd1"
          }
        },
        "ec8826e6cc6040ff8e8e92140e30facb": {
          "model_module": "@jupyter-widgets/controls",
          "model_name": "HTMLModel",
          "model_module_version": "1.5.0",
          "state": {
            "_dom_classes": [],
            "_model_module": "@jupyter-widgets/controls",
            "_model_module_version": "1.5.0",
            "_model_name": "HTMLModel",
            "_view_count": null,
            "_view_module": "@jupyter-widgets/controls",
            "_view_module_version": "1.5.0",
            "_view_name": "HTMLView",
            "description": "",
            "description_tooltip": null,
            "layout": "IPY_MODEL_e65538a7dfb3478fb09922c3aeef18c1",
            "placeholder": "​",
            "style": "IPY_MODEL_84ecd5e6de1e4c31a3299aa1341b9ed8",
            "value": "Dl Completed...: 100%"
          }
        },
        "1211e52024514eeaa57e289e6fd5529e": {
          "model_module": "@jupyter-widgets/controls",
          "model_name": "FloatProgressModel",
          "model_module_version": "1.5.0",
          "state": {
            "_dom_classes": [],
            "_model_module": "@jupyter-widgets/controls",
            "_model_module_version": "1.5.0",
            "_model_name": "FloatProgressModel",
            "_view_count": null,
            "_view_module": "@jupyter-widgets/controls",
            "_view_module_version": "1.5.0",
            "_view_name": "ProgressView",
            "bar_style": "success",
            "description": "",
            "description_tooltip": null,
            "layout": "IPY_MODEL_d1e5bdd9610044cd96a607434b4a1493",
            "max": 1,
            "min": 0,
            "orientation": "horizontal",
            "style": "IPY_MODEL_18220336e0ae4fdd984579b294d8b939",
            "value": 1
          }
        },
        "d988f905672e4411a72e06c883f4dbb7": {
          "model_module": "@jupyter-widgets/controls",
          "model_name": "HTMLModel",
          "model_module_version": "1.5.0",
          "state": {
            "_dom_classes": [],
            "_model_module": "@jupyter-widgets/controls",
            "_model_module_version": "1.5.0",
            "_model_name": "HTMLModel",
            "_view_count": null,
            "_view_module": "@jupyter-widgets/controls",
            "_view_module_version": "1.5.0",
            "_view_name": "HTMLView",
            "description": "",
            "description_tooltip": null,
            "layout": "IPY_MODEL_46149482378d4c60977b441ff849deb9",
            "placeholder": "​",
            "style": "IPY_MODEL_b948b349d7f94f5ba031a5f4dd1bc6b5",
            "value": " 1/1 [00:07&lt;00:00,  7.54s/ url]"
          }
        },
        "fab7602dc2974288af72fcb2c62b4cd1": {
          "model_module": "@jupyter-widgets/base",
          "model_name": "LayoutModel",
          "model_module_version": "1.2.0",
          "state": {
            "_model_module": "@jupyter-widgets/base",
            "_model_module_version": "1.2.0",
            "_model_name": "LayoutModel",
            "_view_count": null,
            "_view_module": "@jupyter-widgets/base",
            "_view_module_version": "1.2.0",
            "_view_name": "LayoutView",
            "align_content": null,
            "align_items": null,
            "align_self": null,
            "border": null,
            "bottom": null,
            "display": null,
            "flex": null,
            "flex_flow": null,
            "grid_area": null,
            "grid_auto_columns": null,
            "grid_auto_flow": null,
            "grid_auto_rows": null,
            "grid_column": null,
            "grid_gap": null,
            "grid_row": null,
            "grid_template_areas": null,
            "grid_template_columns": null,
            "grid_template_rows": null,
            "height": null,
            "justify_content": null,
            "justify_items": null,
            "left": null,
            "margin": null,
            "max_height": null,
            "max_width": null,
            "min_height": null,
            "min_width": null,
            "object_fit": null,
            "object_position": null,
            "order": null,
            "overflow": null,
            "overflow_x": null,
            "overflow_y": null,
            "padding": null,
            "right": null,
            "top": null,
            "visibility": null,
            "width": null
          }
        },
        "e65538a7dfb3478fb09922c3aeef18c1": {
          "model_module": "@jupyter-widgets/base",
          "model_name": "LayoutModel",
          "model_module_version": "1.2.0",
          "state": {
            "_model_module": "@jupyter-widgets/base",
            "_model_module_version": "1.2.0",
            "_model_name": "LayoutModel",
            "_view_count": null,
            "_view_module": "@jupyter-widgets/base",
            "_view_module_version": "1.2.0",
            "_view_name": "LayoutView",
            "align_content": null,
            "align_items": null,
            "align_self": null,
            "border": null,
            "bottom": null,
            "display": null,
            "flex": null,
            "flex_flow": null,
            "grid_area": null,
            "grid_auto_columns": null,
            "grid_auto_flow": null,
            "grid_auto_rows": null,
            "grid_column": null,
            "grid_gap": null,
            "grid_row": null,
            "grid_template_areas": null,
            "grid_template_columns": null,
            "grid_template_rows": null,
            "height": null,
            "justify_content": null,
            "justify_items": null,
            "left": null,
            "margin": null,
            "max_height": null,
            "max_width": null,
            "min_height": null,
            "min_width": null,
            "object_fit": null,
            "object_position": null,
            "order": null,
            "overflow": null,
            "overflow_x": null,
            "overflow_y": null,
            "padding": null,
            "right": null,
            "top": null,
            "visibility": null,
            "width": null
          }
        },
        "84ecd5e6de1e4c31a3299aa1341b9ed8": {
          "model_module": "@jupyter-widgets/controls",
          "model_name": "DescriptionStyleModel",
          "model_module_version": "1.5.0",
          "state": {
            "_model_module": "@jupyter-widgets/controls",
            "_model_module_version": "1.5.0",
            "_model_name": "DescriptionStyleModel",
            "_view_count": null,
            "_view_module": "@jupyter-widgets/base",
            "_view_module_version": "1.2.0",
            "_view_name": "StyleView",
            "description_width": ""
          }
        },
        "d1e5bdd9610044cd96a607434b4a1493": {
          "model_module": "@jupyter-widgets/base",
          "model_name": "LayoutModel",
          "model_module_version": "1.2.0",
          "state": {
            "_model_module": "@jupyter-widgets/base",
            "_model_module_version": "1.2.0",
            "_model_name": "LayoutModel",
            "_view_count": null,
            "_view_module": "@jupyter-widgets/base",
            "_view_module_version": "1.2.0",
            "_view_name": "LayoutView",
            "align_content": null,
            "align_items": null,
            "align_self": null,
            "border": null,
            "bottom": null,
            "display": null,
            "flex": null,
            "flex_flow": null,
            "grid_area": null,
            "grid_auto_columns": null,
            "grid_auto_flow": null,
            "grid_auto_rows": null,
            "grid_column": null,
            "grid_gap": null,
            "grid_row": null,
            "grid_template_areas": null,
            "grid_template_columns": null,
            "grid_template_rows": null,
            "height": null,
            "justify_content": null,
            "justify_items": null,
            "left": null,
            "margin": null,
            "max_height": null,
            "max_width": null,
            "min_height": null,
            "min_width": null,
            "object_fit": null,
            "object_position": null,
            "order": null,
            "overflow": null,
            "overflow_x": null,
            "overflow_y": null,
            "padding": null,
            "right": null,
            "top": null,
            "visibility": null,
            "width": "20px"
          }
        },
        "18220336e0ae4fdd984579b294d8b939": {
          "model_module": "@jupyter-widgets/controls",
          "model_name": "ProgressStyleModel",
          "model_module_version": "1.5.0",
          "state": {
            "_model_module": "@jupyter-widgets/controls",
            "_model_module_version": "1.5.0",
            "_model_name": "ProgressStyleModel",
            "_view_count": null,
            "_view_module": "@jupyter-widgets/base",
            "_view_module_version": "1.2.0",
            "_view_name": "StyleView",
            "bar_color": null,
            "description_width": ""
          }
        },
        "46149482378d4c60977b441ff849deb9": {
          "model_module": "@jupyter-widgets/base",
          "model_name": "LayoutModel",
          "model_module_version": "1.2.0",
          "state": {
            "_model_module": "@jupyter-widgets/base",
            "_model_module_version": "1.2.0",
            "_model_name": "LayoutModel",
            "_view_count": null,
            "_view_module": "@jupyter-widgets/base",
            "_view_module_version": "1.2.0",
            "_view_name": "LayoutView",
            "align_content": null,
            "align_items": null,
            "align_self": null,
            "border": null,
            "bottom": null,
            "display": null,
            "flex": null,
            "flex_flow": null,
            "grid_area": null,
            "grid_auto_columns": null,
            "grid_auto_flow": null,
            "grid_auto_rows": null,
            "grid_column": null,
            "grid_gap": null,
            "grid_row": null,
            "grid_template_areas": null,
            "grid_template_columns": null,
            "grid_template_rows": null,
            "height": null,
            "justify_content": null,
            "justify_items": null,
            "left": null,
            "margin": null,
            "max_height": null,
            "max_width": null,
            "min_height": null,
            "min_width": null,
            "object_fit": null,
            "object_position": null,
            "order": null,
            "overflow": null,
            "overflow_x": null,
            "overflow_y": null,
            "padding": null,
            "right": null,
            "top": null,
            "visibility": null,
            "width": null
          }
        },
        "b948b349d7f94f5ba031a5f4dd1bc6b5": {
          "model_module": "@jupyter-widgets/controls",
          "model_name": "DescriptionStyleModel",
          "model_module_version": "1.5.0",
          "state": {
            "_model_module": "@jupyter-widgets/controls",
            "_model_module_version": "1.5.0",
            "_model_name": "DescriptionStyleModel",
            "_view_count": null,
            "_view_module": "@jupyter-widgets/base",
            "_view_module_version": "1.2.0",
            "_view_name": "StyleView",
            "description_width": ""
          }
        },
        "4e82e563f1a74fd8ac1eb68d12282eef": {
          "model_module": "@jupyter-widgets/controls",
          "model_name": "HBoxModel",
          "model_module_version": "1.5.0",
          "state": {
            "_dom_classes": [],
            "_model_module": "@jupyter-widgets/controls",
            "_model_module_version": "1.5.0",
            "_model_name": "HBoxModel",
            "_view_count": null,
            "_view_module": "@jupyter-widgets/controls",
            "_view_module_version": "1.5.0",
            "_view_name": "HBoxView",
            "box_style": "",
            "children": [
              "IPY_MODEL_0a44b61e764d442cb404d39351b6d75f",
              "IPY_MODEL_ee0ed215a823420cafef52b6a34f15a8",
              "IPY_MODEL_fa6af7ecec624c05a9aa2d6616d6487d"
            ],
            "layout": "IPY_MODEL_0db8624352ca4a2f983e30a8f25ad03e"
          }
        },
        "0a44b61e764d442cb404d39351b6d75f": {
          "model_module": "@jupyter-widgets/controls",
          "model_name": "HTMLModel",
          "model_module_version": "1.5.0",
          "state": {
            "_dom_classes": [],
            "_model_module": "@jupyter-widgets/controls",
            "_model_module_version": "1.5.0",
            "_model_name": "HTMLModel",
            "_view_count": null,
            "_view_module": "@jupyter-widgets/controls",
            "_view_module_version": "1.5.0",
            "_view_name": "HTMLView",
            "description": "",
            "description_tooltip": null,
            "layout": "IPY_MODEL_e7ee1ea4f86940eb98e38a2acd925109",
            "placeholder": "​",
            "style": "IPY_MODEL_4adba1fc07e44b6ab9cf257274b03508",
            "value": "Dl Size...: 100%"
          }
        },
        "ee0ed215a823420cafef52b6a34f15a8": {
          "model_module": "@jupyter-widgets/controls",
          "model_name": "FloatProgressModel",
          "model_module_version": "1.5.0",
          "state": {
            "_dom_classes": [],
            "_model_module": "@jupyter-widgets/controls",
            "_model_module_version": "1.5.0",
            "_model_name": "FloatProgressModel",
            "_view_count": null,
            "_view_module": "@jupyter-widgets/controls",
            "_view_module_version": "1.5.0",
            "_view_name": "ProgressView",
            "bar_style": "success",
            "description": "",
            "description_tooltip": null,
            "layout": "IPY_MODEL_909c60e2e6b240c6a6de8e04513aa46f",
            "max": 1,
            "min": 0,
            "orientation": "horizontal",
            "style": "IPY_MODEL_fa032e10a71442da8fc06570b12344b9",
            "value": 1
          }
        },
        "fa6af7ecec624c05a9aa2d6616d6487d": {
          "model_module": "@jupyter-widgets/controls",
          "model_name": "HTMLModel",
          "model_module_version": "1.5.0",
          "state": {
            "_dom_classes": [],
            "_model_module": "@jupyter-widgets/controls",
            "_model_module_version": "1.5.0",
            "_model_name": "HTMLModel",
            "_view_count": null,
            "_view_module": "@jupyter-widgets/controls",
            "_view_module_version": "1.5.0",
            "_view_name": "HTMLView",
            "description": "",
            "description_tooltip": null,
            "layout": "IPY_MODEL_938026d78d8147caae6ca8d01d2bc1c2",
            "placeholder": "​",
            "style": "IPY_MODEL_08003166e0f0492da501791beffd0453",
            "value": " 80/80 [00:07&lt;00:00, 28.00 MiB/s]"
          }
        },
        "0db8624352ca4a2f983e30a8f25ad03e": {
          "model_module": "@jupyter-widgets/base",
          "model_name": "LayoutModel",
          "model_module_version": "1.2.0",
          "state": {
            "_model_module": "@jupyter-widgets/base",
            "_model_module_version": "1.2.0",
            "_model_name": "LayoutModel",
            "_view_count": null,
            "_view_module": "@jupyter-widgets/base",
            "_view_module_version": "1.2.0",
            "_view_name": "LayoutView",
            "align_content": null,
            "align_items": null,
            "align_self": null,
            "border": null,
            "bottom": null,
            "display": null,
            "flex": null,
            "flex_flow": null,
            "grid_area": null,
            "grid_auto_columns": null,
            "grid_auto_flow": null,
            "grid_auto_rows": null,
            "grid_column": null,
            "grid_gap": null,
            "grid_row": null,
            "grid_template_areas": null,
            "grid_template_columns": null,
            "grid_template_rows": null,
            "height": null,
            "justify_content": null,
            "justify_items": null,
            "left": null,
            "margin": null,
            "max_height": null,
            "max_width": null,
            "min_height": null,
            "min_width": null,
            "object_fit": null,
            "object_position": null,
            "order": null,
            "overflow": null,
            "overflow_x": null,
            "overflow_y": null,
            "padding": null,
            "right": null,
            "top": null,
            "visibility": null,
            "width": null
          }
        },
        "e7ee1ea4f86940eb98e38a2acd925109": {
          "model_module": "@jupyter-widgets/base",
          "model_name": "LayoutModel",
          "model_module_version": "1.2.0",
          "state": {
            "_model_module": "@jupyter-widgets/base",
            "_model_module_version": "1.2.0",
            "_model_name": "LayoutModel",
            "_view_count": null,
            "_view_module": "@jupyter-widgets/base",
            "_view_module_version": "1.2.0",
            "_view_name": "LayoutView",
            "align_content": null,
            "align_items": null,
            "align_self": null,
            "border": null,
            "bottom": null,
            "display": null,
            "flex": null,
            "flex_flow": null,
            "grid_area": null,
            "grid_auto_columns": null,
            "grid_auto_flow": null,
            "grid_auto_rows": null,
            "grid_column": null,
            "grid_gap": null,
            "grid_row": null,
            "grid_template_areas": null,
            "grid_template_columns": null,
            "grid_template_rows": null,
            "height": null,
            "justify_content": null,
            "justify_items": null,
            "left": null,
            "margin": null,
            "max_height": null,
            "max_width": null,
            "min_height": null,
            "min_width": null,
            "object_fit": null,
            "object_position": null,
            "order": null,
            "overflow": null,
            "overflow_x": null,
            "overflow_y": null,
            "padding": null,
            "right": null,
            "top": null,
            "visibility": null,
            "width": null
          }
        },
        "4adba1fc07e44b6ab9cf257274b03508": {
          "model_module": "@jupyter-widgets/controls",
          "model_name": "DescriptionStyleModel",
          "model_module_version": "1.5.0",
          "state": {
            "_model_module": "@jupyter-widgets/controls",
            "_model_module_version": "1.5.0",
            "_model_name": "DescriptionStyleModel",
            "_view_count": null,
            "_view_module": "@jupyter-widgets/base",
            "_view_module_version": "1.2.0",
            "_view_name": "StyleView",
            "description_width": ""
          }
        },
        "909c60e2e6b240c6a6de8e04513aa46f": {
          "model_module": "@jupyter-widgets/base",
          "model_name": "LayoutModel",
          "model_module_version": "1.2.0",
          "state": {
            "_model_module": "@jupyter-widgets/base",
            "_model_module_version": "1.2.0",
            "_model_name": "LayoutModel",
            "_view_count": null,
            "_view_module": "@jupyter-widgets/base",
            "_view_module_version": "1.2.0",
            "_view_name": "LayoutView",
            "align_content": null,
            "align_items": null,
            "align_self": null,
            "border": null,
            "bottom": null,
            "display": null,
            "flex": null,
            "flex_flow": null,
            "grid_area": null,
            "grid_auto_columns": null,
            "grid_auto_flow": null,
            "grid_auto_rows": null,
            "grid_column": null,
            "grid_gap": null,
            "grid_row": null,
            "grid_template_areas": null,
            "grid_template_columns": null,
            "grid_template_rows": null,
            "height": null,
            "justify_content": null,
            "justify_items": null,
            "left": null,
            "margin": null,
            "max_height": null,
            "max_width": null,
            "min_height": null,
            "min_width": null,
            "object_fit": null,
            "object_position": null,
            "order": null,
            "overflow": null,
            "overflow_x": null,
            "overflow_y": null,
            "padding": null,
            "right": null,
            "top": null,
            "visibility": null,
            "width": "20px"
          }
        },
        "fa032e10a71442da8fc06570b12344b9": {
          "model_module": "@jupyter-widgets/controls",
          "model_name": "ProgressStyleModel",
          "model_module_version": "1.5.0",
          "state": {
            "_model_module": "@jupyter-widgets/controls",
            "_model_module_version": "1.5.0",
            "_model_name": "ProgressStyleModel",
            "_view_count": null,
            "_view_module": "@jupyter-widgets/base",
            "_view_module_version": "1.2.0",
            "_view_name": "StyleView",
            "bar_color": null,
            "description_width": ""
          }
        },
        "938026d78d8147caae6ca8d01d2bc1c2": {
          "model_module": "@jupyter-widgets/base",
          "model_name": "LayoutModel",
          "model_module_version": "1.2.0",
          "state": {
            "_model_module": "@jupyter-widgets/base",
            "_model_module_version": "1.2.0",
            "_model_name": "LayoutModel",
            "_view_count": null,
            "_view_module": "@jupyter-widgets/base",
            "_view_module_version": "1.2.0",
            "_view_name": "LayoutView",
            "align_content": null,
            "align_items": null,
            "align_self": null,
            "border": null,
            "bottom": null,
            "display": null,
            "flex": null,
            "flex_flow": null,
            "grid_area": null,
            "grid_auto_columns": null,
            "grid_auto_flow": null,
            "grid_auto_rows": null,
            "grid_column": null,
            "grid_gap": null,
            "grid_row": null,
            "grid_template_areas": null,
            "grid_template_columns": null,
            "grid_template_rows": null,
            "height": null,
            "justify_content": null,
            "justify_items": null,
            "left": null,
            "margin": null,
            "max_height": null,
            "max_width": null,
            "min_height": null,
            "min_width": null,
            "object_fit": null,
            "object_position": null,
            "order": null,
            "overflow": null,
            "overflow_x": null,
            "overflow_y": null,
            "padding": null,
            "right": null,
            "top": null,
            "visibility": null,
            "width": null
          }
        },
        "08003166e0f0492da501791beffd0453": {
          "model_module": "@jupyter-widgets/controls",
          "model_name": "DescriptionStyleModel",
          "model_module_version": "1.5.0",
          "state": {
            "_model_module": "@jupyter-widgets/controls",
            "_model_module_version": "1.5.0",
            "_model_name": "DescriptionStyleModel",
            "_view_count": null,
            "_view_module": "@jupyter-widgets/base",
            "_view_module_version": "1.2.0",
            "_view_name": "StyleView",
            "description_width": ""
          }
        },
        "424578f4ea9f4787a44a23d783125fea": {
          "model_module": "@jupyter-widgets/controls",
          "model_name": "HBoxModel",
          "model_module_version": "1.5.0",
          "state": {
            "_dom_classes": [],
            "_model_module": "@jupyter-widgets/controls",
            "_model_module_version": "1.5.0",
            "_model_name": "HBoxModel",
            "_view_count": null,
            "_view_module": "@jupyter-widgets/controls",
            "_view_module_version": "1.5.0",
            "_view_name": "HBoxView",
            "box_style": "",
            "children": [
              "IPY_MODEL_9b319165432046b79a6d489e49aacbc7",
              "IPY_MODEL_f8980de7f50b4b8aa116152fcac9f337",
              "IPY_MODEL_e27bbf6f149c4a93965c0cb00e806696"
            ],
            "layout": "IPY_MODEL_57a8ab31cea0491c91f59e11d1c0d8f8"
          }
        },
        "9b319165432046b79a6d489e49aacbc7": {
          "model_module": "@jupyter-widgets/controls",
          "model_name": "HTMLModel",
          "model_module_version": "1.5.0",
          "state": {
            "_dom_classes": [],
            "_model_module": "@jupyter-widgets/controls",
            "_model_module_version": "1.5.0",
            "_model_name": "HTMLModel",
            "_view_count": null,
            "_view_module": "@jupyter-widgets/controls",
            "_view_module_version": "1.5.0",
            "_view_name": "HTMLView",
            "description": "",
            "description_tooltip": null,
            "layout": "IPY_MODEL_9c2319a2ed744e28b3a585a9673481b0",
            "placeholder": "​",
            "style": "IPY_MODEL_0e6598963eb247a2ac9683a68714622d",
            "value": "Generating splits...: 100%"
          }
        },
        "f8980de7f50b4b8aa116152fcac9f337": {
          "model_module": "@jupyter-widgets/controls",
          "model_name": "FloatProgressModel",
          "model_module_version": "1.5.0",
          "state": {
            "_dom_classes": [],
            "_model_module": "@jupyter-widgets/controls",
            "_model_module_version": "1.5.0",
            "_model_name": "FloatProgressModel",
            "_view_count": null,
            "_view_module": "@jupyter-widgets/controls",
            "_view_module_version": "1.5.0",
            "_view_name": "ProgressView",
            "bar_style": "",
            "description": "",
            "description_tooltip": null,
            "layout": "IPY_MODEL_32205160a9a94392bf754efcfe2c2e81",
            "max": 3,
            "min": 0,
            "orientation": "horizontal",
            "style": "IPY_MODEL_841a1c604d0546b6946eae1761f43d0f",
            "value": 3
          }
        },
        "e27bbf6f149c4a93965c0cb00e806696": {
          "model_module": "@jupyter-widgets/controls",
          "model_name": "HTMLModel",
          "model_module_version": "1.5.0",
          "state": {
            "_dom_classes": [],
            "_model_module": "@jupyter-widgets/controls",
            "_model_module_version": "1.5.0",
            "_model_name": "HTMLModel",
            "_view_count": null,
            "_view_module": "@jupyter-widgets/controls",
            "_view_module_version": "1.5.0",
            "_view_name": "HTMLView",
            "description": "",
            "description_tooltip": null,
            "layout": "IPY_MODEL_0538fce3533040b9b144b5fd4403dc04",
            "placeholder": "​",
            "style": "IPY_MODEL_5e586f5381924de194f11b0680994bd8",
            "value": " 3/3 [00:56&lt;00:00, 18.15s/ splits]"
          }
        },
        "57a8ab31cea0491c91f59e11d1c0d8f8": {
          "model_module": "@jupyter-widgets/base",
          "model_name": "LayoutModel",
          "model_module_version": "1.2.0",
          "state": {
            "_model_module": "@jupyter-widgets/base",
            "_model_module_version": "1.2.0",
            "_model_name": "LayoutModel",
            "_view_count": null,
            "_view_module": "@jupyter-widgets/base",
            "_view_module_version": "1.2.0",
            "_view_name": "LayoutView",
            "align_content": null,
            "align_items": null,
            "align_self": null,
            "border": null,
            "bottom": null,
            "display": null,
            "flex": null,
            "flex_flow": null,
            "grid_area": null,
            "grid_auto_columns": null,
            "grid_auto_flow": null,
            "grid_auto_rows": null,
            "grid_column": null,
            "grid_gap": null,
            "grid_row": null,
            "grid_template_areas": null,
            "grid_template_columns": null,
            "grid_template_rows": null,
            "height": null,
            "justify_content": null,
            "justify_items": null,
            "left": null,
            "margin": null,
            "max_height": null,
            "max_width": null,
            "min_height": null,
            "min_width": null,
            "object_fit": null,
            "object_position": null,
            "order": null,
            "overflow": null,
            "overflow_x": null,
            "overflow_y": null,
            "padding": null,
            "right": null,
            "top": null,
            "visibility": "hidden",
            "width": null
          }
        },
        "9c2319a2ed744e28b3a585a9673481b0": {
          "model_module": "@jupyter-widgets/base",
          "model_name": "LayoutModel",
          "model_module_version": "1.2.0",
          "state": {
            "_model_module": "@jupyter-widgets/base",
            "_model_module_version": "1.2.0",
            "_model_name": "LayoutModel",
            "_view_count": null,
            "_view_module": "@jupyter-widgets/base",
            "_view_module_version": "1.2.0",
            "_view_name": "LayoutView",
            "align_content": null,
            "align_items": null,
            "align_self": null,
            "border": null,
            "bottom": null,
            "display": null,
            "flex": null,
            "flex_flow": null,
            "grid_area": null,
            "grid_auto_columns": null,
            "grid_auto_flow": null,
            "grid_auto_rows": null,
            "grid_column": null,
            "grid_gap": null,
            "grid_row": null,
            "grid_template_areas": null,
            "grid_template_columns": null,
            "grid_template_rows": null,
            "height": null,
            "justify_content": null,
            "justify_items": null,
            "left": null,
            "margin": null,
            "max_height": null,
            "max_width": null,
            "min_height": null,
            "min_width": null,
            "object_fit": null,
            "object_position": null,
            "order": null,
            "overflow": null,
            "overflow_x": null,
            "overflow_y": null,
            "padding": null,
            "right": null,
            "top": null,
            "visibility": null,
            "width": null
          }
        },
        "0e6598963eb247a2ac9683a68714622d": {
          "model_module": "@jupyter-widgets/controls",
          "model_name": "DescriptionStyleModel",
          "model_module_version": "1.5.0",
          "state": {
            "_model_module": "@jupyter-widgets/controls",
            "_model_module_version": "1.5.0",
            "_model_name": "DescriptionStyleModel",
            "_view_count": null,
            "_view_module": "@jupyter-widgets/base",
            "_view_module_version": "1.2.0",
            "_view_name": "StyleView",
            "description_width": ""
          }
        },
        "32205160a9a94392bf754efcfe2c2e81": {
          "model_module": "@jupyter-widgets/base",
          "model_name": "LayoutModel",
          "model_module_version": "1.2.0",
          "state": {
            "_model_module": "@jupyter-widgets/base",
            "_model_module_version": "1.2.0",
            "_model_name": "LayoutModel",
            "_view_count": null,
            "_view_module": "@jupyter-widgets/base",
            "_view_module_version": "1.2.0",
            "_view_name": "LayoutView",
            "align_content": null,
            "align_items": null,
            "align_self": null,
            "border": null,
            "bottom": null,
            "display": null,
            "flex": null,
            "flex_flow": null,
            "grid_area": null,
            "grid_auto_columns": null,
            "grid_auto_flow": null,
            "grid_auto_rows": null,
            "grid_column": null,
            "grid_gap": null,
            "grid_row": null,
            "grid_template_areas": null,
            "grid_template_columns": null,
            "grid_template_rows": null,
            "height": null,
            "justify_content": null,
            "justify_items": null,
            "left": null,
            "margin": null,
            "max_height": null,
            "max_width": null,
            "min_height": null,
            "min_width": null,
            "object_fit": null,
            "object_position": null,
            "order": null,
            "overflow": null,
            "overflow_x": null,
            "overflow_y": null,
            "padding": null,
            "right": null,
            "top": null,
            "visibility": null,
            "width": null
          }
        },
        "841a1c604d0546b6946eae1761f43d0f": {
          "model_module": "@jupyter-widgets/controls",
          "model_name": "ProgressStyleModel",
          "model_module_version": "1.5.0",
          "state": {
            "_model_module": "@jupyter-widgets/controls",
            "_model_module_version": "1.5.0",
            "_model_name": "ProgressStyleModel",
            "_view_count": null,
            "_view_module": "@jupyter-widgets/base",
            "_view_module_version": "1.2.0",
            "_view_name": "StyleView",
            "bar_color": null,
            "description_width": ""
          }
        },
        "0538fce3533040b9b144b5fd4403dc04": {
          "model_module": "@jupyter-widgets/base",
          "model_name": "LayoutModel",
          "model_module_version": "1.2.0",
          "state": {
            "_model_module": "@jupyter-widgets/base",
            "_model_module_version": "1.2.0",
            "_model_name": "LayoutModel",
            "_view_count": null,
            "_view_module": "@jupyter-widgets/base",
            "_view_module_version": "1.2.0",
            "_view_name": "LayoutView",
            "align_content": null,
            "align_items": null,
            "align_self": null,
            "border": null,
            "bottom": null,
            "display": null,
            "flex": null,
            "flex_flow": null,
            "grid_area": null,
            "grid_auto_columns": null,
            "grid_auto_flow": null,
            "grid_auto_rows": null,
            "grid_column": null,
            "grid_gap": null,
            "grid_row": null,
            "grid_template_areas": null,
            "grid_template_columns": null,
            "grid_template_rows": null,
            "height": null,
            "justify_content": null,
            "justify_items": null,
            "left": null,
            "margin": null,
            "max_height": null,
            "max_width": null,
            "min_height": null,
            "min_width": null,
            "object_fit": null,
            "object_position": null,
            "order": null,
            "overflow": null,
            "overflow_x": null,
            "overflow_y": null,
            "padding": null,
            "right": null,
            "top": null,
            "visibility": null,
            "width": null
          }
        },
        "5e586f5381924de194f11b0680994bd8": {
          "model_module": "@jupyter-widgets/controls",
          "model_name": "DescriptionStyleModel",
          "model_module_version": "1.5.0",
          "state": {
            "_model_module": "@jupyter-widgets/controls",
            "_model_module_version": "1.5.0",
            "_model_name": "DescriptionStyleModel",
            "_view_count": null,
            "_view_module": "@jupyter-widgets/base",
            "_view_module_version": "1.2.0",
            "_view_name": "StyleView",
            "description_width": ""
          }
        },
        "8622cb0556e64207bf48000be31072ba": {
          "model_module": "@jupyter-widgets/controls",
          "model_name": "HBoxModel",
          "model_module_version": "1.5.0",
          "state": {
            "_dom_classes": [],
            "_model_module": "@jupyter-widgets/controls",
            "_model_module_version": "1.5.0",
            "_model_name": "HBoxModel",
            "_view_count": null,
            "_view_module": "@jupyter-widgets/controls",
            "_view_module_version": "1.5.0",
            "_view_name": "HBoxView",
            "box_style": "",
            "children": [
              "IPY_MODEL_44345a6417534f179cc34a23a8c226d6",
              "IPY_MODEL_b658d72e55f44050aa9fa418e4218048",
              "IPY_MODEL_bc11cc6bc27046069a04f268990c8a34"
            ],
            "layout": "IPY_MODEL_0ba0576f61f746e48fb6137c7ec52af1"
          }
        },
        "44345a6417534f179cc34a23a8c226d6": {
          "model_module": "@jupyter-widgets/controls",
          "model_name": "HTMLModel",
          "model_module_version": "1.5.0",
          "state": {
            "_dom_classes": [],
            "_model_module": "@jupyter-widgets/controls",
            "_model_module_version": "1.5.0",
            "_model_name": "HTMLModel",
            "_view_count": null,
            "_view_module": "@jupyter-widgets/controls",
            "_view_module_version": "1.5.0",
            "_view_name": "HTMLView",
            "description": "",
            "description_tooltip": null,
            "layout": "IPY_MODEL_f7a85abb2e714b01a649094733610352",
            "placeholder": "​",
            "style": "IPY_MODEL_453654a68f744555ac148d4a3a18f205",
            "value": "Generating train examples...: "
          }
        },
        "b658d72e55f44050aa9fa418e4218048": {
          "model_module": "@jupyter-widgets/controls",
          "model_name": "FloatProgressModel",
          "model_module_version": "1.5.0",
          "state": {
            "_dom_classes": [],
            "_model_module": "@jupyter-widgets/controls",
            "_model_module_version": "1.5.0",
            "_model_name": "FloatProgressModel",
            "_view_count": null,
            "_view_module": "@jupyter-widgets/controls",
            "_view_module_version": "1.5.0",
            "_view_name": "ProgressView",
            "bar_style": "info",
            "description": "",
            "description_tooltip": null,
            "layout": "IPY_MODEL_2e70d3d7d3cd490b85936c11330eae2f",
            "max": 1,
            "min": 0,
            "orientation": "horizontal",
            "style": "IPY_MODEL_f25b3e4c8a924888902d28f01c947cf8",
            "value": 1
          }
        },
        "bc11cc6bc27046069a04f268990c8a34": {
          "model_module": "@jupyter-widgets/controls",
          "model_name": "HTMLModel",
          "model_module_version": "1.5.0",
          "state": {
            "_dom_classes": [],
            "_model_module": "@jupyter-widgets/controls",
            "_model_module_version": "1.5.0",
            "_model_name": "HTMLModel",
            "_view_count": null,
            "_view_module": "@jupyter-widgets/controls",
            "_view_module_version": "1.5.0",
            "_view_name": "HTMLView",
            "description": "",
            "description_tooltip": null,
            "layout": "IPY_MODEL_d2b99fb7160d48a49c4dae606677b6fa",
            "placeholder": "​",
            "style": "IPY_MODEL_67db1937f7eb4fd09aebcbeae67dd9b1",
            "value": " 24953/? [00:19&lt;00:00, 3093.47 examples/s]"
          }
        },
        "0ba0576f61f746e48fb6137c7ec52af1": {
          "model_module": "@jupyter-widgets/base",
          "model_name": "LayoutModel",
          "model_module_version": "1.2.0",
          "state": {
            "_model_module": "@jupyter-widgets/base",
            "_model_module_version": "1.2.0",
            "_model_name": "LayoutModel",
            "_view_count": null,
            "_view_module": "@jupyter-widgets/base",
            "_view_module_version": "1.2.0",
            "_view_name": "LayoutView",
            "align_content": null,
            "align_items": null,
            "align_self": null,
            "border": null,
            "bottom": null,
            "display": null,
            "flex": null,
            "flex_flow": null,
            "grid_area": null,
            "grid_auto_columns": null,
            "grid_auto_flow": null,
            "grid_auto_rows": null,
            "grid_column": null,
            "grid_gap": null,
            "grid_row": null,
            "grid_template_areas": null,
            "grid_template_columns": null,
            "grid_template_rows": null,
            "height": null,
            "justify_content": null,
            "justify_items": null,
            "left": null,
            "margin": null,
            "max_height": null,
            "max_width": null,
            "min_height": null,
            "min_width": null,
            "object_fit": null,
            "object_position": null,
            "order": null,
            "overflow": null,
            "overflow_x": null,
            "overflow_y": null,
            "padding": null,
            "right": null,
            "top": null,
            "visibility": "hidden",
            "width": null
          }
        },
        "f7a85abb2e714b01a649094733610352": {
          "model_module": "@jupyter-widgets/base",
          "model_name": "LayoutModel",
          "model_module_version": "1.2.0",
          "state": {
            "_model_module": "@jupyter-widgets/base",
            "_model_module_version": "1.2.0",
            "_model_name": "LayoutModel",
            "_view_count": null,
            "_view_module": "@jupyter-widgets/base",
            "_view_module_version": "1.2.0",
            "_view_name": "LayoutView",
            "align_content": null,
            "align_items": null,
            "align_self": null,
            "border": null,
            "bottom": null,
            "display": null,
            "flex": null,
            "flex_flow": null,
            "grid_area": null,
            "grid_auto_columns": null,
            "grid_auto_flow": null,
            "grid_auto_rows": null,
            "grid_column": null,
            "grid_gap": null,
            "grid_row": null,
            "grid_template_areas": null,
            "grid_template_columns": null,
            "grid_template_rows": null,
            "height": null,
            "justify_content": null,
            "justify_items": null,
            "left": null,
            "margin": null,
            "max_height": null,
            "max_width": null,
            "min_height": null,
            "min_width": null,
            "object_fit": null,
            "object_position": null,
            "order": null,
            "overflow": null,
            "overflow_x": null,
            "overflow_y": null,
            "padding": null,
            "right": null,
            "top": null,
            "visibility": null,
            "width": null
          }
        },
        "453654a68f744555ac148d4a3a18f205": {
          "model_module": "@jupyter-widgets/controls",
          "model_name": "DescriptionStyleModel",
          "model_module_version": "1.5.0",
          "state": {
            "_model_module": "@jupyter-widgets/controls",
            "_model_module_version": "1.5.0",
            "_model_name": "DescriptionStyleModel",
            "_view_count": null,
            "_view_module": "@jupyter-widgets/base",
            "_view_module_version": "1.2.0",
            "_view_name": "StyleView",
            "description_width": ""
          }
        },
        "2e70d3d7d3cd490b85936c11330eae2f": {
          "model_module": "@jupyter-widgets/base",
          "model_name": "LayoutModel",
          "model_module_version": "1.2.0",
          "state": {
            "_model_module": "@jupyter-widgets/base",
            "_model_module_version": "1.2.0",
            "_model_name": "LayoutModel",
            "_view_count": null,
            "_view_module": "@jupyter-widgets/base",
            "_view_module_version": "1.2.0",
            "_view_name": "LayoutView",
            "align_content": null,
            "align_items": null,
            "align_self": null,
            "border": null,
            "bottom": null,
            "display": null,
            "flex": null,
            "flex_flow": null,
            "grid_area": null,
            "grid_auto_columns": null,
            "grid_auto_flow": null,
            "grid_auto_rows": null,
            "grid_column": null,
            "grid_gap": null,
            "grid_row": null,
            "grid_template_areas": null,
            "grid_template_columns": null,
            "grid_template_rows": null,
            "height": null,
            "justify_content": null,
            "justify_items": null,
            "left": null,
            "margin": null,
            "max_height": null,
            "max_width": null,
            "min_height": null,
            "min_width": null,
            "object_fit": null,
            "object_position": null,
            "order": null,
            "overflow": null,
            "overflow_x": null,
            "overflow_y": null,
            "padding": null,
            "right": null,
            "top": null,
            "visibility": null,
            "width": "20px"
          }
        },
        "f25b3e4c8a924888902d28f01c947cf8": {
          "model_module": "@jupyter-widgets/controls",
          "model_name": "ProgressStyleModel",
          "model_module_version": "1.5.0",
          "state": {
            "_model_module": "@jupyter-widgets/controls",
            "_model_module_version": "1.5.0",
            "_model_name": "ProgressStyleModel",
            "_view_count": null,
            "_view_module": "@jupyter-widgets/base",
            "_view_module_version": "1.2.0",
            "_view_name": "StyleView",
            "bar_color": null,
            "description_width": ""
          }
        },
        "d2b99fb7160d48a49c4dae606677b6fa": {
          "model_module": "@jupyter-widgets/base",
          "model_name": "LayoutModel",
          "model_module_version": "1.2.0",
          "state": {
            "_model_module": "@jupyter-widgets/base",
            "_model_module_version": "1.2.0",
            "_model_name": "LayoutModel",
            "_view_count": null,
            "_view_module": "@jupyter-widgets/base",
            "_view_module_version": "1.2.0",
            "_view_name": "LayoutView",
            "align_content": null,
            "align_items": null,
            "align_self": null,
            "border": null,
            "bottom": null,
            "display": null,
            "flex": null,
            "flex_flow": null,
            "grid_area": null,
            "grid_auto_columns": null,
            "grid_auto_flow": null,
            "grid_auto_rows": null,
            "grid_column": null,
            "grid_gap": null,
            "grid_row": null,
            "grid_template_areas": null,
            "grid_template_columns": null,
            "grid_template_rows": null,
            "height": null,
            "justify_content": null,
            "justify_items": null,
            "left": null,
            "margin": null,
            "max_height": null,
            "max_width": null,
            "min_height": null,
            "min_width": null,
            "object_fit": null,
            "object_position": null,
            "order": null,
            "overflow": null,
            "overflow_x": null,
            "overflow_y": null,
            "padding": null,
            "right": null,
            "top": null,
            "visibility": null,
            "width": null
          }
        },
        "67db1937f7eb4fd09aebcbeae67dd9b1": {
          "model_module": "@jupyter-widgets/controls",
          "model_name": "DescriptionStyleModel",
          "model_module_version": "1.5.0",
          "state": {
            "_model_module": "@jupyter-widgets/controls",
            "_model_module_version": "1.5.0",
            "_model_name": "DescriptionStyleModel",
            "_view_count": null,
            "_view_module": "@jupyter-widgets/base",
            "_view_module_version": "1.2.0",
            "_view_name": "StyleView",
            "description_width": ""
          }
        },
        "c58e660833734be48826e2ce7bac7a61": {
          "model_module": "@jupyter-widgets/controls",
          "model_name": "HBoxModel",
          "model_module_version": "1.5.0",
          "state": {
            "_dom_classes": [],
            "_model_module": "@jupyter-widgets/controls",
            "_model_module_version": "1.5.0",
            "_model_name": "HBoxModel",
            "_view_count": null,
            "_view_module": "@jupyter-widgets/controls",
            "_view_module_version": "1.5.0",
            "_view_name": "HBoxView",
            "box_style": "",
            "children": [
              "IPY_MODEL_484b6d8743724a7da1e62f1c21a27164",
              "IPY_MODEL_ead299ab55fc4ea5aa2781979e7fd3b3",
              "IPY_MODEL_ad950b05ba8d43e9975600dc3291eddd"
            ],
            "layout": "IPY_MODEL_1ff24322dd3b44fb8f249aabd71440ad"
          }
        },
        "484b6d8743724a7da1e62f1c21a27164": {
          "model_module": "@jupyter-widgets/controls",
          "model_name": "HTMLModel",
          "model_module_version": "1.5.0",
          "state": {
            "_dom_classes": [],
            "_model_module": "@jupyter-widgets/controls",
            "_model_module_version": "1.5.0",
            "_model_name": "HTMLModel",
            "_view_count": null,
            "_view_module": "@jupyter-widgets/controls",
            "_view_module_version": "1.5.0",
            "_view_name": "HTMLView",
            "description": "",
            "description_tooltip": null,
            "layout": "IPY_MODEL_3b34f2d88c3f4d80bf4d13b37a399e22",
            "placeholder": "​",
            "style": "IPY_MODEL_5f918b374360403baf43cdd5d5105f95",
            "value": "Shuffling /root/tensorflow_datasets/imdb_reviews/plain_text/1.0.0.incomplete7VHIMR/imdb_reviews-train.tfrecord*...:  78%"
          }
        },
        "ead299ab55fc4ea5aa2781979e7fd3b3": {
          "model_module": "@jupyter-widgets/controls",
          "model_name": "FloatProgressModel",
          "model_module_version": "1.5.0",
          "state": {
            "_dom_classes": [],
            "_model_module": "@jupyter-widgets/controls",
            "_model_module_version": "1.5.0",
            "_model_name": "FloatProgressModel",
            "_view_count": null,
            "_view_module": "@jupyter-widgets/controls",
            "_view_module_version": "1.5.0",
            "_view_name": "ProgressView",
            "bar_style": "",
            "description": "",
            "description_tooltip": null,
            "layout": "IPY_MODEL_97a49a7b70c6489981aa0c6c1d5f4f79",
            "max": 25000,
            "min": 0,
            "orientation": "horizontal",
            "style": "IPY_MODEL_6aa67fc7baf6403bb9fb5295644ed222",
            "value": 25000
          }
        },
        "ad950b05ba8d43e9975600dc3291eddd": {
          "model_module": "@jupyter-widgets/controls",
          "model_name": "HTMLModel",
          "model_module_version": "1.5.0",
          "state": {
            "_dom_classes": [],
            "_model_module": "@jupyter-widgets/controls",
            "_model_module_version": "1.5.0",
            "_model_name": "HTMLModel",
            "_view_count": null,
            "_view_module": "@jupyter-widgets/controls",
            "_view_module_version": "1.5.0",
            "_view_name": "HTMLView",
            "description": "",
            "description_tooltip": null,
            "layout": "IPY_MODEL_d47efee2e8b449d8ac0199e0417cbfe3",
            "placeholder": "​",
            "style": "IPY_MODEL_46bfef1ad4854a869940a8ec88103bdd",
            "value": " 19549/25000 [00:00&lt;00:00, 105175.28 examples/s]"
          }
        },
        "1ff24322dd3b44fb8f249aabd71440ad": {
          "model_module": "@jupyter-widgets/base",
          "model_name": "LayoutModel",
          "model_module_version": "1.2.0",
          "state": {
            "_model_module": "@jupyter-widgets/base",
            "_model_module_version": "1.2.0",
            "_model_name": "LayoutModel",
            "_view_count": null,
            "_view_module": "@jupyter-widgets/base",
            "_view_module_version": "1.2.0",
            "_view_name": "LayoutView",
            "align_content": null,
            "align_items": null,
            "align_self": null,
            "border": null,
            "bottom": null,
            "display": null,
            "flex": null,
            "flex_flow": null,
            "grid_area": null,
            "grid_auto_columns": null,
            "grid_auto_flow": null,
            "grid_auto_rows": null,
            "grid_column": null,
            "grid_gap": null,
            "grid_row": null,
            "grid_template_areas": null,
            "grid_template_columns": null,
            "grid_template_rows": null,
            "height": null,
            "justify_content": null,
            "justify_items": null,
            "left": null,
            "margin": null,
            "max_height": null,
            "max_width": null,
            "min_height": null,
            "min_width": null,
            "object_fit": null,
            "object_position": null,
            "order": null,
            "overflow": null,
            "overflow_x": null,
            "overflow_y": null,
            "padding": null,
            "right": null,
            "top": null,
            "visibility": "hidden",
            "width": null
          }
        },
        "3b34f2d88c3f4d80bf4d13b37a399e22": {
          "model_module": "@jupyter-widgets/base",
          "model_name": "LayoutModel",
          "model_module_version": "1.2.0",
          "state": {
            "_model_module": "@jupyter-widgets/base",
            "_model_module_version": "1.2.0",
            "_model_name": "LayoutModel",
            "_view_count": null,
            "_view_module": "@jupyter-widgets/base",
            "_view_module_version": "1.2.0",
            "_view_name": "LayoutView",
            "align_content": null,
            "align_items": null,
            "align_self": null,
            "border": null,
            "bottom": null,
            "display": null,
            "flex": null,
            "flex_flow": null,
            "grid_area": null,
            "grid_auto_columns": null,
            "grid_auto_flow": null,
            "grid_auto_rows": null,
            "grid_column": null,
            "grid_gap": null,
            "grid_row": null,
            "grid_template_areas": null,
            "grid_template_columns": null,
            "grid_template_rows": null,
            "height": null,
            "justify_content": null,
            "justify_items": null,
            "left": null,
            "margin": null,
            "max_height": null,
            "max_width": null,
            "min_height": null,
            "min_width": null,
            "object_fit": null,
            "object_position": null,
            "order": null,
            "overflow": null,
            "overflow_x": null,
            "overflow_y": null,
            "padding": null,
            "right": null,
            "top": null,
            "visibility": null,
            "width": null
          }
        },
        "5f918b374360403baf43cdd5d5105f95": {
          "model_module": "@jupyter-widgets/controls",
          "model_name": "DescriptionStyleModel",
          "model_module_version": "1.5.0",
          "state": {
            "_model_module": "@jupyter-widgets/controls",
            "_model_module_version": "1.5.0",
            "_model_name": "DescriptionStyleModel",
            "_view_count": null,
            "_view_module": "@jupyter-widgets/base",
            "_view_module_version": "1.2.0",
            "_view_name": "StyleView",
            "description_width": ""
          }
        },
        "97a49a7b70c6489981aa0c6c1d5f4f79": {
          "model_module": "@jupyter-widgets/base",
          "model_name": "LayoutModel",
          "model_module_version": "1.2.0",
          "state": {
            "_model_module": "@jupyter-widgets/base",
            "_model_module_version": "1.2.0",
            "_model_name": "LayoutModel",
            "_view_count": null,
            "_view_module": "@jupyter-widgets/base",
            "_view_module_version": "1.2.0",
            "_view_name": "LayoutView",
            "align_content": null,
            "align_items": null,
            "align_self": null,
            "border": null,
            "bottom": null,
            "display": null,
            "flex": null,
            "flex_flow": null,
            "grid_area": null,
            "grid_auto_columns": null,
            "grid_auto_flow": null,
            "grid_auto_rows": null,
            "grid_column": null,
            "grid_gap": null,
            "grid_row": null,
            "grid_template_areas": null,
            "grid_template_columns": null,
            "grid_template_rows": null,
            "height": null,
            "justify_content": null,
            "justify_items": null,
            "left": null,
            "margin": null,
            "max_height": null,
            "max_width": null,
            "min_height": null,
            "min_width": null,
            "object_fit": null,
            "object_position": null,
            "order": null,
            "overflow": null,
            "overflow_x": null,
            "overflow_y": null,
            "padding": null,
            "right": null,
            "top": null,
            "visibility": null,
            "width": null
          }
        },
        "6aa67fc7baf6403bb9fb5295644ed222": {
          "model_module": "@jupyter-widgets/controls",
          "model_name": "ProgressStyleModel",
          "model_module_version": "1.5.0",
          "state": {
            "_model_module": "@jupyter-widgets/controls",
            "_model_module_version": "1.5.0",
            "_model_name": "ProgressStyleModel",
            "_view_count": null,
            "_view_module": "@jupyter-widgets/base",
            "_view_module_version": "1.2.0",
            "_view_name": "StyleView",
            "bar_color": null,
            "description_width": ""
          }
        },
        "d47efee2e8b449d8ac0199e0417cbfe3": {
          "model_module": "@jupyter-widgets/base",
          "model_name": "LayoutModel",
          "model_module_version": "1.2.0",
          "state": {
            "_model_module": "@jupyter-widgets/base",
            "_model_module_version": "1.2.0",
            "_model_name": "LayoutModel",
            "_view_count": null,
            "_view_module": "@jupyter-widgets/base",
            "_view_module_version": "1.2.0",
            "_view_name": "LayoutView",
            "align_content": null,
            "align_items": null,
            "align_self": null,
            "border": null,
            "bottom": null,
            "display": null,
            "flex": null,
            "flex_flow": null,
            "grid_area": null,
            "grid_auto_columns": null,
            "grid_auto_flow": null,
            "grid_auto_rows": null,
            "grid_column": null,
            "grid_gap": null,
            "grid_row": null,
            "grid_template_areas": null,
            "grid_template_columns": null,
            "grid_template_rows": null,
            "height": null,
            "justify_content": null,
            "justify_items": null,
            "left": null,
            "margin": null,
            "max_height": null,
            "max_width": null,
            "min_height": null,
            "min_width": null,
            "object_fit": null,
            "object_position": null,
            "order": null,
            "overflow": null,
            "overflow_x": null,
            "overflow_y": null,
            "padding": null,
            "right": null,
            "top": null,
            "visibility": null,
            "width": null
          }
        },
        "46bfef1ad4854a869940a8ec88103bdd": {
          "model_module": "@jupyter-widgets/controls",
          "model_name": "DescriptionStyleModel",
          "model_module_version": "1.5.0",
          "state": {
            "_model_module": "@jupyter-widgets/controls",
            "_model_module_version": "1.5.0",
            "_model_name": "DescriptionStyleModel",
            "_view_count": null,
            "_view_module": "@jupyter-widgets/base",
            "_view_module_version": "1.2.0",
            "_view_name": "StyleView",
            "description_width": ""
          }
        },
        "5e097fb5397f41c38aec9e74cf181dfd": {
          "model_module": "@jupyter-widgets/controls",
          "model_name": "HBoxModel",
          "model_module_version": "1.5.0",
          "state": {
            "_dom_classes": [],
            "_model_module": "@jupyter-widgets/controls",
            "_model_module_version": "1.5.0",
            "_model_name": "HBoxModel",
            "_view_count": null,
            "_view_module": "@jupyter-widgets/controls",
            "_view_module_version": "1.5.0",
            "_view_name": "HBoxView",
            "box_style": "",
            "children": [
              "IPY_MODEL_4df08b11b2c64f8ca8e1cf8e55b021e0",
              "IPY_MODEL_c0f09f57013347a4aef0143d4254f0b5",
              "IPY_MODEL_ef003f3630c24a8bb4591f72c2d502da"
            ],
            "layout": "IPY_MODEL_5ba92442e43945928e52f337ecaabe8c"
          }
        },
        "4df08b11b2c64f8ca8e1cf8e55b021e0": {
          "model_module": "@jupyter-widgets/controls",
          "model_name": "HTMLModel",
          "model_module_version": "1.5.0",
          "state": {
            "_dom_classes": [],
            "_model_module": "@jupyter-widgets/controls",
            "_model_module_version": "1.5.0",
            "_model_name": "HTMLModel",
            "_view_count": null,
            "_view_module": "@jupyter-widgets/controls",
            "_view_module_version": "1.5.0",
            "_view_name": "HTMLView",
            "description": "",
            "description_tooltip": null,
            "layout": "IPY_MODEL_1b99e6a3f09f4ade99097b346b5db963",
            "placeholder": "​",
            "style": "IPY_MODEL_b5fa4e35a9aa494ab70546afcc1f2867",
            "value": "Generating test examples...: "
          }
        },
        "c0f09f57013347a4aef0143d4254f0b5": {
          "model_module": "@jupyter-widgets/controls",
          "model_name": "FloatProgressModel",
          "model_module_version": "1.5.0",
          "state": {
            "_dom_classes": [],
            "_model_module": "@jupyter-widgets/controls",
            "_model_module_version": "1.5.0",
            "_model_name": "FloatProgressModel",
            "_view_count": null,
            "_view_module": "@jupyter-widgets/controls",
            "_view_module_version": "1.5.0",
            "_view_name": "ProgressView",
            "bar_style": "info",
            "description": "",
            "description_tooltip": null,
            "layout": "IPY_MODEL_e710489a14634c17bdc8fee038e91b67",
            "max": 1,
            "min": 0,
            "orientation": "horizontal",
            "style": "IPY_MODEL_7086b424673143208641b3c281c0782a",
            "value": 1
          }
        },
        "ef003f3630c24a8bb4591f72c2d502da": {
          "model_module": "@jupyter-widgets/controls",
          "model_name": "HTMLModel",
          "model_module_version": "1.5.0",
          "state": {
            "_dom_classes": [],
            "_model_module": "@jupyter-widgets/controls",
            "_model_module_version": "1.5.0",
            "_model_name": "HTMLModel",
            "_view_count": null,
            "_view_module": "@jupyter-widgets/controls",
            "_view_module_version": "1.5.0",
            "_view_name": "HTMLView",
            "description": "",
            "description_tooltip": null,
            "layout": "IPY_MODEL_a3c5f42e3408454f898320d61a969e9e",
            "placeholder": "​",
            "style": "IPY_MODEL_5ea55e6341534f3a9ff7121b208fe384",
            "value": " 24858/? [00:09&lt;00:00, 1784.31 examples/s]"
          }
        },
        "5ba92442e43945928e52f337ecaabe8c": {
          "model_module": "@jupyter-widgets/base",
          "model_name": "LayoutModel",
          "model_module_version": "1.2.0",
          "state": {
            "_model_module": "@jupyter-widgets/base",
            "_model_module_version": "1.2.0",
            "_model_name": "LayoutModel",
            "_view_count": null,
            "_view_module": "@jupyter-widgets/base",
            "_view_module_version": "1.2.0",
            "_view_name": "LayoutView",
            "align_content": null,
            "align_items": null,
            "align_self": null,
            "border": null,
            "bottom": null,
            "display": null,
            "flex": null,
            "flex_flow": null,
            "grid_area": null,
            "grid_auto_columns": null,
            "grid_auto_flow": null,
            "grid_auto_rows": null,
            "grid_column": null,
            "grid_gap": null,
            "grid_row": null,
            "grid_template_areas": null,
            "grid_template_columns": null,
            "grid_template_rows": null,
            "height": null,
            "justify_content": null,
            "justify_items": null,
            "left": null,
            "margin": null,
            "max_height": null,
            "max_width": null,
            "min_height": null,
            "min_width": null,
            "object_fit": null,
            "object_position": null,
            "order": null,
            "overflow": null,
            "overflow_x": null,
            "overflow_y": null,
            "padding": null,
            "right": null,
            "top": null,
            "visibility": "hidden",
            "width": null
          }
        },
        "1b99e6a3f09f4ade99097b346b5db963": {
          "model_module": "@jupyter-widgets/base",
          "model_name": "LayoutModel",
          "model_module_version": "1.2.0",
          "state": {
            "_model_module": "@jupyter-widgets/base",
            "_model_module_version": "1.2.0",
            "_model_name": "LayoutModel",
            "_view_count": null,
            "_view_module": "@jupyter-widgets/base",
            "_view_module_version": "1.2.0",
            "_view_name": "LayoutView",
            "align_content": null,
            "align_items": null,
            "align_self": null,
            "border": null,
            "bottom": null,
            "display": null,
            "flex": null,
            "flex_flow": null,
            "grid_area": null,
            "grid_auto_columns": null,
            "grid_auto_flow": null,
            "grid_auto_rows": null,
            "grid_column": null,
            "grid_gap": null,
            "grid_row": null,
            "grid_template_areas": null,
            "grid_template_columns": null,
            "grid_template_rows": null,
            "height": null,
            "justify_content": null,
            "justify_items": null,
            "left": null,
            "margin": null,
            "max_height": null,
            "max_width": null,
            "min_height": null,
            "min_width": null,
            "object_fit": null,
            "object_position": null,
            "order": null,
            "overflow": null,
            "overflow_x": null,
            "overflow_y": null,
            "padding": null,
            "right": null,
            "top": null,
            "visibility": null,
            "width": null
          }
        },
        "b5fa4e35a9aa494ab70546afcc1f2867": {
          "model_module": "@jupyter-widgets/controls",
          "model_name": "DescriptionStyleModel",
          "model_module_version": "1.5.0",
          "state": {
            "_model_module": "@jupyter-widgets/controls",
            "_model_module_version": "1.5.0",
            "_model_name": "DescriptionStyleModel",
            "_view_count": null,
            "_view_module": "@jupyter-widgets/base",
            "_view_module_version": "1.2.0",
            "_view_name": "StyleView",
            "description_width": ""
          }
        },
        "e710489a14634c17bdc8fee038e91b67": {
          "model_module": "@jupyter-widgets/base",
          "model_name": "LayoutModel",
          "model_module_version": "1.2.0",
          "state": {
            "_model_module": "@jupyter-widgets/base",
            "_model_module_version": "1.2.0",
            "_model_name": "LayoutModel",
            "_view_count": null,
            "_view_module": "@jupyter-widgets/base",
            "_view_module_version": "1.2.0",
            "_view_name": "LayoutView",
            "align_content": null,
            "align_items": null,
            "align_self": null,
            "border": null,
            "bottom": null,
            "display": null,
            "flex": null,
            "flex_flow": null,
            "grid_area": null,
            "grid_auto_columns": null,
            "grid_auto_flow": null,
            "grid_auto_rows": null,
            "grid_column": null,
            "grid_gap": null,
            "grid_row": null,
            "grid_template_areas": null,
            "grid_template_columns": null,
            "grid_template_rows": null,
            "height": null,
            "justify_content": null,
            "justify_items": null,
            "left": null,
            "margin": null,
            "max_height": null,
            "max_width": null,
            "min_height": null,
            "min_width": null,
            "object_fit": null,
            "object_position": null,
            "order": null,
            "overflow": null,
            "overflow_x": null,
            "overflow_y": null,
            "padding": null,
            "right": null,
            "top": null,
            "visibility": null,
            "width": "20px"
          }
        },
        "7086b424673143208641b3c281c0782a": {
          "model_module": "@jupyter-widgets/controls",
          "model_name": "ProgressStyleModel",
          "model_module_version": "1.5.0",
          "state": {
            "_model_module": "@jupyter-widgets/controls",
            "_model_module_version": "1.5.0",
            "_model_name": "ProgressStyleModel",
            "_view_count": null,
            "_view_module": "@jupyter-widgets/base",
            "_view_module_version": "1.2.0",
            "_view_name": "StyleView",
            "bar_color": null,
            "description_width": ""
          }
        },
        "a3c5f42e3408454f898320d61a969e9e": {
          "model_module": "@jupyter-widgets/base",
          "model_name": "LayoutModel",
          "model_module_version": "1.2.0",
          "state": {
            "_model_module": "@jupyter-widgets/base",
            "_model_module_version": "1.2.0",
            "_model_name": "LayoutModel",
            "_view_count": null,
            "_view_module": "@jupyter-widgets/base",
            "_view_module_version": "1.2.0",
            "_view_name": "LayoutView",
            "align_content": null,
            "align_items": null,
            "align_self": null,
            "border": null,
            "bottom": null,
            "display": null,
            "flex": null,
            "flex_flow": null,
            "grid_area": null,
            "grid_auto_columns": null,
            "grid_auto_flow": null,
            "grid_auto_rows": null,
            "grid_column": null,
            "grid_gap": null,
            "grid_row": null,
            "grid_template_areas": null,
            "grid_template_columns": null,
            "grid_template_rows": null,
            "height": null,
            "justify_content": null,
            "justify_items": null,
            "left": null,
            "margin": null,
            "max_height": null,
            "max_width": null,
            "min_height": null,
            "min_width": null,
            "object_fit": null,
            "object_position": null,
            "order": null,
            "overflow": null,
            "overflow_x": null,
            "overflow_y": null,
            "padding": null,
            "right": null,
            "top": null,
            "visibility": null,
            "width": null
          }
        },
        "5ea55e6341534f3a9ff7121b208fe384": {
          "model_module": "@jupyter-widgets/controls",
          "model_name": "DescriptionStyleModel",
          "model_module_version": "1.5.0",
          "state": {
            "_model_module": "@jupyter-widgets/controls",
            "_model_module_version": "1.5.0",
            "_model_name": "DescriptionStyleModel",
            "_view_count": null,
            "_view_module": "@jupyter-widgets/base",
            "_view_module_version": "1.2.0",
            "_view_name": "StyleView",
            "description_width": ""
          }
        },
        "20ed6c77149246f5b3a06b8a696b9d7a": {
          "model_module": "@jupyter-widgets/controls",
          "model_name": "HBoxModel",
          "model_module_version": "1.5.0",
          "state": {
            "_dom_classes": [],
            "_model_module": "@jupyter-widgets/controls",
            "_model_module_version": "1.5.0",
            "_model_name": "HBoxModel",
            "_view_count": null,
            "_view_module": "@jupyter-widgets/controls",
            "_view_module_version": "1.5.0",
            "_view_name": "HBoxView",
            "box_style": "",
            "children": [
              "IPY_MODEL_3a2c618dd7654bd2b06e9a15710026b0",
              "IPY_MODEL_425d4de6fc6f4cf19410ba06034cb295",
              "IPY_MODEL_932afb955fbb4cd1bf2b61f5b1b076da"
            ],
            "layout": "IPY_MODEL_f12681e4e3054a4cbc29bd0eba9cd1de"
          }
        },
        "3a2c618dd7654bd2b06e9a15710026b0": {
          "model_module": "@jupyter-widgets/controls",
          "model_name": "HTMLModel",
          "model_module_version": "1.5.0",
          "state": {
            "_dom_classes": [],
            "_model_module": "@jupyter-widgets/controls",
            "_model_module_version": "1.5.0",
            "_model_name": "HTMLModel",
            "_view_count": null,
            "_view_module": "@jupyter-widgets/controls",
            "_view_module_version": "1.5.0",
            "_view_name": "HTMLView",
            "description": "",
            "description_tooltip": null,
            "layout": "IPY_MODEL_7b8f0d9dee2c4e08bd434455e3dfe6d3",
            "placeholder": "​",
            "style": "IPY_MODEL_f3b8e3e520bc419991f5517178d245ad",
            "value": "Shuffling /root/tensorflow_datasets/imdb_reviews/plain_text/1.0.0.incomplete7VHIMR/imdb_reviews-test.tfrecord*...:  34%"
          }
        },
        "425d4de6fc6f4cf19410ba06034cb295": {
          "model_module": "@jupyter-widgets/controls",
          "model_name": "FloatProgressModel",
          "model_module_version": "1.5.0",
          "state": {
            "_dom_classes": [],
            "_model_module": "@jupyter-widgets/controls",
            "_model_module_version": "1.5.0",
            "_model_name": "FloatProgressModel",
            "_view_count": null,
            "_view_module": "@jupyter-widgets/controls",
            "_view_module_version": "1.5.0",
            "_view_name": "ProgressView",
            "bar_style": "",
            "description": "",
            "description_tooltip": null,
            "layout": "IPY_MODEL_6f6ffc836d86471596ecdb1c42bcacc7",
            "max": 25000,
            "min": 0,
            "orientation": "horizontal",
            "style": "IPY_MODEL_4ca63e1886dd474e967d7ea939d77a1d",
            "value": 25000
          }
        },
        "932afb955fbb4cd1bf2b61f5b1b076da": {
          "model_module": "@jupyter-widgets/controls",
          "model_name": "HTMLModel",
          "model_module_version": "1.5.0",
          "state": {
            "_dom_classes": [],
            "_model_module": "@jupyter-widgets/controls",
            "_model_module_version": "1.5.0",
            "_model_name": "HTMLModel",
            "_view_count": null,
            "_view_module": "@jupyter-widgets/controls",
            "_view_module_version": "1.5.0",
            "_view_name": "HTMLView",
            "description": "",
            "description_tooltip": null,
            "layout": "IPY_MODEL_10feb8ac9ebe47589aef4037c28362ae",
            "placeholder": "​",
            "style": "IPY_MODEL_ce28cc5c18c34ca4878671a9fe2f926f",
            "value": " 8572/25000 [00:00&lt;00:00, 85705.78 examples/s]"
          }
        },
        "f12681e4e3054a4cbc29bd0eba9cd1de": {
          "model_module": "@jupyter-widgets/base",
          "model_name": "LayoutModel",
          "model_module_version": "1.2.0",
          "state": {
            "_model_module": "@jupyter-widgets/base",
            "_model_module_version": "1.2.0",
            "_model_name": "LayoutModel",
            "_view_count": null,
            "_view_module": "@jupyter-widgets/base",
            "_view_module_version": "1.2.0",
            "_view_name": "LayoutView",
            "align_content": null,
            "align_items": null,
            "align_self": null,
            "border": null,
            "bottom": null,
            "display": null,
            "flex": null,
            "flex_flow": null,
            "grid_area": null,
            "grid_auto_columns": null,
            "grid_auto_flow": null,
            "grid_auto_rows": null,
            "grid_column": null,
            "grid_gap": null,
            "grid_row": null,
            "grid_template_areas": null,
            "grid_template_columns": null,
            "grid_template_rows": null,
            "height": null,
            "justify_content": null,
            "justify_items": null,
            "left": null,
            "margin": null,
            "max_height": null,
            "max_width": null,
            "min_height": null,
            "min_width": null,
            "object_fit": null,
            "object_position": null,
            "order": null,
            "overflow": null,
            "overflow_x": null,
            "overflow_y": null,
            "padding": null,
            "right": null,
            "top": null,
            "visibility": "hidden",
            "width": null
          }
        },
        "7b8f0d9dee2c4e08bd434455e3dfe6d3": {
          "model_module": "@jupyter-widgets/base",
          "model_name": "LayoutModel",
          "model_module_version": "1.2.0",
          "state": {
            "_model_module": "@jupyter-widgets/base",
            "_model_module_version": "1.2.0",
            "_model_name": "LayoutModel",
            "_view_count": null,
            "_view_module": "@jupyter-widgets/base",
            "_view_module_version": "1.2.0",
            "_view_name": "LayoutView",
            "align_content": null,
            "align_items": null,
            "align_self": null,
            "border": null,
            "bottom": null,
            "display": null,
            "flex": null,
            "flex_flow": null,
            "grid_area": null,
            "grid_auto_columns": null,
            "grid_auto_flow": null,
            "grid_auto_rows": null,
            "grid_column": null,
            "grid_gap": null,
            "grid_row": null,
            "grid_template_areas": null,
            "grid_template_columns": null,
            "grid_template_rows": null,
            "height": null,
            "justify_content": null,
            "justify_items": null,
            "left": null,
            "margin": null,
            "max_height": null,
            "max_width": null,
            "min_height": null,
            "min_width": null,
            "object_fit": null,
            "object_position": null,
            "order": null,
            "overflow": null,
            "overflow_x": null,
            "overflow_y": null,
            "padding": null,
            "right": null,
            "top": null,
            "visibility": null,
            "width": null
          }
        },
        "f3b8e3e520bc419991f5517178d245ad": {
          "model_module": "@jupyter-widgets/controls",
          "model_name": "DescriptionStyleModel",
          "model_module_version": "1.5.0",
          "state": {
            "_model_module": "@jupyter-widgets/controls",
            "_model_module_version": "1.5.0",
            "_model_name": "DescriptionStyleModel",
            "_view_count": null,
            "_view_module": "@jupyter-widgets/base",
            "_view_module_version": "1.2.0",
            "_view_name": "StyleView",
            "description_width": ""
          }
        },
        "6f6ffc836d86471596ecdb1c42bcacc7": {
          "model_module": "@jupyter-widgets/base",
          "model_name": "LayoutModel",
          "model_module_version": "1.2.0",
          "state": {
            "_model_module": "@jupyter-widgets/base",
            "_model_module_version": "1.2.0",
            "_model_name": "LayoutModel",
            "_view_count": null,
            "_view_module": "@jupyter-widgets/base",
            "_view_module_version": "1.2.0",
            "_view_name": "LayoutView",
            "align_content": null,
            "align_items": null,
            "align_self": null,
            "border": null,
            "bottom": null,
            "display": null,
            "flex": null,
            "flex_flow": null,
            "grid_area": null,
            "grid_auto_columns": null,
            "grid_auto_flow": null,
            "grid_auto_rows": null,
            "grid_column": null,
            "grid_gap": null,
            "grid_row": null,
            "grid_template_areas": null,
            "grid_template_columns": null,
            "grid_template_rows": null,
            "height": null,
            "justify_content": null,
            "justify_items": null,
            "left": null,
            "margin": null,
            "max_height": null,
            "max_width": null,
            "min_height": null,
            "min_width": null,
            "object_fit": null,
            "object_position": null,
            "order": null,
            "overflow": null,
            "overflow_x": null,
            "overflow_y": null,
            "padding": null,
            "right": null,
            "top": null,
            "visibility": null,
            "width": null
          }
        },
        "4ca63e1886dd474e967d7ea939d77a1d": {
          "model_module": "@jupyter-widgets/controls",
          "model_name": "ProgressStyleModel",
          "model_module_version": "1.5.0",
          "state": {
            "_model_module": "@jupyter-widgets/controls",
            "_model_module_version": "1.5.0",
            "_model_name": "ProgressStyleModel",
            "_view_count": null,
            "_view_module": "@jupyter-widgets/base",
            "_view_module_version": "1.2.0",
            "_view_name": "StyleView",
            "bar_color": null,
            "description_width": ""
          }
        },
        "10feb8ac9ebe47589aef4037c28362ae": {
          "model_module": "@jupyter-widgets/base",
          "model_name": "LayoutModel",
          "model_module_version": "1.2.0",
          "state": {
            "_model_module": "@jupyter-widgets/base",
            "_model_module_version": "1.2.0",
            "_model_name": "LayoutModel",
            "_view_count": null,
            "_view_module": "@jupyter-widgets/base",
            "_view_module_version": "1.2.0",
            "_view_name": "LayoutView",
            "align_content": null,
            "align_items": null,
            "align_self": null,
            "border": null,
            "bottom": null,
            "display": null,
            "flex": null,
            "flex_flow": null,
            "grid_area": null,
            "grid_auto_columns": null,
            "grid_auto_flow": null,
            "grid_auto_rows": null,
            "grid_column": null,
            "grid_gap": null,
            "grid_row": null,
            "grid_template_areas": null,
            "grid_template_columns": null,
            "grid_template_rows": null,
            "height": null,
            "justify_content": null,
            "justify_items": null,
            "left": null,
            "margin": null,
            "max_height": null,
            "max_width": null,
            "min_height": null,
            "min_width": null,
            "object_fit": null,
            "object_position": null,
            "order": null,
            "overflow": null,
            "overflow_x": null,
            "overflow_y": null,
            "padding": null,
            "right": null,
            "top": null,
            "visibility": null,
            "width": null
          }
        },
        "ce28cc5c18c34ca4878671a9fe2f926f": {
          "model_module": "@jupyter-widgets/controls",
          "model_name": "DescriptionStyleModel",
          "model_module_version": "1.5.0",
          "state": {
            "_model_module": "@jupyter-widgets/controls",
            "_model_module_version": "1.5.0",
            "_model_name": "DescriptionStyleModel",
            "_view_count": null,
            "_view_module": "@jupyter-widgets/base",
            "_view_module_version": "1.2.0",
            "_view_name": "StyleView",
            "description_width": ""
          }
        },
        "304c53435af9449aa2fb9867ca175b13": {
          "model_module": "@jupyter-widgets/controls",
          "model_name": "HBoxModel",
          "model_module_version": "1.5.0",
          "state": {
            "_dom_classes": [],
            "_model_module": "@jupyter-widgets/controls",
            "_model_module_version": "1.5.0",
            "_model_name": "HBoxModel",
            "_view_count": null,
            "_view_module": "@jupyter-widgets/controls",
            "_view_module_version": "1.5.0",
            "_view_name": "HBoxView",
            "box_style": "",
            "children": [
              "IPY_MODEL_da20d28bee8d4583aa93e354fb2f5a88",
              "IPY_MODEL_6c9b872b2f6547fcbfb4360be4daea4d",
              "IPY_MODEL_955b84a559c8460380c21a2ff523358c"
            ],
            "layout": "IPY_MODEL_ea378d7fae0a40058d8d132e68c68181"
          }
        },
        "da20d28bee8d4583aa93e354fb2f5a88": {
          "model_module": "@jupyter-widgets/controls",
          "model_name": "HTMLModel",
          "model_module_version": "1.5.0",
          "state": {
            "_dom_classes": [],
            "_model_module": "@jupyter-widgets/controls",
            "_model_module_version": "1.5.0",
            "_model_name": "HTMLModel",
            "_view_count": null,
            "_view_module": "@jupyter-widgets/controls",
            "_view_module_version": "1.5.0",
            "_view_name": "HTMLView",
            "description": "",
            "description_tooltip": null,
            "layout": "IPY_MODEL_d60e0c9673524b57abd2b51fcd1d8687",
            "placeholder": "​",
            "style": "IPY_MODEL_2665073660ef4e8d8121f2e10b294423",
            "value": "Generating unsupervised examples...: "
          }
        },
        "6c9b872b2f6547fcbfb4360be4daea4d": {
          "model_module": "@jupyter-widgets/controls",
          "model_name": "FloatProgressModel",
          "model_module_version": "1.5.0",
          "state": {
            "_dom_classes": [],
            "_model_module": "@jupyter-widgets/controls",
            "_model_module_version": "1.5.0",
            "_model_name": "FloatProgressModel",
            "_view_count": null,
            "_view_module": "@jupyter-widgets/controls",
            "_view_module_version": "1.5.0",
            "_view_name": "ProgressView",
            "bar_style": "info",
            "description": "",
            "description_tooltip": null,
            "layout": "IPY_MODEL_57e280db7cbd4006ab6e33457b346d67",
            "max": 1,
            "min": 0,
            "orientation": "horizontal",
            "style": "IPY_MODEL_221eb6aa43d44b48b64c351c8e63b141",
            "value": 1
          }
        },
        "955b84a559c8460380c21a2ff523358c": {
          "model_module": "@jupyter-widgets/controls",
          "model_name": "HTMLModel",
          "model_module_version": "1.5.0",
          "state": {
            "_dom_classes": [],
            "_model_module": "@jupyter-widgets/controls",
            "_model_module_version": "1.5.0",
            "_model_name": "HTMLModel",
            "_view_count": null,
            "_view_module": "@jupyter-widgets/controls",
            "_view_module_version": "1.5.0",
            "_view_name": "HTMLView",
            "description": "",
            "description_tooltip": null,
            "layout": "IPY_MODEL_4d140de27edb4d019b8d59d6c5a75477",
            "placeholder": "​",
            "style": "IPY_MODEL_370d43fbf3c341b1a29e65c1497bf7e5",
            "value": " 49830/? [00:15&lt;00:00, 4555.05 examples/s]"
          }
        },
        "ea378d7fae0a40058d8d132e68c68181": {
          "model_module": "@jupyter-widgets/base",
          "model_name": "LayoutModel",
          "model_module_version": "1.2.0",
          "state": {
            "_model_module": "@jupyter-widgets/base",
            "_model_module_version": "1.2.0",
            "_model_name": "LayoutModel",
            "_view_count": null,
            "_view_module": "@jupyter-widgets/base",
            "_view_module_version": "1.2.0",
            "_view_name": "LayoutView",
            "align_content": null,
            "align_items": null,
            "align_self": null,
            "border": null,
            "bottom": null,
            "display": null,
            "flex": null,
            "flex_flow": null,
            "grid_area": null,
            "grid_auto_columns": null,
            "grid_auto_flow": null,
            "grid_auto_rows": null,
            "grid_column": null,
            "grid_gap": null,
            "grid_row": null,
            "grid_template_areas": null,
            "grid_template_columns": null,
            "grid_template_rows": null,
            "height": null,
            "justify_content": null,
            "justify_items": null,
            "left": null,
            "margin": null,
            "max_height": null,
            "max_width": null,
            "min_height": null,
            "min_width": null,
            "object_fit": null,
            "object_position": null,
            "order": null,
            "overflow": null,
            "overflow_x": null,
            "overflow_y": null,
            "padding": null,
            "right": null,
            "top": null,
            "visibility": "hidden",
            "width": null
          }
        },
        "d60e0c9673524b57abd2b51fcd1d8687": {
          "model_module": "@jupyter-widgets/base",
          "model_name": "LayoutModel",
          "model_module_version": "1.2.0",
          "state": {
            "_model_module": "@jupyter-widgets/base",
            "_model_module_version": "1.2.0",
            "_model_name": "LayoutModel",
            "_view_count": null,
            "_view_module": "@jupyter-widgets/base",
            "_view_module_version": "1.2.0",
            "_view_name": "LayoutView",
            "align_content": null,
            "align_items": null,
            "align_self": null,
            "border": null,
            "bottom": null,
            "display": null,
            "flex": null,
            "flex_flow": null,
            "grid_area": null,
            "grid_auto_columns": null,
            "grid_auto_flow": null,
            "grid_auto_rows": null,
            "grid_column": null,
            "grid_gap": null,
            "grid_row": null,
            "grid_template_areas": null,
            "grid_template_columns": null,
            "grid_template_rows": null,
            "height": null,
            "justify_content": null,
            "justify_items": null,
            "left": null,
            "margin": null,
            "max_height": null,
            "max_width": null,
            "min_height": null,
            "min_width": null,
            "object_fit": null,
            "object_position": null,
            "order": null,
            "overflow": null,
            "overflow_x": null,
            "overflow_y": null,
            "padding": null,
            "right": null,
            "top": null,
            "visibility": null,
            "width": null
          }
        },
        "2665073660ef4e8d8121f2e10b294423": {
          "model_module": "@jupyter-widgets/controls",
          "model_name": "DescriptionStyleModel",
          "model_module_version": "1.5.0",
          "state": {
            "_model_module": "@jupyter-widgets/controls",
            "_model_module_version": "1.5.0",
            "_model_name": "DescriptionStyleModel",
            "_view_count": null,
            "_view_module": "@jupyter-widgets/base",
            "_view_module_version": "1.2.0",
            "_view_name": "StyleView",
            "description_width": ""
          }
        },
        "57e280db7cbd4006ab6e33457b346d67": {
          "model_module": "@jupyter-widgets/base",
          "model_name": "LayoutModel",
          "model_module_version": "1.2.0",
          "state": {
            "_model_module": "@jupyter-widgets/base",
            "_model_module_version": "1.2.0",
            "_model_name": "LayoutModel",
            "_view_count": null,
            "_view_module": "@jupyter-widgets/base",
            "_view_module_version": "1.2.0",
            "_view_name": "LayoutView",
            "align_content": null,
            "align_items": null,
            "align_self": null,
            "border": null,
            "bottom": null,
            "display": null,
            "flex": null,
            "flex_flow": null,
            "grid_area": null,
            "grid_auto_columns": null,
            "grid_auto_flow": null,
            "grid_auto_rows": null,
            "grid_column": null,
            "grid_gap": null,
            "grid_row": null,
            "grid_template_areas": null,
            "grid_template_columns": null,
            "grid_template_rows": null,
            "height": null,
            "justify_content": null,
            "justify_items": null,
            "left": null,
            "margin": null,
            "max_height": null,
            "max_width": null,
            "min_height": null,
            "min_width": null,
            "object_fit": null,
            "object_position": null,
            "order": null,
            "overflow": null,
            "overflow_x": null,
            "overflow_y": null,
            "padding": null,
            "right": null,
            "top": null,
            "visibility": null,
            "width": "20px"
          }
        },
        "221eb6aa43d44b48b64c351c8e63b141": {
          "model_module": "@jupyter-widgets/controls",
          "model_name": "ProgressStyleModel",
          "model_module_version": "1.5.0",
          "state": {
            "_model_module": "@jupyter-widgets/controls",
            "_model_module_version": "1.5.0",
            "_model_name": "ProgressStyleModel",
            "_view_count": null,
            "_view_module": "@jupyter-widgets/base",
            "_view_module_version": "1.2.0",
            "_view_name": "StyleView",
            "bar_color": null,
            "description_width": ""
          }
        },
        "4d140de27edb4d019b8d59d6c5a75477": {
          "model_module": "@jupyter-widgets/base",
          "model_name": "LayoutModel",
          "model_module_version": "1.2.0",
          "state": {
            "_model_module": "@jupyter-widgets/base",
            "_model_module_version": "1.2.0",
            "_model_name": "LayoutModel",
            "_view_count": null,
            "_view_module": "@jupyter-widgets/base",
            "_view_module_version": "1.2.0",
            "_view_name": "LayoutView",
            "align_content": null,
            "align_items": null,
            "align_self": null,
            "border": null,
            "bottom": null,
            "display": null,
            "flex": null,
            "flex_flow": null,
            "grid_area": null,
            "grid_auto_columns": null,
            "grid_auto_flow": null,
            "grid_auto_rows": null,
            "grid_column": null,
            "grid_gap": null,
            "grid_row": null,
            "grid_template_areas": null,
            "grid_template_columns": null,
            "grid_template_rows": null,
            "height": null,
            "justify_content": null,
            "justify_items": null,
            "left": null,
            "margin": null,
            "max_height": null,
            "max_width": null,
            "min_height": null,
            "min_width": null,
            "object_fit": null,
            "object_position": null,
            "order": null,
            "overflow": null,
            "overflow_x": null,
            "overflow_y": null,
            "padding": null,
            "right": null,
            "top": null,
            "visibility": null,
            "width": null
          }
        },
        "370d43fbf3c341b1a29e65c1497bf7e5": {
          "model_module": "@jupyter-widgets/controls",
          "model_name": "DescriptionStyleModel",
          "model_module_version": "1.5.0",
          "state": {
            "_model_module": "@jupyter-widgets/controls",
            "_model_module_version": "1.5.0",
            "_model_name": "DescriptionStyleModel",
            "_view_count": null,
            "_view_module": "@jupyter-widgets/base",
            "_view_module_version": "1.2.0",
            "_view_name": "StyleView",
            "description_width": ""
          }
        },
        "e4c8734bcfaf4f4a8c4af753a52e234b": {
          "model_module": "@jupyter-widgets/controls",
          "model_name": "HBoxModel",
          "model_module_version": "1.5.0",
          "state": {
            "_dom_classes": [],
            "_model_module": "@jupyter-widgets/controls",
            "_model_module_version": "1.5.0",
            "_model_name": "HBoxModel",
            "_view_count": null,
            "_view_module": "@jupyter-widgets/controls",
            "_view_module_version": "1.5.0",
            "_view_name": "HBoxView",
            "box_style": "",
            "children": [
              "IPY_MODEL_1ad4f2993f504f6ba1f60fc7c3d5036f",
              "IPY_MODEL_24ff776ed9d2446f8b09ee7f26e797f2",
              "IPY_MODEL_ca6f6984ce8243aab10729da3a29ebda"
            ],
            "layout": "IPY_MODEL_247ad23ea217478db3f62036d3be57bd"
          }
        },
        "1ad4f2993f504f6ba1f60fc7c3d5036f": {
          "model_module": "@jupyter-widgets/controls",
          "model_name": "HTMLModel",
          "model_module_version": "1.5.0",
          "state": {
            "_dom_classes": [],
            "_model_module": "@jupyter-widgets/controls",
            "_model_module_version": "1.5.0",
            "_model_name": "HTMLModel",
            "_view_count": null,
            "_view_module": "@jupyter-widgets/controls",
            "_view_module_version": "1.5.0",
            "_view_name": "HTMLView",
            "description": "",
            "description_tooltip": null,
            "layout": "IPY_MODEL_7c2ce33c2b27427bbeabc27a27ae9ee5",
            "placeholder": "​",
            "style": "IPY_MODEL_e6e806b41eaf48a3a128c3bf65fde9dc",
            "value": "Shuffling /root/tensorflow_datasets/imdb_reviews/plain_text/1.0.0.incomplete7VHIMR/imdb_reviews-unsupervised.tfrecord*...:  89%"
          }
        },
        "24ff776ed9d2446f8b09ee7f26e797f2": {
          "model_module": "@jupyter-widgets/controls",
          "model_name": "FloatProgressModel",
          "model_module_version": "1.5.0",
          "state": {
            "_dom_classes": [],
            "_model_module": "@jupyter-widgets/controls",
            "_model_module_version": "1.5.0",
            "_model_name": "FloatProgressModel",
            "_view_count": null,
            "_view_module": "@jupyter-widgets/controls",
            "_view_module_version": "1.5.0",
            "_view_name": "ProgressView",
            "bar_style": "",
            "description": "",
            "description_tooltip": null,
            "layout": "IPY_MODEL_f122e78f4a6648fda8d7fda0398f65f2",
            "max": 50000,
            "min": 0,
            "orientation": "horizontal",
            "style": "IPY_MODEL_e23bd5dd632848c48403c8e7ec80ddca",
            "value": 50000
          }
        },
        "ca6f6984ce8243aab10729da3a29ebda": {
          "model_module": "@jupyter-widgets/controls",
          "model_name": "HTMLModel",
          "model_module_version": "1.5.0",
          "state": {
            "_dom_classes": [],
            "_model_module": "@jupyter-widgets/controls",
            "_model_module_version": "1.5.0",
            "_model_name": "HTMLModel",
            "_view_count": null,
            "_view_module": "@jupyter-widgets/controls",
            "_view_module_version": "1.5.0",
            "_view_name": "HTMLView",
            "description": "",
            "description_tooltip": null,
            "layout": "IPY_MODEL_4845f9cf9f97475fb79d5390b5436900",
            "placeholder": "​",
            "style": "IPY_MODEL_b7d803933eaa4d0ebe9bcc1e56acd29b",
            "value": " 44656/50000 [00:00&lt;00:00, 167929.36 examples/s]"
          }
        },
        "247ad23ea217478db3f62036d3be57bd": {
          "model_module": "@jupyter-widgets/base",
          "model_name": "LayoutModel",
          "model_module_version": "1.2.0",
          "state": {
            "_model_module": "@jupyter-widgets/base",
            "_model_module_version": "1.2.0",
            "_model_name": "LayoutModel",
            "_view_count": null,
            "_view_module": "@jupyter-widgets/base",
            "_view_module_version": "1.2.0",
            "_view_name": "LayoutView",
            "align_content": null,
            "align_items": null,
            "align_self": null,
            "border": null,
            "bottom": null,
            "display": null,
            "flex": null,
            "flex_flow": null,
            "grid_area": null,
            "grid_auto_columns": null,
            "grid_auto_flow": null,
            "grid_auto_rows": null,
            "grid_column": null,
            "grid_gap": null,
            "grid_row": null,
            "grid_template_areas": null,
            "grid_template_columns": null,
            "grid_template_rows": null,
            "height": null,
            "justify_content": null,
            "justify_items": null,
            "left": null,
            "margin": null,
            "max_height": null,
            "max_width": null,
            "min_height": null,
            "min_width": null,
            "object_fit": null,
            "object_position": null,
            "order": null,
            "overflow": null,
            "overflow_x": null,
            "overflow_y": null,
            "padding": null,
            "right": null,
            "top": null,
            "visibility": "hidden",
            "width": null
          }
        },
        "7c2ce33c2b27427bbeabc27a27ae9ee5": {
          "model_module": "@jupyter-widgets/base",
          "model_name": "LayoutModel",
          "model_module_version": "1.2.0",
          "state": {
            "_model_module": "@jupyter-widgets/base",
            "_model_module_version": "1.2.0",
            "_model_name": "LayoutModel",
            "_view_count": null,
            "_view_module": "@jupyter-widgets/base",
            "_view_module_version": "1.2.0",
            "_view_name": "LayoutView",
            "align_content": null,
            "align_items": null,
            "align_self": null,
            "border": null,
            "bottom": null,
            "display": null,
            "flex": null,
            "flex_flow": null,
            "grid_area": null,
            "grid_auto_columns": null,
            "grid_auto_flow": null,
            "grid_auto_rows": null,
            "grid_column": null,
            "grid_gap": null,
            "grid_row": null,
            "grid_template_areas": null,
            "grid_template_columns": null,
            "grid_template_rows": null,
            "height": null,
            "justify_content": null,
            "justify_items": null,
            "left": null,
            "margin": null,
            "max_height": null,
            "max_width": null,
            "min_height": null,
            "min_width": null,
            "object_fit": null,
            "object_position": null,
            "order": null,
            "overflow": null,
            "overflow_x": null,
            "overflow_y": null,
            "padding": null,
            "right": null,
            "top": null,
            "visibility": null,
            "width": null
          }
        },
        "e6e806b41eaf48a3a128c3bf65fde9dc": {
          "model_module": "@jupyter-widgets/controls",
          "model_name": "DescriptionStyleModel",
          "model_module_version": "1.5.0",
          "state": {
            "_model_module": "@jupyter-widgets/controls",
            "_model_module_version": "1.5.0",
            "_model_name": "DescriptionStyleModel",
            "_view_count": null,
            "_view_module": "@jupyter-widgets/base",
            "_view_module_version": "1.2.0",
            "_view_name": "StyleView",
            "description_width": ""
          }
        },
        "f122e78f4a6648fda8d7fda0398f65f2": {
          "model_module": "@jupyter-widgets/base",
          "model_name": "LayoutModel",
          "model_module_version": "1.2.0",
          "state": {
            "_model_module": "@jupyter-widgets/base",
            "_model_module_version": "1.2.0",
            "_model_name": "LayoutModel",
            "_view_count": null,
            "_view_module": "@jupyter-widgets/base",
            "_view_module_version": "1.2.0",
            "_view_name": "LayoutView",
            "align_content": null,
            "align_items": null,
            "align_self": null,
            "border": null,
            "bottom": null,
            "display": null,
            "flex": null,
            "flex_flow": null,
            "grid_area": null,
            "grid_auto_columns": null,
            "grid_auto_flow": null,
            "grid_auto_rows": null,
            "grid_column": null,
            "grid_gap": null,
            "grid_row": null,
            "grid_template_areas": null,
            "grid_template_columns": null,
            "grid_template_rows": null,
            "height": null,
            "justify_content": null,
            "justify_items": null,
            "left": null,
            "margin": null,
            "max_height": null,
            "max_width": null,
            "min_height": null,
            "min_width": null,
            "object_fit": null,
            "object_position": null,
            "order": null,
            "overflow": null,
            "overflow_x": null,
            "overflow_y": null,
            "padding": null,
            "right": null,
            "top": null,
            "visibility": null,
            "width": null
          }
        },
        "e23bd5dd632848c48403c8e7ec80ddca": {
          "model_module": "@jupyter-widgets/controls",
          "model_name": "ProgressStyleModel",
          "model_module_version": "1.5.0",
          "state": {
            "_model_module": "@jupyter-widgets/controls",
            "_model_module_version": "1.5.0",
            "_model_name": "ProgressStyleModel",
            "_view_count": null,
            "_view_module": "@jupyter-widgets/base",
            "_view_module_version": "1.2.0",
            "_view_name": "StyleView",
            "bar_color": null,
            "description_width": ""
          }
        },
        "4845f9cf9f97475fb79d5390b5436900": {
          "model_module": "@jupyter-widgets/base",
          "model_name": "LayoutModel",
          "model_module_version": "1.2.0",
          "state": {
            "_model_module": "@jupyter-widgets/base",
            "_model_module_version": "1.2.0",
            "_model_name": "LayoutModel",
            "_view_count": null,
            "_view_module": "@jupyter-widgets/base",
            "_view_module_version": "1.2.0",
            "_view_name": "LayoutView",
            "align_content": null,
            "align_items": null,
            "align_self": null,
            "border": null,
            "bottom": null,
            "display": null,
            "flex": null,
            "flex_flow": null,
            "grid_area": null,
            "grid_auto_columns": null,
            "grid_auto_flow": null,
            "grid_auto_rows": null,
            "grid_column": null,
            "grid_gap": null,
            "grid_row": null,
            "grid_template_areas": null,
            "grid_template_columns": null,
            "grid_template_rows": null,
            "height": null,
            "justify_content": null,
            "justify_items": null,
            "left": null,
            "margin": null,
            "max_height": null,
            "max_width": null,
            "min_height": null,
            "min_width": null,
            "object_fit": null,
            "object_position": null,
            "order": null,
            "overflow": null,
            "overflow_x": null,
            "overflow_y": null,
            "padding": null,
            "right": null,
            "top": null,
            "visibility": null,
            "width": null
          }
        },
        "b7d803933eaa4d0ebe9bcc1e56acd29b": {
          "model_module": "@jupyter-widgets/controls",
          "model_name": "DescriptionStyleModel",
          "model_module_version": "1.5.0",
          "state": {
            "_model_module": "@jupyter-widgets/controls",
            "_model_module_version": "1.5.0",
            "_model_name": "DescriptionStyleModel",
            "_view_count": null,
            "_view_module": "@jupyter-widgets/base",
            "_view_module_version": "1.2.0",
            "_view_name": "StyleView",
            "description_width": ""
          }
        }
      }
    }
  },
  "cells": [
    {
      "cell_type": "markdown",
      "metadata": {
        "id": "view-in-github",
        "colab_type": "text"
      },
      "source": [
        "<a href=\"https://colab.research.google.com/github/HagarIbrahiem/NLP-Models/blob/main/IMDB_Reviews_%F0%9F%8E%AC_%F0%9F%A7%90_%7C_Sentiment_Analysis_.ipynb\" target=\"_parent\"><img src=\"https://colab.research.google.com/assets/colab-badge.svg\" alt=\"Open In Colab\"/></a>"
      ]
    },
    {
      "cell_type": "markdown",
      "source": [
        "# About   📌 📎\n",
        "\n",
        "- **Sentiment analysis**, also referred to as opinion mining, is an approach to natural language processing (NLP) that identifies the emotional tone behind a body of text.\n",
        "\n",
        "\n",
        "- In this problem we will be categorizing the movie reviews as either:\n",
        " `positive (1)` or \n",
        " `negative (0).`\n",
        "\n",
        " So, let’s get started. 🏃🏽‍♀️"
      ],
      "metadata": {
        "id": "79HC7WCTDTYb"
      }
    },
    {
      "cell_type": "markdown",
      "source": [
        "# Import Libs 🔨 🛠️ 🔧"
      ],
      "metadata": {
        "id": "7O9-fbPt2Pwl"
      }
    },
    {
      "cell_type": "code",
      "execution_count": null,
      "metadata": {
        "id": "Rzt__BPT1RIb"
      },
      "outputs": [],
      "source": [
        "import os\n",
        "import numpy as np\n",
        "import pandas as pd\n",
        "import matplotlib.pyplot as plt\n",
        "import seaborn as sns\n",
        "%matplotlib inline\n",
        "import plotly.express as px\n",
        "\n",
        "from sklearn.model_selection import train_test_split\n",
        "\n",
        "import re\n",
        "import string\n",
        "import nltk\n",
        "import random\n",
        "import timeit\n",
        "from nltk.stem import WordNetLemmatizer\n",
        "from nltk.corpus import stopwords\n",
        "from nltk.stem.porter import PorterStemmer\n",
        "from nltk.tokenize import word_tokenize\n",
        "from collections import Counter\n",
        "from wordcloud import WordCloud\n",
        "\n",
        "from sklearn.feature_extraction.text import TfidfVectorizer\n",
        "from sklearn.pipeline import Pipeline\n",
        "# from sklearn.metrics import accuracy_score,confusion_matrix,classification_report,plot_confusion_matrix\n",
        "from sklearn.feature_extraction.text import CountVectorizer,TfidfTransformer\n",
        "from sklearn.naive_bayes import MultinomialNB\n",
        "from sklearn.naive_bayes import BernoulliNB\n",
        "from sklearn.ensemble import RandomForestClassifier\n",
        "from sklearn.ensemble import GradientBoostingClassifier\n",
        "from xgboost import XGBClassifier\n",
        "from sklearn.ensemble import AdaBoostClassifier\n",
        "from sklearn.tree import DecisionTreeClassifier\n",
        "from sklearn.svm import SVC\n",
        "from sklearn.linear_model import LogisticRegression\n",
        "from tqdm.auto import tqdm\n",
        "\n",
        "from keras.preprocessing.text import Tokenizer\n",
        "from tensorflow.keras.preprocessing.sequence import pad_sequences\n",
        "from keras.models import Sequential\n",
        "from keras.layers import Dense,Dropout\n",
        "\n",
        "import tensorflow as tf\n",
        "from tensorflow import keras\n",
        "import tensorflow_datasets as tfds\n",
        "from IPython.core.display import HTML,display\n",
        "from nltk.tokenize.toktok import ToktokTokenizer\n",
        "from bs4 import BeautifulSoup\n",
        "import nltk"
      ]
    },
    {
      "cell_type": "code",
      "source": [
        "nltk.download('stopwords')"
      ],
      "metadata": {
        "id": "ZK40poT_ZZBN",
        "outputId": "67902ba4-a7c6-412f-88c6-a162dce8753b",
        "colab": {
          "base_uri": "https://localhost:8080/"
        }
      },
      "execution_count": null,
      "outputs": [
        {
          "output_type": "stream",
          "name": "stderr",
          "text": [
            "[nltk_data] Downloading package stopwords to /root/nltk_data...\n",
            "[nltk_data]   Unzipping corpora/stopwords.zip.\n"
          ]
        },
        {
          "output_type": "execute_result",
          "data": {
            "text/plain": [
              "True"
            ]
          },
          "metadata": {},
          "execution_count": 26
        }
      ]
    },
    {
      "cell_type": "code",
      "source": [
        "# define constants\n",
        "TRAINING_SIZE = 20000\n",
        "RANDOM_STATE =42"
      ],
      "metadata": {
        "id": "UZPNjZyO2sBi"
      },
      "execution_count": null,
      "outputs": []
    },
    {
      "cell_type": "markdown",
      "source": [
        "# Load Data 🔋 🛒"
      ],
      "metadata": {
        "id": "TfMoMRm22WsL"
      }
    },
    {
      "cell_type": "code",
      "source": [
        "\n",
        "# Load the IMDB Reviews dataset\n",
        "imdb, info = tfds.load(\"imdb_reviews\", with_info=True, as_supervised=True)"
      ],
      "metadata": {
        "colab": {
          "base_uri": "https://localhost:8080/",
          "height": 137,
          "referenced_widgets": [
            "d45d91749341486da0c1f2c2b4fb1139",
            "ec8826e6cc6040ff8e8e92140e30facb",
            "1211e52024514eeaa57e289e6fd5529e",
            "d988f905672e4411a72e06c883f4dbb7",
            "fab7602dc2974288af72fcb2c62b4cd1",
            "e65538a7dfb3478fb09922c3aeef18c1",
            "84ecd5e6de1e4c31a3299aa1341b9ed8",
            "d1e5bdd9610044cd96a607434b4a1493",
            "18220336e0ae4fdd984579b294d8b939",
            "46149482378d4c60977b441ff849deb9",
            "b948b349d7f94f5ba031a5f4dd1bc6b5",
            "4e82e563f1a74fd8ac1eb68d12282eef",
            "0a44b61e764d442cb404d39351b6d75f",
            "ee0ed215a823420cafef52b6a34f15a8",
            "fa6af7ecec624c05a9aa2d6616d6487d",
            "0db8624352ca4a2f983e30a8f25ad03e",
            "e7ee1ea4f86940eb98e38a2acd925109",
            "4adba1fc07e44b6ab9cf257274b03508",
            "909c60e2e6b240c6a6de8e04513aa46f",
            "fa032e10a71442da8fc06570b12344b9",
            "938026d78d8147caae6ca8d01d2bc1c2",
            "08003166e0f0492da501791beffd0453",
            "424578f4ea9f4787a44a23d783125fea",
            "9b319165432046b79a6d489e49aacbc7",
            "f8980de7f50b4b8aa116152fcac9f337",
            "e27bbf6f149c4a93965c0cb00e806696",
            "57a8ab31cea0491c91f59e11d1c0d8f8",
            "9c2319a2ed744e28b3a585a9673481b0",
            "0e6598963eb247a2ac9683a68714622d",
            "32205160a9a94392bf754efcfe2c2e81",
            "841a1c604d0546b6946eae1761f43d0f",
            "0538fce3533040b9b144b5fd4403dc04",
            "5e586f5381924de194f11b0680994bd8",
            "8622cb0556e64207bf48000be31072ba",
            "44345a6417534f179cc34a23a8c226d6",
            "b658d72e55f44050aa9fa418e4218048",
            "bc11cc6bc27046069a04f268990c8a34",
            "0ba0576f61f746e48fb6137c7ec52af1",
            "f7a85abb2e714b01a649094733610352",
            "453654a68f744555ac148d4a3a18f205",
            "2e70d3d7d3cd490b85936c11330eae2f",
            "f25b3e4c8a924888902d28f01c947cf8",
            "d2b99fb7160d48a49c4dae606677b6fa",
            "67db1937f7eb4fd09aebcbeae67dd9b1",
            "c58e660833734be48826e2ce7bac7a61",
            "484b6d8743724a7da1e62f1c21a27164",
            "ead299ab55fc4ea5aa2781979e7fd3b3",
            "ad950b05ba8d43e9975600dc3291eddd",
            "1ff24322dd3b44fb8f249aabd71440ad",
            "3b34f2d88c3f4d80bf4d13b37a399e22",
            "5f918b374360403baf43cdd5d5105f95",
            "97a49a7b70c6489981aa0c6c1d5f4f79",
            "6aa67fc7baf6403bb9fb5295644ed222",
            "d47efee2e8b449d8ac0199e0417cbfe3",
            "46bfef1ad4854a869940a8ec88103bdd",
            "5e097fb5397f41c38aec9e74cf181dfd",
            "4df08b11b2c64f8ca8e1cf8e55b021e0",
            "c0f09f57013347a4aef0143d4254f0b5",
            "ef003f3630c24a8bb4591f72c2d502da",
            "5ba92442e43945928e52f337ecaabe8c",
            "1b99e6a3f09f4ade99097b346b5db963",
            "b5fa4e35a9aa494ab70546afcc1f2867",
            "e710489a14634c17bdc8fee038e91b67",
            "7086b424673143208641b3c281c0782a",
            "a3c5f42e3408454f898320d61a969e9e",
            "5ea55e6341534f3a9ff7121b208fe384",
            "20ed6c77149246f5b3a06b8a696b9d7a",
            "3a2c618dd7654bd2b06e9a15710026b0",
            "425d4de6fc6f4cf19410ba06034cb295",
            "932afb955fbb4cd1bf2b61f5b1b076da",
            "f12681e4e3054a4cbc29bd0eba9cd1de",
            "7b8f0d9dee2c4e08bd434455e3dfe6d3",
            "f3b8e3e520bc419991f5517178d245ad",
            "6f6ffc836d86471596ecdb1c42bcacc7",
            "4ca63e1886dd474e967d7ea939d77a1d",
            "10feb8ac9ebe47589aef4037c28362ae",
            "ce28cc5c18c34ca4878671a9fe2f926f",
            "304c53435af9449aa2fb9867ca175b13",
            "da20d28bee8d4583aa93e354fb2f5a88",
            "6c9b872b2f6547fcbfb4360be4daea4d",
            "955b84a559c8460380c21a2ff523358c",
            "ea378d7fae0a40058d8d132e68c68181",
            "d60e0c9673524b57abd2b51fcd1d8687",
            "2665073660ef4e8d8121f2e10b294423",
            "57e280db7cbd4006ab6e33457b346d67",
            "221eb6aa43d44b48b64c351c8e63b141",
            "4d140de27edb4d019b8d59d6c5a75477",
            "370d43fbf3c341b1a29e65c1497bf7e5",
            "e4c8734bcfaf4f4a8c4af753a52e234b",
            "1ad4f2993f504f6ba1f60fc7c3d5036f",
            "24ff776ed9d2446f8b09ee7f26e797f2",
            "ca6f6984ce8243aab10729da3a29ebda",
            "247ad23ea217478db3f62036d3be57bd",
            "7c2ce33c2b27427bbeabc27a27ae9ee5",
            "e6e806b41eaf48a3a128c3bf65fde9dc",
            "f122e78f4a6648fda8d7fda0398f65f2",
            "e23bd5dd632848c48403c8e7ec80ddca",
            "4845f9cf9f97475fb79d5390b5436900",
            "b7d803933eaa4d0ebe9bcc1e56acd29b"
          ]
        },
        "id": "8tT-KzrK2SMu",
        "outputId": "3b9cc991-4ee7-494a-e298-7486ea2b1755"
      },
      "execution_count": null,
      "outputs": [
        {
          "output_type": "stream",
          "name": "stdout",
          "text": [
            "Downloading and preparing dataset Unknown size (download: Unknown size, generated: Unknown size, total: Unknown size) to /root/tensorflow_datasets/imdb_reviews/plain_text/1.0.0...\n"
          ]
        },
        {
          "output_type": "display_data",
          "data": {
            "text/plain": [
              "Dl Completed...: 0 url [00:00, ? url/s]"
            ],
            "application/vnd.jupyter.widget-view+json": {
              "version_major": 2,
              "version_minor": 0,
              "model_id": "d45d91749341486da0c1f2c2b4fb1139"
            }
          },
          "metadata": {}
        },
        {
          "output_type": "display_data",
          "data": {
            "text/plain": [
              "Dl Size...: 0 MiB [00:00, ? MiB/s]"
            ],
            "application/vnd.jupyter.widget-view+json": {
              "version_major": 2,
              "version_minor": 0,
              "model_id": "4e82e563f1a74fd8ac1eb68d12282eef"
            }
          },
          "metadata": {}
        },
        {
          "output_type": "display_data",
          "data": {
            "text/plain": [
              "Generating splits...:   0%|          | 0/3 [00:00<?, ? splits/s]"
            ],
            "application/vnd.jupyter.widget-view+json": {
              "version_major": 2,
              "version_minor": 0,
              "model_id": "424578f4ea9f4787a44a23d783125fea"
            }
          },
          "metadata": {}
        },
        {
          "output_type": "display_data",
          "data": {
            "text/plain": [
              "Generating train examples...: 0 examples [00:00, ? examples/s]"
            ],
            "application/vnd.jupyter.widget-view+json": {
              "version_major": 2,
              "version_minor": 0,
              "model_id": "8622cb0556e64207bf48000be31072ba"
            }
          },
          "metadata": {}
        },
        {
          "output_type": "display_data",
          "data": {
            "text/plain": [
              "Shuffling /root/tensorflow_datasets/imdb_reviews/plain_text/1.0.0.incomplete7VHIMR/imdb_reviews-train.tfrecord…"
            ],
            "application/vnd.jupyter.widget-view+json": {
              "version_major": 2,
              "version_minor": 0,
              "model_id": "c58e660833734be48826e2ce7bac7a61"
            }
          },
          "metadata": {}
        },
        {
          "output_type": "display_data",
          "data": {
            "text/plain": [
              "Generating test examples...: 0 examples [00:00, ? examples/s]"
            ],
            "application/vnd.jupyter.widget-view+json": {
              "version_major": 2,
              "version_minor": 0,
              "model_id": "5e097fb5397f41c38aec9e74cf181dfd"
            }
          },
          "metadata": {}
        },
        {
          "output_type": "display_data",
          "data": {
            "text/plain": [
              "Shuffling /root/tensorflow_datasets/imdb_reviews/plain_text/1.0.0.incomplete7VHIMR/imdb_reviews-test.tfrecord*…"
            ],
            "application/vnd.jupyter.widget-view+json": {
              "version_major": 2,
              "version_minor": 0,
              "model_id": "20ed6c77149246f5b3a06b8a696b9d7a"
            }
          },
          "metadata": {}
        },
        {
          "output_type": "display_data",
          "data": {
            "text/plain": [
              "Generating unsupervised examples...: 0 examples [00:00, ? examples/s]"
            ],
            "application/vnd.jupyter.widget-view+json": {
              "version_major": 2,
              "version_minor": 0,
              "model_id": "304c53435af9449aa2fb9867ca175b13"
            }
          },
          "metadata": {}
        },
        {
          "output_type": "display_data",
          "data": {
            "text/plain": [
              "Shuffling /root/tensorflow_datasets/imdb_reviews/plain_text/1.0.0.incomplete7VHIMR/imdb_reviews-unsupervised.t…"
            ],
            "application/vnd.jupyter.widget-view+json": {
              "version_major": 2,
              "version_minor": 0,
              "model_id": "e4c8734bcfaf4f4a8c4af753a52e234b"
            }
          },
          "metadata": {}
        },
        {
          "output_type": "stream",
          "name": "stdout",
          "text": [
            "Dataset imdb_reviews downloaded and prepared to /root/tensorflow_datasets/imdb_reviews/plain_text/1.0.0. Subsequent calls will reuse this data.\n"
          ]
        }
      ]
    },
    {
      "cell_type": "code",
      "source": [
        "# Print information about the dataset\n",
        "print(info)"
      ],
      "metadata": {
        "colab": {
          "base_uri": "https://localhost:8080/"
        },
        "id": "WEgKWe5g2TFK",
        "outputId": "e2d0914f-3eec-4f14-85be-519c8135dc3b"
      },
      "execution_count": null,
      "outputs": [
        {
          "output_type": "stream",
          "name": "stdout",
          "text": [
            "tfds.core.DatasetInfo(\n",
            "    name='imdb_reviews',\n",
            "    full_name='imdb_reviews/plain_text/1.0.0',\n",
            "    description=\"\"\"\n",
            "    Large Movie Review Dataset. This is a dataset for binary sentiment\n",
            "    classification containing substantially more data than previous benchmark\n",
            "    datasets. We provide a set of 25,000 highly polar movie reviews for training,\n",
            "    and 25,000 for testing. There is additional unlabeled data for use as well.\n",
            "    \"\"\",\n",
            "    config_description=\"\"\"\n",
            "    Plain text\n",
            "    \"\"\",\n",
            "    homepage='http://ai.stanford.edu/~amaas/data/sentiment/',\n",
            "    data_path='/root/tensorflow_datasets/imdb_reviews/plain_text/1.0.0',\n",
            "    file_format=tfrecord,\n",
            "    download_size=80.23 MiB,\n",
            "    dataset_size=129.83 MiB,\n",
            "    features=FeaturesDict({\n",
            "        'label': ClassLabel(shape=(), dtype=int64, num_classes=2),\n",
            "        'text': Text(shape=(), dtype=string),\n",
            "    }),\n",
            "    supervised_keys=('text', 'label'),\n",
            "    disable_shuffling=False,\n",
            "    splits={\n",
            "        'test': <SplitInfo num_examples=25000, num_shards=1>,\n",
            "        'train': <SplitInfo num_examples=25000, num_shards=1>,\n",
            "        'unsupervised': <SplitInfo num_examples=50000, num_shards=1>,\n",
            "    },\n",
            "    citation=\"\"\"@InProceedings{maas-EtAl:2011:ACL-HLT2011,\n",
            "      author    = {Maas, Andrew L.  and  Daly, Raymond E.  and  Pham, Peter T.  and  Huang, Dan  and  Ng, Andrew Y.  and  Potts, Christopher},\n",
            "      title     = {Learning Word Vectors for Sentiment Analysis},\n",
            "      booktitle = {Proceedings of the 49th Annual Meeting of the Association for Computational Linguistics: Human Language Technologies},\n",
            "      month     = {June},\n",
            "      year      = {2011},\n",
            "      address   = {Portland, Oregon, USA},\n",
            "      publisher = {Association for Computational Linguistics},\n",
            "      pages     = {142--150},\n",
            "      url       = {http://www.aclweb.org/anthology/P11-1015}\n",
            "    }\"\"\",\n",
            ")\n"
          ]
        }
      ]
    },
    {
      "cell_type": "markdown",
      "source": [
        "**Inference** : We can see in the output above, there is a total of 100,000 examples in the dataset and it is split into `train`, `test` and `unsupervised` sets. We will only use `train`, `test` sets"
      ],
      "metadata": {
        "id": "qF1yh5LpYcsi"
      }
    },
    {
      "cell_type": "code",
      "source": [
        "# Print the contents of the dataset you downloaded\n",
        "print(imdb)"
      ],
      "metadata": {
        "colab": {
          "base_uri": "https://localhost:8080/"
        },
        "id": "mwppYahS3Jy5",
        "outputId": "fe21c779-7472-4c26-81f1-0cb62357c4ee"
      },
      "execution_count": null,
      "outputs": [
        {
          "output_type": "stream",
          "name": "stdout",
          "text": [
            "{Split('train'): <_PrefetchDataset element_spec=(TensorSpec(shape=(), dtype=tf.string, name=None), TensorSpec(shape=(), dtype=tf.int64, name=None))>, Split('test'): <_PrefetchDataset element_spec=(TensorSpec(shape=(), dtype=tf.string, name=None), TensorSpec(shape=(), dtype=tf.int64, name=None))>, Split('unsupervised'): <_PrefetchDataset element_spec=(TensorSpec(shape=(), dtype=tf.string, name=None), TensorSpec(shape=(), dtype=tf.int64, name=None))>}\n"
          ]
        }
      ]
    },
    {
      "cell_type": "code",
      "source": [
        "# Take 2 training examples and print its contents\n",
        "for example in imdb['train'].take(2):\n",
        "  print(example)"
      ],
      "metadata": {
        "colab": {
          "base_uri": "https://localhost:8080/"
        },
        "id": "bmSjO2-K2TIO",
        "outputId": "bb11011b-c86c-4985-a6d8-6ccd1d66cf0b"
      },
      "execution_count": null,
      "outputs": [
        {
          "output_type": "stream",
          "name": "stdout",
          "text": [
            "(<tf.Tensor: shape=(), dtype=string, numpy=b\"This was an absolutely terrible movie. Don't be lured in by Christopher Walken or Michael Ironside. Both are great actors, but this must simply be their worst role in history. Even their great acting could not redeem this movie's ridiculous storyline. This movie is an early nineties US propaganda piece. The most pathetic scenes were those when the Columbian rebels were making their cases for revolutions. Maria Conchita Alonso appeared phony, and her pseudo-love affair with Walken was nothing but a pathetic emotional plug in a movie that was devoid of any real meaning. I am disappointed that there are movies like this, ruining actor's like Christopher Walken's good name. I could barely sit through it.\">, <tf.Tensor: shape=(), dtype=int64, numpy=0>)\n",
            "(<tf.Tensor: shape=(), dtype=string, numpy=b'I have been known to fall asleep during films, but this is usually due to a combination of things including, really tired, being warm and comfortable on the sette and having just eaten a lot. However on this occasion I fell asleep because the film was rubbish. The plot development was constant. Constantly slow and boring. Things seemed to happen, but with no explanation of what was causing them or why. I admit, I may have missed part of the film, but i watched the majority of it and everything just seemed to happen of its own accord without any real concern for anything else. I cant recommend this film at all.'>, <tf.Tensor: shape=(), dtype=int64, numpy=0>)\n"
          ]
        }
      ]
    },
    {
      "cell_type": "code",
      "source": [
        "#split data into (Features and Target)\n",
        "def split_data (DATA_SET):\n",
        "\n",
        "    # Initialize sentences and labels lists\n",
        "    sentences = []\n",
        "    labels = []\n",
        "\n",
        "    # Loop over all  examples and save the sentences and labels\n",
        "    for s,l in DATA_SET:\n",
        "      sentences.append(s.numpy().decode('utf8'))\n",
        "      labels.append(l.numpy())\n",
        "\n",
        "    # Convert labels lists to numpy array\n",
        "    labels_final = np.array(labels)\n",
        "\n",
        "    return sentences, labels_final\n",
        "\n",
        "    \n",
        "train_sentences , train_labels  = split_data(imdb['train'])\n",
        "test_sentences , test_labels = split_data(imdb['test'])"
      ],
      "metadata": {
        "id": "iSCF_Ngk2TLZ"
      },
      "execution_count": null,
      "outputs": []
    },
    {
      "cell_type": "code",
      "source": [
        "print (train_labels)"
      ],
      "metadata": {
        "colab": {
          "base_uri": "https://localhost:8080/"
        },
        "id": "lrKm-kkw2TSL",
        "outputId": "78520866-7d94-4b2d-9127-a09b790231fa"
      },
      "execution_count": null,
      "outputs": [
        {
          "output_type": "stream",
          "name": "stdout",
          "text": [
            "[0 0 0 ... 0 0 1]\n"
          ]
        }
      ]
    },
    {
      "cell_type": "code",
      "source": [
        "df = pd.DataFrame(list(zip(train_sentences , train_labels )), columns =['text', 'label'] )\n",
        "df.head()"
      ],
      "metadata": {
        "colab": {
          "base_uri": "https://localhost:8080/",
          "height": 206
        },
        "id": "XQxGyOHE2TZQ",
        "outputId": "a06c9895-7f2e-479a-a5fc-eeffbef87c6c"
      },
      "execution_count": null,
      "outputs": [
        {
          "output_type": "execute_result",
          "data": {
            "text/plain": [
              "                                                text  label\n",
              "0  This was an absolutely terrible movie. Don't b...      0\n",
              "1  I have been known to fall asleep during films,...      0\n",
              "2  Mann photographs the Alberta Rocky Mountains i...      0\n",
              "3  This is the kind of film for a snowy Sunday af...      1\n",
              "4  As others have mentioned, all the women that g...      1"
            ],
            "text/html": [
              "\n",
              "  <div id=\"df-04a6a3aa-d23d-404d-b1cf-c7fe47aa46b8\">\n",
              "    <div class=\"colab-df-container\">\n",
              "      <div>\n",
              "<style scoped>\n",
              "    .dataframe tbody tr th:only-of-type {\n",
              "        vertical-align: middle;\n",
              "    }\n",
              "\n",
              "    .dataframe tbody tr th {\n",
              "        vertical-align: top;\n",
              "    }\n",
              "\n",
              "    .dataframe thead th {\n",
              "        text-align: right;\n",
              "    }\n",
              "</style>\n",
              "<table border=\"1\" class=\"dataframe\">\n",
              "  <thead>\n",
              "    <tr style=\"text-align: right;\">\n",
              "      <th></th>\n",
              "      <th>text</th>\n",
              "      <th>label</th>\n",
              "    </tr>\n",
              "  </thead>\n",
              "  <tbody>\n",
              "    <tr>\n",
              "      <th>0</th>\n",
              "      <td>This was an absolutely terrible movie. Don't b...</td>\n",
              "      <td>0</td>\n",
              "    </tr>\n",
              "    <tr>\n",
              "      <th>1</th>\n",
              "      <td>I have been known to fall asleep during films,...</td>\n",
              "      <td>0</td>\n",
              "    </tr>\n",
              "    <tr>\n",
              "      <th>2</th>\n",
              "      <td>Mann photographs the Alberta Rocky Mountains i...</td>\n",
              "      <td>0</td>\n",
              "    </tr>\n",
              "    <tr>\n",
              "      <th>3</th>\n",
              "      <td>This is the kind of film for a snowy Sunday af...</td>\n",
              "      <td>1</td>\n",
              "    </tr>\n",
              "    <tr>\n",
              "      <th>4</th>\n",
              "      <td>As others have mentioned, all the women that g...</td>\n",
              "      <td>1</td>\n",
              "    </tr>\n",
              "  </tbody>\n",
              "</table>\n",
              "</div>\n",
              "      <button class=\"colab-df-convert\" onclick=\"convertToInteractive('df-04a6a3aa-d23d-404d-b1cf-c7fe47aa46b8')\"\n",
              "              title=\"Convert this dataframe to an interactive table.\"\n",
              "              style=\"display:none;\">\n",
              "        \n",
              "  <svg xmlns=\"http://www.w3.org/2000/svg\" height=\"24px\"viewBox=\"0 0 24 24\"\n",
              "       width=\"24px\">\n",
              "    <path d=\"M0 0h24v24H0V0z\" fill=\"none\"/>\n",
              "    <path d=\"M18.56 5.44l.94 2.06.94-2.06 2.06-.94-2.06-.94-.94-2.06-.94 2.06-2.06.94zm-11 1L8.5 8.5l.94-2.06 2.06-.94-2.06-.94L8.5 2.5l-.94 2.06-2.06.94zm10 10l.94 2.06.94-2.06 2.06-.94-2.06-.94-.94-2.06-.94 2.06-2.06.94z\"/><path d=\"M17.41 7.96l-1.37-1.37c-.4-.4-.92-.59-1.43-.59-.52 0-1.04.2-1.43.59L10.3 9.45l-7.72 7.72c-.78.78-.78 2.05 0 2.83L4 21.41c.39.39.9.59 1.41.59.51 0 1.02-.2 1.41-.59l7.78-7.78 2.81-2.81c.8-.78.8-2.07 0-2.86zM5.41 20L4 18.59l7.72-7.72 1.47 1.35L5.41 20z\"/>\n",
              "  </svg>\n",
              "      </button>\n",
              "      \n",
              "  <style>\n",
              "    .colab-df-container {\n",
              "      display:flex;\n",
              "      flex-wrap:wrap;\n",
              "      gap: 12px;\n",
              "    }\n",
              "\n",
              "    .colab-df-convert {\n",
              "      background-color: #E8F0FE;\n",
              "      border: none;\n",
              "      border-radius: 50%;\n",
              "      cursor: pointer;\n",
              "      display: none;\n",
              "      fill: #1967D2;\n",
              "      height: 32px;\n",
              "      padding: 0 0 0 0;\n",
              "      width: 32px;\n",
              "    }\n",
              "\n",
              "    .colab-df-convert:hover {\n",
              "      background-color: #E2EBFA;\n",
              "      box-shadow: 0px 1px 2px rgba(60, 64, 67, 0.3), 0px 1px 3px 1px rgba(60, 64, 67, 0.15);\n",
              "      fill: #174EA6;\n",
              "    }\n",
              "\n",
              "    [theme=dark] .colab-df-convert {\n",
              "      background-color: #3B4455;\n",
              "      fill: #D2E3FC;\n",
              "    }\n",
              "\n",
              "    [theme=dark] .colab-df-convert:hover {\n",
              "      background-color: #434B5C;\n",
              "      box-shadow: 0px 1px 3px 1px rgba(0, 0, 0, 0.15);\n",
              "      filter: drop-shadow(0px 1px 2px rgba(0, 0, 0, 0.3));\n",
              "      fill: #FFFFFF;\n",
              "    }\n",
              "  </style>\n",
              "\n",
              "      <script>\n",
              "        const buttonEl =\n",
              "          document.querySelector('#df-04a6a3aa-d23d-404d-b1cf-c7fe47aa46b8 button.colab-df-convert');\n",
              "        buttonEl.style.display =\n",
              "          google.colab.kernel.accessAllowed ? 'block' : 'none';\n",
              "\n",
              "        async function convertToInteractive(key) {\n",
              "          const element = document.querySelector('#df-04a6a3aa-d23d-404d-b1cf-c7fe47aa46b8');\n",
              "          const dataTable =\n",
              "            await google.colab.kernel.invokeFunction('convertToInteractive',\n",
              "                                                     [key], {});\n",
              "          if (!dataTable) return;\n",
              "\n",
              "          const docLinkHtml = 'Like what you see? Visit the ' +\n",
              "            '<a target=\"_blank\" href=https://colab.research.google.com/notebooks/data_table.ipynb>data table notebook</a>'\n",
              "            + ' to learn more about interactive tables.';\n",
              "          element.innerHTML = '';\n",
              "          dataTable['output_type'] = 'display_data';\n",
              "          await google.colab.output.renderOutput(dataTable, element);\n",
              "          const docLink = document.createElement('div');\n",
              "          docLink.innerHTML = docLinkHtml;\n",
              "          element.appendChild(docLink);\n",
              "        }\n",
              "      </script>\n",
              "    </div>\n",
              "  </div>\n",
              "  "
            ]
          },
          "metadata": {},
          "execution_count": 10
        }
      ]
    },
    {
      "cell_type": "code",
      "source": [
        "test_df = pd.DataFrame(list(zip(test_sentences , test_labels )), columns =['text', 'label'] )\n",
        "test_df.head()"
      ],
      "metadata": {
        "colab": {
          "base_uri": "https://localhost:8080/",
          "height": 206
        },
        "id": "SmQmqRz4O7r0",
        "outputId": "0bd3d183-199a-49bf-8e23-5d00212ac8a0"
      },
      "execution_count": null,
      "outputs": [
        {
          "output_type": "execute_result",
          "data": {
            "text/plain": [
              "                                                text  label\n",
              "0  There are films that make careers. For George ...      1\n",
              "1  A blackly comic tale of a down-trodden priest,...      1\n",
              "2  Scary Movie 1-4, Epic Movie, Date Movie, Meet ...      0\n",
              "3  Poor Shirley MacLaine tries hard to lend some ...      0\n",
              "4  As a former Erasmus student I enjoyed this fil...      1"
            ],
            "text/html": [
              "\n",
              "  <div id=\"df-3ea9a5c1-c97f-42b2-827c-7b8cf21e9041\">\n",
              "    <div class=\"colab-df-container\">\n",
              "      <div>\n",
              "<style scoped>\n",
              "    .dataframe tbody tr th:only-of-type {\n",
              "        vertical-align: middle;\n",
              "    }\n",
              "\n",
              "    .dataframe tbody tr th {\n",
              "        vertical-align: top;\n",
              "    }\n",
              "\n",
              "    .dataframe thead th {\n",
              "        text-align: right;\n",
              "    }\n",
              "</style>\n",
              "<table border=\"1\" class=\"dataframe\">\n",
              "  <thead>\n",
              "    <tr style=\"text-align: right;\">\n",
              "      <th></th>\n",
              "      <th>text</th>\n",
              "      <th>label</th>\n",
              "    </tr>\n",
              "  </thead>\n",
              "  <tbody>\n",
              "    <tr>\n",
              "      <th>0</th>\n",
              "      <td>There are films that make careers. For George ...</td>\n",
              "      <td>1</td>\n",
              "    </tr>\n",
              "    <tr>\n",
              "      <th>1</th>\n",
              "      <td>A blackly comic tale of a down-trodden priest,...</td>\n",
              "      <td>1</td>\n",
              "    </tr>\n",
              "    <tr>\n",
              "      <th>2</th>\n",
              "      <td>Scary Movie 1-4, Epic Movie, Date Movie, Meet ...</td>\n",
              "      <td>0</td>\n",
              "    </tr>\n",
              "    <tr>\n",
              "      <th>3</th>\n",
              "      <td>Poor Shirley MacLaine tries hard to lend some ...</td>\n",
              "      <td>0</td>\n",
              "    </tr>\n",
              "    <tr>\n",
              "      <th>4</th>\n",
              "      <td>As a former Erasmus student I enjoyed this fil...</td>\n",
              "      <td>1</td>\n",
              "    </tr>\n",
              "  </tbody>\n",
              "</table>\n",
              "</div>\n",
              "      <button class=\"colab-df-convert\" onclick=\"convertToInteractive('df-3ea9a5c1-c97f-42b2-827c-7b8cf21e9041')\"\n",
              "              title=\"Convert this dataframe to an interactive table.\"\n",
              "              style=\"display:none;\">\n",
              "        \n",
              "  <svg xmlns=\"http://www.w3.org/2000/svg\" height=\"24px\"viewBox=\"0 0 24 24\"\n",
              "       width=\"24px\">\n",
              "    <path d=\"M0 0h24v24H0V0z\" fill=\"none\"/>\n",
              "    <path d=\"M18.56 5.44l.94 2.06.94-2.06 2.06-.94-2.06-.94-.94-2.06-.94 2.06-2.06.94zm-11 1L8.5 8.5l.94-2.06 2.06-.94-2.06-.94L8.5 2.5l-.94 2.06-2.06.94zm10 10l.94 2.06.94-2.06 2.06-.94-2.06-.94-.94-2.06-.94 2.06-2.06.94z\"/><path d=\"M17.41 7.96l-1.37-1.37c-.4-.4-.92-.59-1.43-.59-.52 0-1.04.2-1.43.59L10.3 9.45l-7.72 7.72c-.78.78-.78 2.05 0 2.83L4 21.41c.39.39.9.59 1.41.59.51 0 1.02-.2 1.41-.59l7.78-7.78 2.81-2.81c.8-.78.8-2.07 0-2.86zM5.41 20L4 18.59l7.72-7.72 1.47 1.35L5.41 20z\"/>\n",
              "  </svg>\n",
              "      </button>\n",
              "      \n",
              "  <style>\n",
              "    .colab-df-container {\n",
              "      display:flex;\n",
              "      flex-wrap:wrap;\n",
              "      gap: 12px;\n",
              "    }\n",
              "\n",
              "    .colab-df-convert {\n",
              "      background-color: #E8F0FE;\n",
              "      border: none;\n",
              "      border-radius: 50%;\n",
              "      cursor: pointer;\n",
              "      display: none;\n",
              "      fill: #1967D2;\n",
              "      height: 32px;\n",
              "      padding: 0 0 0 0;\n",
              "      width: 32px;\n",
              "    }\n",
              "\n",
              "    .colab-df-convert:hover {\n",
              "      background-color: #E2EBFA;\n",
              "      box-shadow: 0px 1px 2px rgba(60, 64, 67, 0.3), 0px 1px 3px 1px rgba(60, 64, 67, 0.15);\n",
              "      fill: #174EA6;\n",
              "    }\n",
              "\n",
              "    [theme=dark] .colab-df-convert {\n",
              "      background-color: #3B4455;\n",
              "      fill: #D2E3FC;\n",
              "    }\n",
              "\n",
              "    [theme=dark] .colab-df-convert:hover {\n",
              "      background-color: #434B5C;\n",
              "      box-shadow: 0px 1px 3px 1px rgba(0, 0, 0, 0.15);\n",
              "      filter: drop-shadow(0px 1px 2px rgba(0, 0, 0, 0.3));\n",
              "      fill: #FFFFFF;\n",
              "    }\n",
              "  </style>\n",
              "\n",
              "      <script>\n",
              "        const buttonEl =\n",
              "          document.querySelector('#df-3ea9a5c1-c97f-42b2-827c-7b8cf21e9041 button.colab-df-convert');\n",
              "        buttonEl.style.display =\n",
              "          google.colab.kernel.accessAllowed ? 'block' : 'none';\n",
              "\n",
              "        async function convertToInteractive(key) {\n",
              "          const element = document.querySelector('#df-3ea9a5c1-c97f-42b2-827c-7b8cf21e9041');\n",
              "          const dataTable =\n",
              "            await google.colab.kernel.invokeFunction('convertToInteractive',\n",
              "                                                     [key], {});\n",
              "          if (!dataTable) return;\n",
              "\n",
              "          const docLinkHtml = 'Like what you see? Visit the ' +\n",
              "            '<a target=\"_blank\" href=https://colab.research.google.com/notebooks/data_table.ipynb>data table notebook</a>'\n",
              "            + ' to learn more about interactive tables.';\n",
              "          element.innerHTML = '';\n",
              "          dataTable['output_type'] = 'display_data';\n",
              "          await google.colab.output.renderOutput(dataTable, element);\n",
              "          const docLink = document.createElement('div');\n",
              "          docLink.innerHTML = docLinkHtml;\n",
              "          element.appendChild(docLink);\n",
              "        }\n",
              "      </script>\n",
              "    </div>\n",
              "  </div>\n",
              "  "
            ]
          },
          "metadata": {},
          "execution_count": 11
        }
      ]
    },
    {
      "cell_type": "markdown",
      "source": [
        "# Explore & V isualize Data  🧐 🔍 📈 📊\n",
        "\n",
        "Now , we are going to explore our train data to gain insights 💡 "
      ],
      "metadata": {
        "id": "lkYV86i16vgi"
      }
    },
    {
      "cell_type": "code",
      "source": [
        "df.info()"
      ],
      "metadata": {
        "colab": {
          "base_uri": "https://localhost:8080/"
        },
        "id": "xpf1zvaR2TiM",
        "outputId": "b8a0ab1e-4b39-4ac2-aaa7-e97e778a1fa7"
      },
      "execution_count": null,
      "outputs": [
        {
          "output_type": "stream",
          "name": "stdout",
          "text": [
            "<class 'pandas.core.frame.DataFrame'>\n",
            "RangeIndex: 25000 entries, 0 to 24999\n",
            "Data columns (total 2 columns):\n",
            " #   Column  Non-Null Count  Dtype \n",
            "---  ------  --------------  ----- \n",
            " 0   text    25000 non-null  object\n",
            " 1   label   25000 non-null  int64 \n",
            "dtypes: int64(1), object(1)\n",
            "memory usage: 390.8+ KB\n"
          ]
        }
      ]
    },
    {
      "cell_type": "code",
      "source": [
        "df.shape"
      ],
      "metadata": {
        "id": "ZPNXqYWzAjXw",
        "outputId": "97729f76-4945-40fc-932b-93e1a8a2986d",
        "colab": {
          "base_uri": "https://localhost:8080/"
        }
      },
      "execution_count": null,
      "outputs": [
        {
          "output_type": "execute_result",
          "data": {
            "text/plain": [
              "(25000, 2)"
            ]
          },
          "metadata": {},
          "execution_count": 13
        }
      ]
    },
    {
      "cell_type": "code",
      "source": [
        "#Summary of the dataset\n",
        "df.describe()"
      ],
      "metadata": {
        "colab": {
          "base_uri": "https://localhost:8080/",
          "height": 300
        },
        "id": "HI80A7xnAo8D",
        "outputId": "c89f0a69-0dbb-4714-c1ab-0e119df2fb27"
      },
      "execution_count": null,
      "outputs": [
        {
          "output_type": "execute_result",
          "data": {
            "text/plain": [
              "             label\n",
              "count  25000.00000\n",
              "mean       0.50000\n",
              "std        0.50001\n",
              "min        0.00000\n",
              "25%        0.00000\n",
              "50%        0.50000\n",
              "75%        1.00000\n",
              "max        1.00000"
            ],
            "text/html": [
              "\n",
              "  <div id=\"df-5ef4e546-4821-4f45-9dc3-1c5d85d813a9\">\n",
              "    <div class=\"colab-df-container\">\n",
              "      <div>\n",
              "<style scoped>\n",
              "    .dataframe tbody tr th:only-of-type {\n",
              "        vertical-align: middle;\n",
              "    }\n",
              "\n",
              "    .dataframe tbody tr th {\n",
              "        vertical-align: top;\n",
              "    }\n",
              "\n",
              "    .dataframe thead th {\n",
              "        text-align: right;\n",
              "    }\n",
              "</style>\n",
              "<table border=\"1\" class=\"dataframe\">\n",
              "  <thead>\n",
              "    <tr style=\"text-align: right;\">\n",
              "      <th></th>\n",
              "      <th>label</th>\n",
              "    </tr>\n",
              "  </thead>\n",
              "  <tbody>\n",
              "    <tr>\n",
              "      <th>count</th>\n",
              "      <td>25000.00000</td>\n",
              "    </tr>\n",
              "    <tr>\n",
              "      <th>mean</th>\n",
              "      <td>0.50000</td>\n",
              "    </tr>\n",
              "    <tr>\n",
              "      <th>std</th>\n",
              "      <td>0.50001</td>\n",
              "    </tr>\n",
              "    <tr>\n",
              "      <th>min</th>\n",
              "      <td>0.00000</td>\n",
              "    </tr>\n",
              "    <tr>\n",
              "      <th>25%</th>\n",
              "      <td>0.00000</td>\n",
              "    </tr>\n",
              "    <tr>\n",
              "      <th>50%</th>\n",
              "      <td>0.50000</td>\n",
              "    </tr>\n",
              "    <tr>\n",
              "      <th>75%</th>\n",
              "      <td>1.00000</td>\n",
              "    </tr>\n",
              "    <tr>\n",
              "      <th>max</th>\n",
              "      <td>1.00000</td>\n",
              "    </tr>\n",
              "  </tbody>\n",
              "</table>\n",
              "</div>\n",
              "      <button class=\"colab-df-convert\" onclick=\"convertToInteractive('df-5ef4e546-4821-4f45-9dc3-1c5d85d813a9')\"\n",
              "              title=\"Convert this dataframe to an interactive table.\"\n",
              "              style=\"display:none;\">\n",
              "        \n",
              "  <svg xmlns=\"http://www.w3.org/2000/svg\" height=\"24px\"viewBox=\"0 0 24 24\"\n",
              "       width=\"24px\">\n",
              "    <path d=\"M0 0h24v24H0V0z\" fill=\"none\"/>\n",
              "    <path d=\"M18.56 5.44l.94 2.06.94-2.06 2.06-.94-2.06-.94-.94-2.06-.94 2.06-2.06.94zm-11 1L8.5 8.5l.94-2.06 2.06-.94-2.06-.94L8.5 2.5l-.94 2.06-2.06.94zm10 10l.94 2.06.94-2.06 2.06-.94-2.06-.94-.94-2.06-.94 2.06-2.06.94z\"/><path d=\"M17.41 7.96l-1.37-1.37c-.4-.4-.92-.59-1.43-.59-.52 0-1.04.2-1.43.59L10.3 9.45l-7.72 7.72c-.78.78-.78 2.05 0 2.83L4 21.41c.39.39.9.59 1.41.59.51 0 1.02-.2 1.41-.59l7.78-7.78 2.81-2.81c.8-.78.8-2.07 0-2.86zM5.41 20L4 18.59l7.72-7.72 1.47 1.35L5.41 20z\"/>\n",
              "  </svg>\n",
              "      </button>\n",
              "      \n",
              "  <style>\n",
              "    .colab-df-container {\n",
              "      display:flex;\n",
              "      flex-wrap:wrap;\n",
              "      gap: 12px;\n",
              "    }\n",
              "\n",
              "    .colab-df-convert {\n",
              "      background-color: #E8F0FE;\n",
              "      border: none;\n",
              "      border-radius: 50%;\n",
              "      cursor: pointer;\n",
              "      display: none;\n",
              "      fill: #1967D2;\n",
              "      height: 32px;\n",
              "      padding: 0 0 0 0;\n",
              "      width: 32px;\n",
              "    }\n",
              "\n",
              "    .colab-df-convert:hover {\n",
              "      background-color: #E2EBFA;\n",
              "      box-shadow: 0px 1px 2px rgba(60, 64, 67, 0.3), 0px 1px 3px 1px rgba(60, 64, 67, 0.15);\n",
              "      fill: #174EA6;\n",
              "    }\n",
              "\n",
              "    [theme=dark] .colab-df-convert {\n",
              "      background-color: #3B4455;\n",
              "      fill: #D2E3FC;\n",
              "    }\n",
              "\n",
              "    [theme=dark] .colab-df-convert:hover {\n",
              "      background-color: #434B5C;\n",
              "      box-shadow: 0px 1px 3px 1px rgba(0, 0, 0, 0.15);\n",
              "      filter: drop-shadow(0px 1px 2px rgba(0, 0, 0, 0.3));\n",
              "      fill: #FFFFFF;\n",
              "    }\n",
              "  </style>\n",
              "\n",
              "      <script>\n",
              "        const buttonEl =\n",
              "          document.querySelector('#df-5ef4e546-4821-4f45-9dc3-1c5d85d813a9 button.colab-df-convert');\n",
              "        buttonEl.style.display =\n",
              "          google.colab.kernel.accessAllowed ? 'block' : 'none';\n",
              "\n",
              "        async function convertToInteractive(key) {\n",
              "          const element = document.querySelector('#df-5ef4e546-4821-4f45-9dc3-1c5d85d813a9');\n",
              "          const dataTable =\n",
              "            await google.colab.kernel.invokeFunction('convertToInteractive',\n",
              "                                                     [key], {});\n",
              "          if (!dataTable) return;\n",
              "\n",
              "          const docLinkHtml = 'Like what you see? Visit the ' +\n",
              "            '<a target=\"_blank\" href=https://colab.research.google.com/notebooks/data_table.ipynb>data table notebook</a>'\n",
              "            + ' to learn more about interactive tables.';\n",
              "          element.innerHTML = '';\n",
              "          dataTable['output_type'] = 'display_data';\n",
              "          await google.colab.output.renderOutput(dataTable, element);\n",
              "          const docLink = document.createElement('div');\n",
              "          docLink.innerHTML = docLinkHtml;\n",
              "          element.appendChild(docLink);\n",
              "        }\n",
              "      </script>\n",
              "    </div>\n",
              "  </div>\n",
              "  "
            ]
          },
          "metadata": {},
          "execution_count": 14
        }
      ]
    },
    {
      "cell_type": "code",
      "source": [
        "#Looking for null data\n",
        "df.isnull().sum()\n"
      ],
      "metadata": {
        "colab": {
          "base_uri": "https://localhost:8080/"
        },
        "id": "lqNEYukL2Tk6",
        "outputId": "cdf8c668-0c00-411f-9842-f89ba62a3c0f"
      },
      "execution_count": null,
      "outputs": [
        {
          "output_type": "execute_result",
          "data": {
            "text/plain": [
              "text     0\n",
              "label    0\n",
              "dtype: int64"
            ]
          },
          "metadata": {},
          "execution_count": 15
        }
      ]
    },
    {
      "cell_type": "code",
      "source": [
        "# checking for duplicate instances\n",
        "no_of_duplicates=df.duplicated().sum()\n",
        "print ('No. of Dublicates:' ,no_of_duplicates)\n",
        "\n",
        "if(no_of_duplicates >0):\n",
        "  # dropping the duplicate values\n",
        "  df.drop_duplicates(inplace=True)\n",
        "  print ('Removing Dublicates:',df.duplicated().sum())\n"
      ],
      "metadata": {
        "colab": {
          "base_uri": "https://localhost:8080/"
        },
        "id": "xRfdOkHsDubw",
        "outputId": "a1aaa615-9c71-46e7-8235-2ec4dbb9eb25"
      },
      "execution_count": null,
      "outputs": [
        {
          "output_type": "stream",
          "name": "stdout",
          "text": [
            "No. of Dublicates: 96\n",
            "Removing Dublicates: 0\n"
          ]
        }
      ]
    },
    {
      "cell_type": "code",
      "source": [
        "#sentiment count in order to check data balance\n",
        "df['label'].value_counts()"
      ],
      "metadata": {
        "colab": {
          "base_uri": "https://localhost:8080/"
        },
        "id": "i5j2Op-rAtxA",
        "outputId": "6860a0ae-fbac-448e-c52b-6b1d1c151870"
      },
      "execution_count": null,
      "outputs": [
        {
          "output_type": "execute_result",
          "data": {
            "text/plain": [
              "1    12472\n",
              "0    12432\n",
              "Name: label, dtype: int64"
            ]
          },
          "metadata": {},
          "execution_count": 17
        }
      ]
    },
    {
      "cell_type": "code",
      "source": [
        "#Generating a countplot for target label\n",
        "plt.figure(figsize=(3,3))\n",
        "sns.barplot(x=df['label'].value_counts().index,y=df['label'].value_counts())\n",
        "plt.title('Review Count')\n",
        "plt.xlabel('Review')\n",
        "plt.ylabel('Count');"
      ],
      "metadata": {
        "colab": {
          "base_uri": "https://localhost:8080/",
          "height": 333
        },
        "id": "PR7JNmJJ65y2",
        "outputId": "ce7c603c-b801-4101-e480-efe42f60958c"
      },
      "execution_count": null,
      "outputs": [
        {
          "output_type": "display_data",
          "data": {
            "text/plain": [
              "<Figure size 300x300 with 1 Axes>"
            ],
            "image/png": "[encoded data removed]"
          },
          "metadata": {}
        }
      ]
    },
    {
      "cell_type": "code",
      "source": [
        "\n",
        "plt.figure(figsize=(10,3))\n",
        "colors=['#AB47BC','#6495ED']\n",
        "plt.pie(df['label'].value_counts(),labels=['Positive','Negative'],autopct='%.2f%%',explode=[0.01,0.01],colors=colors);\n",
        "plt.title('Distribution of target')\n",
        "plt.ylabel('Sentiment');"
      ],
      "metadata": {
        "colab": {
          "base_uri": "https://localhost:8080/",
          "height": 290
        },
        "id": "cCzdw6XBFvkD",
        "outputId": "a22bc2e6-bb0e-47db-ab15-be2379a42884"
      },
      "execution_count": null,
      "outputs": [
        {
          "output_type": "display_data",
          "data": {
            "text/plain": [
              "<Figure size 1000x300 with 1 Axes>"
            ],
            "image/png": "[encoded data removed]"
          },
          "metadata": {}
        }
      ]
    },
    {
      "cell_type": "markdown",
      "source": [
        "**Inference**: The Target Variable seems to be perfectly balanced!"
      ],
      "metadata": {
        "id": "izrn8vi5La--"
      }
    },
    {
      "cell_type": "code",
      "source": [
        "df['text_word_count']=df['text'].apply(lambda x:len(x.split()))\n",
        "\n",
        "numerical_feature_cols=['text_word_count']\n",
        "plt.figure(figsize=(20,3))\n",
        "for i,col in enumerate(numerical_feature_cols):\n",
        "    plt.subplot(1,3,i+1)\n",
        "    sns.histplot(data=df,x=col,bins=50,color='#6495ED')\n",
        "    plt.title(f\"Distribution of Various word counts\")\n",
        "plt.tight_layout()\n",
        "plt.show()"
      ],
      "metadata": {
        "colab": {
          "base_uri": "https://localhost:8080/",
          "height": 307
        },
        "id": "IV58HUZiEo_h",
        "outputId": "56161115-9f5d-4676-8bf5-704906b44cf6"
      },
      "execution_count": null,
      "outputs": [
        {
          "output_type": "display_data",
          "data": {
            "text/plain": [
              "<Figure size 2000x300 with 1 Axes>"
            ],
            "image/png": "[encoded data removed]"
          },
          "metadata": {}
        }
      ]
    },
    {
      "cell_type": "markdown",
      "source": [
        "**Inference**: The distribution of text word count is Right skewed and contains a lot of outliers."
      ],
      "metadata": {
        "id": "3V0soq5FFCph"
      }
    },
    {
      "cell_type": "code",
      "source": [
        "\n",
        "plt.figure(figsize=(20,3))\n",
        "for i,col in enumerate(numerical_feature_cols):\n",
        "    plt.subplot(1,3,i+1)\n",
        "    sns.histplot(data=df,x=col,hue='label',bins=50)\n",
        "    plt.title(f\"Distribution of Various word counts with respect to target\")\n",
        "plt.tight_layout()\n",
        "plt.show()"
      ],
      "metadata": {
        "colab": {
          "base_uri": "https://localhost:8080/",
          "height": 307
        },
        "id": "5FLSK3w9FMSj",
        "outputId": "9388cf1e-87e5-42e0-991f-6142ce099117"
      },
      "execution_count": null,
      "outputs": [
        {
          "output_type": "display_data",
          "data": {
            "text/plain": [
              "<Figure size 2000x300 with 1 Axes>"
            ],
            "image/png": "[encoded data removed]"
          },
          "metadata": {}
        }
      ]
    },
    {
      "cell_type": "markdown",
      "source": [
        "**Inference**: The Positive reviews are slightly longer on an average, compared to those with negative reviews."
      ],
      "metadata": {
        "id": "6vjsge6SLUo6"
      }
    },
    {
      "cell_type": "code",
      "source": [
        "#display samples of data\n",
        "random_index=random.randint(0,df.shape[0]-3)\n",
        "for row in df[['text','label']][random_index:random_index+3].itertuples():\n",
        "    _,text,label=row\n",
        "    class_name=\"Positive\"\n",
        "    if label==0:\n",
        "        class_name=\"Negative\"\n",
        "    display(HTML(f\"<h5><b style='color:red'>Text: </b>{text}</h5>\"))\n",
        "    display(HTML(f\"<h5><b style='color:red'>Target: </b>{class_name}<br><hr></h5>\"))"
      ],
      "metadata": {
        "colab": {
          "base_uri": "https://localhost:8080/",
          "height": 753
        },
        "id": "pVsFuXeVGL46",
        "outputId": "81f234bd-4177-4c99-a291-de515b07904f"
      },
      "execution_count": null,
      "outputs": [
        {
          "output_type": "display_data",
          "data": {
            "text/plain": [
              "<IPython.core.display.HTML object>"
            ],
            "text/html": [
              "<h5><b style='color:red'>Text: </b>\"Gespenster\" Question of to be cool in the German cinema<br /><br />There are not many German films in the last ten years, who have made me so interest. Yes, the problem of the most German films are in this film \"Gespenster\" too. He is on some places to uncooked to be good to see. Special the figure of Toni (Sabine Timento) is too cool. But thats is in German films always so. Everybody must to learns this coolneß - is the realism in this films. Thats difficult to understand. But in this case it makes some sense, because she steals and she lies - she is the kind of girl is better you never love it, because you lose it. Thats not clear for the other girl Nina in this film. She love her - and she would lose her. But Nina lost everything. She will play with soft emotion and a sad feeling. There is no way - but you must take it said Herbert Achterbusch for twenty years. Thats so often the way it goes in German films. Why? Nina (Julia Hummer) is not inside of the laws of society - the is outside - and there she have no chance. This films tries not on every place to gave her a part inside. Thats one of the problems - the stupid break with conventions - the criminal fascination. Throw it all away - and go nowhere! But the actress plays this difficult part very interesting. On the other side - there the parents - who are the pendant to the two girls. The have a car - a hotel suite - the have money and live in world with music of the opera. But the film stand always in some distance to seem. There is no much explaining of them.<br /><br />In the center of this film, there is one scene you will never forget. The two girls got to a casting. And there they should say how they find together. In this scene Toni will lying on. She said a fantastic story-has nothing to do with her. And then Nina will say the truth. She said it in an introversion way. There is no exhibition in it. She looks to the bottom and said what will happened for here. Thats a great moment. In the next scene on the party with pictures in red this feeling is going on- than Toni goes away...<br /><br />Okay, The film will end - in the German way of coolneß - rubbish - here the circle of sadness is closing. But there was a moment - where is happening something else - and this moment was important. He is more than German coolneß - and this moments are rare in the German cinema in this time!</h5>"
            ]
          },
          "metadata": {}
        },
        {
          "output_type": "display_data",
          "data": {
            "text/plain": [
              "<IPython.core.display.HTML object>"
            ],
            "text/html": [
              "<h5><b style='color:red'>Target: </b>Positive<br><hr></h5>"
            ]
          },
          "metadata": {}
        },
        {
          "output_type": "display_data",
          "data": {
            "text/plain": [
              "<IPython.core.display.HTML object>"
            ],
            "text/html": [
              "<h5><b style='color:red'>Text: </b>I rented this movie yesterday and can hardly express my disappointment in little Laura Ingalls for getting involved in something so poorly produced. I am not sure if it was horrible writing or bad directing or both but it leaves a viewer very disappointed in having wasted the time to watch this swill. It consisted of a weak naive story line, very poor lines, and relied solely on pretty scenery, and pretty people to sell it. Unfortunately this was not enough. You would be better off to rent a tape full of static than to waste your time on this crap. Lindsey Wagner also played a pretty pathetic part as a ranch owner who apparently works very hard doing nothing, anybody who has ever been near a ranch knows that this was obviously written by a young person from los Angeles and not someone with much knowledge of the world.</h5>"
            ]
          },
          "metadata": {}
        },
        {
          "output_type": "display_data",
          "data": {
            "text/plain": [
              "<IPython.core.display.HTML object>"
            ],
            "text/html": [
              "<h5><b style='color:red'>Target: </b>Negative<br><hr></h5>"
            ]
          },
          "metadata": {}
        },
        {
          "output_type": "display_data",
          "data": {
            "text/plain": [
              "<IPython.core.display.HTML object>"
            ],
            "text/html": [
              "<h5><b style='color:red'>Text: </b>\"Girlfight\" is much more of a coming-of-age-story than it is a fight flick. And what a relief to have one in an urban school, with naturalistic, realistic Latinos and believable use of Brooklyn project settings. <br /><br />It made me realize that virtually all Hollywood high school movies are set in luxurious suburbia or small towns. (Even the somewhat comparable \"Love and Basketball\" which focused on teen African-Americans was set in suburbia.) While these kids share some of the same peer problems, those issues shrink compared to the other struggles of these kids, where high school graduation could be the major accomplishment of their lives.<br /><br />The feminist element here is riveting in its originality, as you hold your breath to see if she can have a relationship--and a victory-- on her terms. A lots of audience sympathy goes to the guy who is challenged to rise to a gender-bending-expectations situation.<br /><br />The movie does drag a bit here and there, but this is no cheap thrills \"Rocky\" fight movie, as the practices and fights have complex outcomes, and all the relationships--especially with fathers and father-figures-- take more center stage than the center ring. <br /><br />There were lots of interesting music credits listed at the end, but I hadn't really noticed the songs.<br /><br />(originally written 10/7/2000)</h5>"
            ]
          },
          "metadata": {}
        },
        {
          "output_type": "display_data",
          "data": {
            "text/plain": [
              "<IPython.core.display.HTML object>"
            ],
            "text/html": [
              "<h5><b style='color:red'>Target: </b>Positive<br><hr></h5>"
            ]
          },
          "metadata": {}
        }
      ]
    },
    {
      "cell_type": "markdown",
      "source": [
        "# Text pre-processing  📜 ,👀, 📊 \n",
        "\n"
      ],
      "metadata": {
        "id": "-pc2RaxB7r98"
      }
    },
    {
      "cell_type": "markdown",
      "source": [
        "As we know it is difficult for computers to understand the semantics of the texts in their pure form so it becomes necessary to preprocess the data to convert it into a form that can be fed to the computer for analysis. So , Text pre-processing is the process of preparing text data so that machines can use the same to perform tasks like analysis, predictions, etc.\n",
        "\n",
        "There are many different steps in text pre-processing as follows:\n",
        "- Convert to Lowercase\n",
        "- Remove the html strips, square brackets\n",
        "- Remove special characters, punctuations\n",
        "- Remove stopwords\n",
        "- Stemming/Lemmatization\n",
        "\n",
        "\n",
        "Depending on the data, more steps can be include. It is a must to remove extra spaces so as to reduce file size."
      ],
      "metadata": {
        "id": "M_JtWqYH11_O"
      }
    },
    {
      "cell_type": "code",
      "source": [
        "\n",
        "#Removing the html strips\n",
        "def strip_html(text):\n",
        "    soup = BeautifulSoup(text, \"html.parser\")\n",
        "    return soup.get_text()\n",
        "\n",
        "#Removing the square brackets\n",
        "def remove_between_square_brackets(text):\n",
        "    return re.sub('\\[[^]]*\\]', '', text)\n",
        "\n",
        "#Removing the noisy text\n",
        "def denoise_text(text):\n",
        "    text = strip_html(text)\n",
        "    text = remove_between_square_brackets(text)\n",
        "    return text\n",
        "\n",
        "#Removing special characters\n",
        "def remove_special_characters(text, remove_digits=True):\n",
        "    pattern=r'[^a-zA-z0-9\\s]'\n",
        "    text=re.sub(pattern,'',text)\n",
        "    return text\n",
        "\n",
        "#Stemming the text\n",
        "def simple_stemmer(text):\n",
        "    ps=nltk.porter.PorterStemmer()\n",
        "    text= ' '.join([ps.stem(word) for word in text.split()])\n",
        "    return text\n",
        "\n",
        "\n",
        "#Setting English stopwords\n",
        "stopword_list=nltk.corpus.stopwords.words('english')\n",
        "stop=set(stopwords.words('english'))\n",
        "#Tokenization of text\n",
        "tokenizer=ToktokTokenizer()\n",
        "\n",
        "#removing the stopwords\n",
        "def remove_stopwords(text, is_lower_case=False):\n",
        "    tokens = tokenizer.tokenize(text)\n",
        "    tokens = [token.strip() for token in tokens]\n",
        "    if is_lower_case:\n",
        "        filtered_tokens = [token for token in tokens if token not in stopword_list]\n",
        "    else:\n",
        "        filtered_tokens = [token for token in tokens if token.lower() not in stopword_list]\n",
        "    filtered_text = ' '.join(filtered_tokens)    \n",
        "    return filtered_text"
      ],
      "metadata": {
        "id": "DXLdb-kB7kgb"
      },
      "execution_count": null,
      "outputs": []
    },
    {
      "cell_type": "markdown",
      "source": [
        "### Clean & Denoise text"
      ],
      "metadata": {
        "id": "fMBYyDvjh3Or"
      }
    },
    {
      "cell_type": "markdown",
      "source": [
        "The process of removing all unnecessary content from the corpus. The unnecessary content includes HTML strips, special characters, and punctuations since they do not add any value or meaning to the overall corpus.\n",
        "\n"
      ],
      "metadata": {
        "id": "rp0jGE2giO6W"
      }
    },
    {
      "cell_type": "code",
      "source": [
        "#Apply function on review column\n",
        "# html strips & square brackets were removed from the original text\n",
        "print ('BEFORE (denoise_text).. \\n',df['text'][2])\n",
        "df['text']=df['text'].apply(denoise_text)\n",
        "print ('AFTER (denoise_text).. \\n ',df['text'][2])\n",
        "\n"
      ],
      "metadata": {
        "colab": {
          "base_uri": "https://localhost:8080/"
        },
        "id": "wJGpHcMf7kmb",
        "outputId": "51ad9f69-8924-45bb-c633-dd5377d449fe"
      },
      "execution_count": null,
      "outputs": [
        {
          "output_type": "stream",
          "name": "stdout",
          "text": [
            "BEFORE (denoise_text).. \n",
            " Mann photographs the Alberta Rocky Mountains in a superb fashion and Jimmy Stewart and Walter Brennan give enjoyable performances as they always seem to do But come on Hollywood  a Mountie telling the people of Dawson City Yukon to elect themselves a marshal yes a marshal and to enforce the law themselves then gunfighters battling it out on the streets for control of the town Nothing even remotely resembling that happened on the Canadian side of the border during the Klondike gold rush Mr Mann and company appear to have mistaken Dawson City for Deadwood the Canadian North for the American Wild WestCanadian viewers be prepared for a Reefer Madness type of enjoyable howl with this ludicrous plot or to shake your head in disgust\n",
            "AFTER (denoise_text).. \n",
            "  Mann photographs the Alberta Rocky Mountains in a superb fashion and Jimmy Stewart and Walter Brennan give enjoyable performances as they always seem to do But come on Hollywood  a Mountie telling the people of Dawson City Yukon to elect themselves a marshal yes a marshal and to enforce the law themselves then gunfighters battling it out on the streets for control of the town Nothing even remotely resembling that happened on the Canadian side of the border during the Klondike gold rush Mr Mann and company appear to have mistaken Dawson City for Deadwood the Canadian North for the American Wild WestCanadian viewers be prepared for a Reefer Madness type of enjoyable howl with this ludicrous plot or to shake your head in disgust\n"
          ]
        }
      ]
    },
    {
      "cell_type": "code",
      "source": [
        "#special characters, punctuations like (-) (!) were removed from the original text\n",
        "\n",
        "print ('BEFORE (remove_special_characters).. \\n',df['text'][2])\n",
        "df['text']=df['text'].apply(remove_special_characters)\n",
        "print ('AFTER  (remove_special_characters).. \\n',df['text'][2])"
      ],
      "metadata": {
        "colab": {
          "base_uri": "https://localhost:8080/"
        },
        "id": "nUJ6XUMSIUbX",
        "outputId": "4e9fdd56-0ef9-47fc-b2bb-dcf638f28f77"
      },
      "execution_count": null,
      "outputs": [
        {
          "output_type": "stream",
          "name": "stdout",
          "text": [
            "BEFORE (remove_special_characters).. \n",
            " Mann photographs the Alberta Rocky Mountains in a superb fashion, and Jimmy Stewart and Walter Brennan give enjoyable performances as they always seem to do. But come on Hollywood - a Mountie telling the people of Dawson City, Yukon to elect themselves a marshal (yes a marshal!) and to enforce the law themselves, then gunfighters battling it out on the streets for control of the town? Nothing even remotely resembling that happened on the Canadian side of the border during the Klondike gold rush. Mr. Mann and company appear to have mistaken Dawson City for Deadwood, the Canadian North for the American Wild West.Canadian viewers be prepared for a Reefer Madness type of enjoyable howl with this ludicrous plot, or, to shake your head in disgust.\n",
            "AFTER  (remove_special_characters).. \n",
            " Mann photographs the Alberta Rocky Mountains in a superb fashion and Jimmy Stewart and Walter Brennan give enjoyable performances as they always seem to do But come on Hollywood  a Mountie telling the people of Dawson City Yukon to elect themselves a marshal yes a marshal and to enforce the law themselves then gunfighters battling it out on the streets for control of the town Nothing even remotely resembling that happened on the Canadian side of the border during the Klondike gold rush Mr Mann and company appear to have mistaken Dawson City for Deadwood the Canadian North for the American Wild WestCanadian viewers be prepared for a Reefer Madness type of enjoyable howl with this ludicrous plot or to shake your head in disgust\n"
          ]
        }
      ]
    },
    {
      "cell_type": "markdown",
      "source": [
        "### Stemming & Lemmatization \n"
      ],
      "metadata": {
        "id": "ChDNA-MNhqss"
      }
    },
    {
      "cell_type": "markdown",
      "source": [
        "\n",
        "In the field of NLP, Lemmatization and Stemming are `Text Normalization techniques`. These techniques are used to prepare words, text, and documents for further processing.\n",
        "\n",
        "**Stemming** is a process that stems or removes last few characters from a word.\n",
        "- For instance, stemming the words` ‘History‘` & `‘Historical‘` would return `‘Histori‘`\n",
        "\n",
        "Stemming often leading to incorrect meanings and spelling.\n",
        "- For instance, stemming the word `‘Caring‘` would return `‘Car‘`\n",
        "\n",
        "\n",
        "**Lemmatization** has the same purpose of stemming but overcomes the drawbacks of stemming. In stemming, for some words, it may not give may not give meaningful representation such as “Histori”. Here, lemmatization comes into picture as it gives meaningful word. In other words lemmatization considers the context and converts the word to its meaningful base form, which is called Lemma.\n",
        "- For instance, lemmatizing the word `‘Caring‘` would return `‘Care‘`.\n",
        "\n",
        "\n",
        "\n",
        "**Stemming vs.Lemmatization**\n",
        "\n",
        "1- `Stemming` has its application in Sentiment Analysis while `Lemmatization` has its application in Chatbots, human-answering.\n",
        "\n",
        "2- `Stemming` is used in case of large dataset where performance is an issue and speed is important , while `Lemmatization`is computationally expensive since it involves look-up tables and what not.\n",
        "\n",
        "\n",
        "The package namely, `nltk.stem` is used to perform stemming via different classes. We import PorterStemmer from nltk.stem to perform the task."
      ],
      "metadata": {
        "id": "iKPtRTfAbdCZ"
      }
    },
    {
      "cell_type": "code",
      "source": [
        "print ('BEFORE (simple_stemmer).. \\n',df['text'][2])\n",
        "df['text']=df['text'].apply(simple_stemmer)\n",
        "print ('AFTER (simple_stemmer) .. \\n',df['text'][2])\n"
      ],
      "metadata": {
        "colab": {
          "base_uri": "https://localhost:8080/"
        },
        "id": "t4G-5l6qJgss",
        "outputId": "542805f4-9eb6-4296-80c9-ee8eb93ba115"
      },
      "execution_count": null,
      "outputs": [
        {
          "output_type": "stream",
          "name": "stdout",
          "text": [
            "BEFORE (simple_stemmer).. \n",
            " Mann photographs the Alberta Rocky Mountains in a superb fashion and Jimmy Stewart and Walter Brennan give enjoyable performances as they always seem to do But come on Hollywood  a Mountie telling the people of Dawson City Yukon to elect themselves a marshal yes a marshal and to enforce the law themselves then gunfighters battling it out on the streets for control of the town Nothing even remotely resembling that happened on the Canadian side of the border during the Klondike gold rush Mr Mann and company appear to have mistaken Dawson City for Deadwood the Canadian North for the American Wild WestCanadian viewers be prepared for a Reefer Madness type of enjoyable howl with this ludicrous plot or to shake your head in disgust\n",
            "AFTER (simple_stemmer) .. \n",
            " mann photograph the alberta rocki mountain in a superb fashion and jimmi stewart and walter brennan give enjoy perform as they alway seem to do but come on hollywood a mounti tell the peopl of dawson citi yukon to elect themselv a marshal ye a marshal and to enforc the law themselv then gunfight battl it out on the street for control of the town noth even remot resembl that happen on the canadian side of the border dure the klondik gold rush mr mann and compani appear to have mistaken dawson citi for deadwood the canadian north for the american wild westcanadian viewer be prepar for a reefer mad type of enjoy howl with thi ludicr plot or to shake your head in disgust\n"
          ]
        }
      ]
    },
    {
      "cell_type": "markdown",
      "source": [
        "### Stop Words Removal "
      ],
      "metadata": {
        "id": "bU1c31m3hwOi"
      }
    },
    {
      "cell_type": "markdown",
      "source": [
        "\n",
        "\n",
        "The process of removing the most common words in any language (like articles, prepositions, pronouns, conjunctions, etc) and does not add much information to the text. Examples of a few stop words in English are “the”, “a”, “an”, “so”, “what”.\n",
        "\n",
        "**Why do we remove stop words? 🤷‍♀️**\n",
        "- By removing these words, we remove the low-level information from our text in order to give more focus to the important information. \n",
        "\n",
        "- The Removal of stop words definitely reduces the dataset size and thus reduces the training time due to the fewer number of tokens involved in the training.\n",
        "\n",
        "**P.S.**   We do not always remove the stop words. The removal of stop words is highly dependent on the task we are performing and the goal we want to achieve.\n",
        "\n",
        "* Movie review: “The movie was not good at all.”\n",
        "\n",
        "* Text after removal of stop words: “movie good”\n",
        "\n",
        "\n",
        "We can clearly see that the review for the movie was negative. However, after the removal of stop words, the review became positive, which is not the reality. Thus, the removal of stop words can be problematic here."
      ],
      "metadata": {
        "id": "uToYSKYgffS6"
      }
    },
    {
      "cell_type": "code",
      "source": [
        "print ('BEFORE (remove_stopwords).. \\n',df['text'][2])\n",
        "df['text']=df['text'].apply(remove_stopwords)\n",
        "print ('AFTER (remove_stopwords) .. \\n',df['text'][2])\n"
      ],
      "metadata": {
        "colab": {
          "base_uri": "https://localhost:8080/"
        },
        "id": "rQl0fa5LJm03",
        "outputId": "2baaaedc-d696-47f3-9d19-92de2b86f7fc"
      },
      "execution_count": null,
      "outputs": [
        {
          "output_type": "stream",
          "name": "stdout",
          "text": [
            "BEFORE (remove_stopwords).. \n",
            " mann photograph the alberta rocki mountain in a superb fashion and jimmi stewart and walter brennan give enjoy perform as they alway seem to do but come on hollywood a mounti tell the peopl of dawson citi yukon to elect themselv a marshal ye a marshal and to enforc the law themselv then gunfight battl it out on the street for control of the town noth even remot resembl that happen on the canadian side of the border dure the klondik gold rush mr mann and compani appear to have mistaken dawson citi for deadwood the canadian north for the american wild westcanadian viewer be prepar for a reefer mad type of enjoy howl with thi ludicr plot or to shake your head in disgust\n",
            "AFTER (remove_stopwords) .. \n",
            " mann photograph alberta rocki mountain superb fashion jimmi stewart walter brennan give enjoy perform alway seem come hollywood mounti tell peopl dawson citi yukon elect themselv marshal ye marshal enforc law themselv gunfight battl street control town noth even remot resembl happen canadian side border dure klondik gold rush mr mann compani appear mistaken dawson citi deadwood canadian north american wild westcanadian viewer prepar reefer mad type enjoy howl thi ludicr plot shake head disgust\n"
          ]
        }
      ]
    },
    {
      "cell_type": "markdown",
      "source": [
        "# Train Validation Sets 🎂  ➗ 🍰🍰\n"
      ],
      "metadata": {
        "id": "QuNxOkTb_14j"
      }
    },
    {
      "cell_type": "code",
      "source": [
        "def split_data(DF , TRAINING_SIZE):\n",
        "\n",
        "  #split the dataset  \n",
        "  \n",
        "  # Split the sentences\n",
        "  training_sentences = DF.text[0:TRAINING_SIZE]\n",
        "  validation_sentences = DF.text[TRAINING_SIZE:]\n",
        "\n",
        "  # Split the labels\n",
        "  training_labels = DF.label[0:TRAINING_SIZE]\n",
        "  validation_labels = DF.label[TRAINING_SIZE:]\n",
        "\n",
        "\n",
        "  return training_sentences , training_labels , validation_sentences , validation_labels\n",
        "\n"
      ],
      "metadata": {
        "id": "W0AzBJJB7kyp"
      },
      "execution_count": null,
      "outputs": []
    },
    {
      "cell_type": "code",
      "source": [
        "train_sentences , train_labels , validation_sentences , validation_labels = split_data(df, TRAINING_SIZE)"
      ],
      "metadata": {
        "id": "vAOxFZXq7k2n"
      },
      "execution_count": null,
      "outputs": []
    },
    {
      "cell_type": "code",
      "source": [
        "print('Original set   ---> ',df['text'].shape,df['label'].shape,\n",
        "      '\\nTraining set   ---> ',train_sentences.shape,train_labels.shape,\n",
        "      '\\nValidation set ---> ', validation_sentences.shape,'', validation_labels.shape,\n",
        "      '\\nTesting set    ---> ', test_df['text'].shape,'', test_df['label'].shape)"
      ],
      "metadata": {
        "colab": {
          "base_uri": "https://localhost:8080/"
        },
        "id": "uqI3E3-D7k7t",
        "outputId": "c1c84de8-89a1-484d-b9bf-65ae184ad6d1"
      },
      "execution_count": null,
      "outputs": [
        {
          "output_type": "stream",
          "name": "stdout",
          "text": [
            "Original set   --->  (24904,) (24904,) \n",
            "Training set   --->  (20000,) (20000,) \n",
            "Validation set --->  (4904,)  (4904,) \n",
            "Testing set    --->  (25000,)  (25000,)\n"
          ]
        }
      ]
    },
    {
      "cell_type": "markdown",
      "source": [
        "# Bulid & Train Model  🧪 ✏️ 👩🏻‍💻"
      ],
      "metadata": {
        "id": "pAlgJrD_QNuC"
      }
    },
    {
      "cell_type": "code",
      "source": [
        "# Vocabulary size of the tokenizer\n",
        "vocab_size = 10000\n",
        "# Maximum length of the padded sequences\n",
        "max_length = 32\n",
        "# Output dimensions of the Embedding layer\n",
        "embedding_dim = 16\n",
        "# Dimensions of the LSTM layer\n",
        "lstm_dim = 32\n",
        "# Dimensions of the Dense layer\n",
        "dense_dim = 6\n",
        "\n",
        "NUM_EPOCHS = 50\n",
        "BATCH_SIZE = 256\n",
        "\n",
        "# Parameters for padding and OOV tokens\n",
        "trunc_type='post'\n",
        "padding_type='post'\n",
        "oov_tok = \"<OOV>\"\n",
        " "
      ],
      "metadata": {
        "id": "1CutJCFx7lB6"
      },
      "execution_count": null,
      "outputs": []
    },
    {
      "cell_type": "markdown",
      "source": [
        "### Tokenization "
      ],
      "metadata": {
        "id": "oSfoAmlEk9Pr"
      }
    },
    {
      "cell_type": "markdown",
      "source": [
        "`Tokenization` is a key (and mandatory) aspect of working with text data, Simply put, we can’t work with text data if we don’t perform tokenization.\n",
        "\n",
        "`Tokenization` is a way of separating a piece of text into smaller units called tokens, they can be either (Words,Characters, Subwords (n-gram characters))\n",
        "\n",
        "For example, let us consider `“smarter”`:\n",
        "\n",
        "- Word : 'smarter'\n",
        "- Character tokens: s-m-a-r-t-e-r\n",
        "- Subword tokens: smart-er"
      ],
      "metadata": {
        "id": "qvb99IQGlGqZ"
      }
    },
    {
      "cell_type": "markdown",
      "source": [
        "![image.png](data:image/png;base64,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)"
      ],
      "metadata": {
        "id": "Jqsyktr6sLik"
      }
    },
    {
      "cell_type": "markdown",
      "source": [
        "We will be performing following steps while solving this problem:\n",
        "\n",
        "- Tokenize the sentences into words.\n",
        "- Create one-hot encoded vector for each word.\n",
        "- Use padding to ensure all sequences are of same length.\n",
        "- Pass the padded sequences as input to embedding layer.\n",
        "- Flatten and apply Dense layer to predict the label"
      ],
      "metadata": {
        "id": "2hU5fSf_vBL2"
      }
    },
    {
      "cell_type": "code",
      "source": [
        "# Initialize the Tokenizer class\n",
        "tokenizer = Tokenizer(num_words=vocab_size, oov_token=oov_tok)\n",
        "\n",
        "# Generate the word index dictionary\n",
        "tokenizer.fit_on_texts(train_sentences)\n",
        "word_index = tokenizer.word_index\n",
        "\n",
        "# Generate and pad the training sequences\n",
        "training_sequences = tokenizer.texts_to_sequences(train_sentences)\n",
        "training_padded = pad_sequences(training_sequences, maxlen=max_length, padding=padding_type, truncating=trunc_type)\n",
        "\n",
        "# Generate and pad the testing sequences\n",
        "validation_sequences = tokenizer.texts_to_sequences(validation_sentences)\n",
        "validation_padded = pad_sequences(validation_sequences, maxlen=max_length, padding=padding_type, truncating=trunc_type)\n",
        "\n",
        "# Convert the labels lists into numpy arrays\n",
        "training_labels = np.array(train_labels)\n",
        "validation_labels = np.array(validation_labels)"
      ],
      "metadata": {
        "id": "VISg7mT07lGU"
      },
      "execution_count": null,
      "outputs": []
    },
    {
      "cell_type": "markdown",
      "source": [
        "`Word Embeddings` in NLP is a technique where words are represented as numeric vectors in a lower-dimensional space and allows words with similar meanings to have the same representation.\n",
        "\n",
        "That's why we use `Embedding layer`in a neural network, with the purpose of maping input information from a high-dimensional to a lower-dimensional space."
      ],
      "metadata": {
        "id": "k558nhuNvHfK"
      }
    },
    {
      "cell_type": "markdown",
      "source": [
        "![nlp.PNG](data:image/png;base64,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)"
      ],
      "metadata": {
        "id": "pQS90t_Wwn8L"
      }
    },
    {
      "cell_type": "code",
      "source": [
        "# Build the model\n",
        "model_lstm = tf.keras.Sequential ([\n",
        "    tf.keras.layers.Embedding(vocab_size, embedding_dim, input_length=max_length),\n",
        "    tf.keras.layers.SpatialDropout1D(0.4),\n",
        "    tf.keras.layers.Bidirectional(tf.keras.layers.LSTM(lstm_dim)),\n",
        "    tf.keras.layers.Dense(dense_dim, activation='relu'),\n",
        "    tf.keras.layers.Dense(1, activation='sigmoid')\n",
        "])\n",
        "\n",
        "# Set the training parameters\n",
        "model_lstm.compile(loss='binary_crossentropy',optimizer='adam',metrics=['accuracy'])\n"
      ],
      "metadata": {
        "id": "KI7sz4P67lKu"
      },
      "execution_count": null,
      "outputs": []
    },
    {
      "cell_type": "code",
      "source": [
        "# Print the model summary\n",
        "# model_lstm.summary()\n",
        "keras.utils.plot_model(model_lstm,show_shapes=True)"
      ],
      "metadata": {
        "colab": {
          "base_uri": "https://localhost:8080/",
          "height": 644
        },
        "id": "XlAnExHmV5kB",
        "outputId": "d5a19d4e-f103-4f0f-cacc-8dc890509114"
      },
      "execution_count": null,
      "outputs": [
        {
          "output_type": "execute_result",
          "data": {
            "image/png": "[encoded data removed]",
            "text/plain": [
              "<IPython.core.display.Image object>"
            ]
          },
          "metadata": {},
          "execution_count": 41
        }
      ]
    },
    {
      "cell_type": "code",
      "source": [
        "# Train the model\n",
        "history_lstm = model_lstm.fit(training_padded,\n",
        "                              training_labels, \n",
        "                              epochs=NUM_EPOCHS, \n",
        "                              validation_data=(validation_padded, validation_labels),\n",
        "                              verbose = 2)\n"
      ],
      "metadata": {
        "colab": {
          "base_uri": "https://localhost:8080/"
        },
        "id": "vo3r0oiZWJNf",
        "outputId": "49f2e0ed-411f-4166-b36b-2168a07fc10e"
      },
      "execution_count": null,
      "outputs": [
        {
          "output_type": "stream",
          "name": "stdout",
          "text": [
            "Epoch 1/50\n",
            "625/625 - 22s - loss: 0.5325 - accuracy: 0.7261 - val_loss: 0.4634 - val_accuracy: 0.7857 - 22s/epoch - 35ms/step\n",
            "Epoch 2/50\n",
            "625/625 - 16s - loss: 0.3878 - accuracy: 0.8320 - val_loss: 0.5083 - val_accuracy: 0.7790 - 16s/epoch - 25ms/step\n",
            "Epoch 3/50\n",
            "625/625 - 22s - loss: 0.3313 - accuracy: 0.8623 - val_loss: 0.4906 - val_accuracy: 0.7788 - 22s/epoch - 36ms/step\n",
            "Epoch 4/50\n",
            "625/625 - 17s - loss: 0.2947 - accuracy: 0.8809 - val_loss: 0.5230 - val_accuracy: 0.7763 - 17s/epoch - 26ms/step\n",
            "Epoch 5/50\n",
            "625/625 - 15s - loss: 0.2608 - accuracy: 0.8970 - val_loss: 0.5462 - val_accuracy: 0.7679 - 15s/epoch - 24ms/step\n",
            "Epoch 6/50\n",
            "625/625 - 17s - loss: 0.2317 - accuracy: 0.9100 - val_loss: 0.5937 - val_accuracy: 0.7665 - 17s/epoch - 27ms/step\n",
            "Epoch 7/50\n",
            "625/625 - 16s - loss: 0.2123 - accuracy: 0.9180 - val_loss: 0.6059 - val_accuracy: 0.7708 - 16s/epoch - 25ms/step\n",
            "Epoch 8/50\n",
            "625/625 - 15s - loss: 0.1966 - accuracy: 0.9273 - val_loss: 0.6424 - val_accuracy: 0.7622 - 15s/epoch - 24ms/step\n",
            "Epoch 9/50\n",
            "625/625 - 15s - loss: 0.1830 - accuracy: 0.9306 - val_loss: 0.6371 - val_accuracy: 0.7667 - 15s/epoch - 24ms/step\n",
            "Epoch 10/50\n",
            "625/625 - 15s - loss: 0.1683 - accuracy: 0.9370 - val_loss: 0.7199 - val_accuracy: 0.7592 - 15s/epoch - 24ms/step\n",
            "Epoch 11/50\n",
            "625/625 - 15s - loss: 0.1525 - accuracy: 0.9446 - val_loss: 0.7465 - val_accuracy: 0.7559 - 15s/epoch - 24ms/step\n",
            "Epoch 12/50\n",
            "625/625 - 17s - loss: 0.1427 - accuracy: 0.9474 - val_loss: 0.7781 - val_accuracy: 0.7575 - 17s/epoch - 27ms/step\n",
            "Epoch 13/50\n",
            "625/625 - 15s - loss: 0.1302 - accuracy: 0.9533 - val_loss: 0.8598 - val_accuracy: 0.7490 - 15s/epoch - 24ms/step\n",
            "Epoch 14/50\n",
            "625/625 - 15s - loss: 0.1221 - accuracy: 0.9557 - val_loss: 0.8369 - val_accuracy: 0.7490 - 15s/epoch - 24ms/step\n",
            "Epoch 15/50\n",
            "625/625 - 15s - loss: 0.1126 - accuracy: 0.9599 - val_loss: 0.8583 - val_accuracy: 0.7516 - 15s/epoch - 24ms/step\n",
            "Epoch 16/50\n",
            "625/625 - 15s - loss: 0.1017 - accuracy: 0.9647 - val_loss: 0.9423 - val_accuracy: 0.7467 - 15s/epoch - 24ms/step\n",
            "Epoch 17/50\n",
            "625/625 - 17s - loss: 0.1004 - accuracy: 0.9638 - val_loss: 0.9448 - val_accuracy: 0.7429 - 17s/epoch - 27ms/step\n",
            "Epoch 18/50\n",
            "625/625 - 15s - loss: 0.0888 - accuracy: 0.9690 - val_loss: 0.9778 - val_accuracy: 0.7498 - 15s/epoch - 24ms/step\n",
            "Epoch 19/50\n",
            "625/625 - 15s - loss: 0.0843 - accuracy: 0.9704 - val_loss: 1.0407 - val_accuracy: 0.7429 - 15s/epoch - 24ms/step\n",
            "Epoch 20/50\n",
            "625/625 - 17s - loss: 0.0801 - accuracy: 0.9722 - val_loss: 0.9787 - val_accuracy: 0.7478 - 17s/epoch - 28ms/step\n",
            "Epoch 21/50\n",
            "625/625 - 16s - loss: 0.0732 - accuracy: 0.9749 - val_loss: 1.0021 - val_accuracy: 0.7527 - 16s/epoch - 25ms/step\n",
            "Epoch 22/50\n",
            "625/625 - 15s - loss: 0.0668 - accuracy: 0.9766 - val_loss: 1.1315 - val_accuracy: 0.7459 - 15s/epoch - 24ms/step\n",
            "Epoch 23/50\n",
            "625/625 - 19s - loss: 0.0644 - accuracy: 0.9783 - val_loss: 1.1767 - val_accuracy: 0.7461 - 19s/epoch - 31ms/step\n",
            "Epoch 24/50\n",
            "625/625 - 20s - loss: 0.0606 - accuracy: 0.9791 - val_loss: 1.1947 - val_accuracy: 0.7433 - 20s/epoch - 32ms/step\n",
            "Epoch 25/50\n",
            "625/625 - 26s - loss: 0.0527 - accuracy: 0.9823 - val_loss: 1.2562 - val_accuracy: 0.7404 - 26s/epoch - 42ms/step\n",
            "Epoch 26/50\n",
            "625/625 - 15s - loss: 0.0516 - accuracy: 0.9819 - val_loss: 1.2161 - val_accuracy: 0.7484 - 15s/epoch - 24ms/step\n",
            "Epoch 27/50\n",
            "625/625 - 15s - loss: 0.0529 - accuracy: 0.9822 - val_loss: 1.3023 - val_accuracy: 0.7484 - 15s/epoch - 24ms/step\n",
            "Epoch 28/50\n",
            "625/625 - 18s - loss: 0.0476 - accuracy: 0.9833 - val_loss: 1.3285 - val_accuracy: 0.7388 - 18s/epoch - 29ms/step\n",
            "Epoch 29/50\n",
            "625/625 - 17s - loss: 0.0487 - accuracy: 0.9830 - val_loss: 1.2916 - val_accuracy: 0.7423 - 17s/epoch - 28ms/step\n",
            "Epoch 30/50\n",
            "625/625 - 17s - loss: 0.0401 - accuracy: 0.9860 - val_loss: 1.4015 - val_accuracy: 0.7376 - 17s/epoch - 27ms/step\n",
            "Epoch 31/50\n",
            "625/625 - 22s - loss: 0.0444 - accuracy: 0.9844 - val_loss: 1.3335 - val_accuracy: 0.7406 - 22s/epoch - 35ms/step\n",
            "Epoch 32/50\n",
            "625/625 - 18s - loss: 0.0395 - accuracy: 0.9865 - val_loss: 1.3503 - val_accuracy: 0.7400 - 18s/epoch - 29ms/step\n",
            "Epoch 33/50\n",
            "625/625 - 23s - loss: 0.0382 - accuracy: 0.9872 - val_loss: 1.5080 - val_accuracy: 0.7384 - 23s/epoch - 37ms/step\n",
            "Epoch 34/50\n",
            "625/625 - 20s - loss: 0.0357 - accuracy: 0.9869 - val_loss: 1.4265 - val_accuracy: 0.7390 - 20s/epoch - 32ms/step\n",
            "Epoch 35/50\n",
            "625/625 - 16s - loss: 0.0341 - accuracy: 0.9880 - val_loss: 1.4300 - val_accuracy: 0.7390 - 16s/epoch - 25ms/step\n",
            "Epoch 36/50\n",
            "625/625 - 15s - loss: 0.0349 - accuracy: 0.9878 - val_loss: 1.4721 - val_accuracy: 0.7414 - 15s/epoch - 24ms/step\n",
            "Epoch 37/50\n",
            "625/625 - 16s - loss: 0.0297 - accuracy: 0.9907 - val_loss: 1.5686 - val_accuracy: 0.7390 - 16s/epoch - 26ms/step\n",
            "Epoch 38/50\n",
            "625/625 - 22s - loss: 0.0284 - accuracy: 0.9899 - val_loss: 1.5867 - val_accuracy: 0.7376 - 22s/epoch - 35ms/step\n",
            "Epoch 39/50\n",
            "625/625 - 15s - loss: 0.0300 - accuracy: 0.9894 - val_loss: 1.6622 - val_accuracy: 0.7406 - 15s/epoch - 24ms/step\n",
            "Epoch 40/50\n",
            "625/625 - 15s - loss: 0.0296 - accuracy: 0.9901 - val_loss: 1.5033 - val_accuracy: 0.7372 - 15s/epoch - 24ms/step\n",
            "Epoch 41/50\n",
            "625/625 - 15s - loss: 0.0258 - accuracy: 0.9912 - val_loss: 1.6768 - val_accuracy: 0.7412 - 15s/epoch - 24ms/step\n",
            "Epoch 42/50\n",
            "625/625 - 15s - loss: 0.0271 - accuracy: 0.9901 - val_loss: 1.6278 - val_accuracy: 0.7384 - 15s/epoch - 24ms/step\n",
            "Epoch 43/50\n",
            "625/625 - 17s - loss: 0.0254 - accuracy: 0.9908 - val_loss: 1.7396 - val_accuracy: 0.7390 - 17s/epoch - 27ms/step\n",
            "Epoch 44/50\n",
            "625/625 - 15s - loss: 0.0247 - accuracy: 0.9914 - val_loss: 1.6478 - val_accuracy: 0.7390 - 15s/epoch - 24ms/step\n",
            "Epoch 45/50\n",
            "625/625 - 15s - loss: 0.0249 - accuracy: 0.9912 - val_loss: 1.7214 - val_accuracy: 0.7396 - 15s/epoch - 24ms/step\n",
            "Epoch 46/50\n",
            "625/625 - 16s - loss: 0.0233 - accuracy: 0.9916 - val_loss: 1.6841 - val_accuracy: 0.7425 - 16s/epoch - 26ms/step\n",
            "Epoch 47/50\n",
            "625/625 - 16s - loss: 0.0214 - accuracy: 0.9929 - val_loss: 1.8307 - val_accuracy: 0.7416 - 16s/epoch - 26ms/step\n",
            "Epoch 48/50\n",
            "625/625 - 15s - loss: 0.0229 - accuracy: 0.9923 - val_loss: 1.6999 - val_accuracy: 0.7363 - 15s/epoch - 24ms/step\n",
            "Epoch 49/50\n",
            "625/625 - 15s - loss: 0.0223 - accuracy: 0.9922 - val_loss: 1.7719 - val_accuracy: 0.7386 - 15s/epoch - 23ms/step\n",
            "Epoch 50/50\n",
            "625/625 - 15s - loss: 0.0192 - accuracy: 0.9938 - val_loss: 1.8877 - val_accuracy: 0.7310 - 15s/epoch - 24ms/step\n"
          ]
        }
      ]
    },
    {
      "cell_type": "markdown",
      "source": [
        "# Plot Results 📈 📉 📊\n",
        "Let the Magic Begin !!  🔮 ✨"
      ],
      "metadata": {
        "id": "1HtYNezsRhPN"
      }
    },
    {
      "cell_type": "code",
      "source": [
        "def plot_loss_curves(history):\n",
        "    \n",
        "    '''\n",
        "      returns seperate loss curves for training and validation metrics\n",
        "    '''\n",
        "\n",
        "    train_loss=history.history['loss']\n",
        "    val_loss=history.history['val_loss']\n",
        "\n",
        "    train_accuracy=history.history['accuracy']\n",
        "    val_accuracy=history.history['val_accuracy']\n",
        "\n",
        "    epochs=range(1,len(history.history['loss'])+1)\n",
        "    plt.figure(figsize=(20,5))\n",
        "\n",
        "    # plot loss data\n",
        "    plt.subplot(1,2,2)\n",
        "    plt.plot(epochs,train_loss,label=\"training_loss\")\n",
        "    plt.plot(epochs,val_loss,label=\"validation_loss\")\n",
        "    plt.title(\"Loss curves\",size=20)\n",
        "    plt.xlabel('epochs',size=20)\n",
        "    plt.ylabel('loss',size=20)\n",
        "    plt.legend(fontsize=15);\n",
        "    # plt.show()\n",
        "\n",
        "    \n",
        "    # plot accuracy data\n",
        "    plt.subplot(1,2,1)\n",
        "    plt.plot(epochs,train_accuracy,label=\"training_acc\")\n",
        "    plt.plot(epochs,val_accuracy,label=\"validation_acc\")\n",
        "    plt.title(\"Accuracy curves\",size=20)\n",
        "    plt.xlabel('epochs',size=20)\n",
        "    plt.ylabel('Accuracy',size=20)\n",
        "    plt.tight_layout()\n",
        "    plt.legend(fontsize=15);\n",
        "\n",
        "\n",
        "\n",
        "    plt.title('Model Performance Curves')\n",
        "\n",
        "\n",
        "plot_loss_curves(history_lstm)"
      ],
      "metadata": {
        "id": "n8vLpXi67lPf",
        "outputId": "cc7e23e3-19c2-4014-8fb7-44f3abe8f11c",
        "colab": {
          "base_uri": "https://localhost:8080/",
          "height": 0
        }
      },
      "execution_count": 1,
      "outputs": [
        {
          "output_type": "error",
          "ename": "NameError",
          "evalue": "ignored",
          "traceback": [
            "\u001b[0;31m---------------------------------------------------------------------------\u001b[0m",
            "\u001b[0;31mNameError\u001b[0m                                 Traceback (most recent call last)",
            "\u001b[0;32m<ipython-input-1-90c02017a0a6>\u001b[0m in \u001b[0;36m<cell line: 42>\u001b[0;34m()\u001b[0m\n\u001b[1;32m     40\u001b[0m \u001b[0;34m\u001b[0m\u001b[0m\n\u001b[1;32m     41\u001b[0m \u001b[0;34m\u001b[0m\u001b[0m\n\u001b[0;32m---> 42\u001b[0;31m \u001b[0mplot_loss_curves\u001b[0m\u001b[0;34m(\u001b[0m\u001b[0mhistory_lstm\u001b[0m\u001b[0;34m)\u001b[0m\u001b[0;34m\u001b[0m\u001b[0;34m\u001b[0m\u001b[0m\n\u001b[0m",
            "\u001b[0;31mNameError\u001b[0m: name 'history_lstm' is not defined"
          ]
        }
      ]
    },
    {
      "cell_type": "markdown",
      "source": [
        "**Inference**: We may notice overfitting because validation accuracy is slowly dropping while the training accuracy is still going up.\n",
        "\n",
        "We may find this happening a lot with text data, as the VocabDict of Train data is not covering the validation data, So it's very important to keep an eye on it.\n",
        "\n",
        "`Overfitting` in NLP may be handled by many approaches including:\n",
        "\n",
        "- Better text pre-processing\n",
        "- Simplify the model\n",
        "- Changing the number of dimensions using the embedding\n",
        "- Tweaking Hyper-Paramters\n",
        "- Text Data Augmentation "
      ],
      "metadata": {
        "id": "eb-Ut06b3_H5"
      }
    },
    {
      "cell_type": "markdown",
      "source": [
        "# Test Model  🌡️"
      ],
      "metadata": {
        "id": "YvSlUkVQX_oz"
      }
    },
    {
      "cell_type": "code",
      "source": [
        "def review_test(index , test_df):\n",
        "\n",
        "  text = test_df['text'][index]\n",
        "  display(HTML(f\"<h5><b style='color:red'>Text: </b>{text}</h5>\"))\n",
        "\n",
        "\n",
        "  true_label = test_df['label'][index]\n",
        "  true_val = \"negative\" if true_label == 0 else \"positive\"\n",
        "  display(HTML(f\"<h5><b style='color:red'>Actual: </b>{true_val}</h5>\"))\n",
        "\n",
        "  #vectorizing the text by the pre-fitted tokenizer instance\n",
        "  text = tokenizer.texts_to_sequences(text)\n",
        "\n",
        "  #padding the text to have exactly the same shape as `embedding` input\n",
        "  text = pad_sequences(text, maxlen=max_length, dtype='int32', value=0)\n",
        "\n",
        "\n",
        "  sentiment = model_lstm.predict(text,batch_size=1,verbose = 2)[0]\n",
        "  pred_val = \"negative\" if sentiment == 0 else \"positive\"\n",
        "  display(HTML(f\"<h5><b style='color:red'>Predicted: </b>{pred_val}</h5>\"))\n",
        "\n"
      ],
      "metadata": {
        "id": "QHoxO2OLX-xX"
      },
      "execution_count": null,
      "outputs": []
    },
    {
      "cell_type": "code",
      "source": [
        "review_test(100,test_df)\n"
      ],
      "metadata": {
        "colab": {
          "base_uri": "https://localhost:8080/",
          "height": 188
        },
        "id": "X-rKf8TjZD48",
        "outputId": "60f5190d-20bd-47cf-adfd-dc85d656199a"
      },
      "execution_count": null,
      "outputs": [
        {
          "output_type": "display_data",
          "data": {
            "text/plain": [
              "<IPython.core.display.HTML object>"
            ],
            "text/html": [
              "<h5><b style='color:red'>Text: </b>I watched this movie probably more than 20 times. The jokes are now 10-15 years old but every time I watch it it makes me fall off my chair. Two of the finest actor Salman Khan and Aamir Khan plays the lead roles here. Even if Aamir Khan is a much better actor and got the better role(smart guy) in the movie Salman Khan matches and sometimes perform even better as the dumb guy. All the characters are memorable. This movie is filled with hilarious one-liners and funny situations(a little too silly probably). Don't try to look for logic in this movie. Let your brain relax for some time. I promise it will be an experience to remember.</h5>"
            ]
          },
          "metadata": {}
        },
        {
          "output_type": "display_data",
          "data": {
            "text/plain": [
              "<IPython.core.display.HTML object>"
            ],
            "text/html": [
              "<h5><b style='color:red'>Actual: </b>positive</h5>"
            ]
          },
          "metadata": {}
        },
        {
          "output_type": "stream",
          "name": "stdout",
          "text": [
            "638/638 - 6s - 6s/epoch - 10ms/step\n"
          ]
        },
        {
          "output_type": "display_data",
          "data": {
            "text/plain": [
              "<IPython.core.display.HTML object>"
            ],
            "text/html": [
              "<h5><b style='color:red'>Predicted: </b>positive</h5>"
            ]
          },
          "metadata": {}
        }
      ]
    },
    {
      "cell_type": "code",
      "source": [
        "review_test(20,test_df)"
      ],
      "metadata": {
        "colab": {
          "base_uri": "https://localhost:8080/",
          "height": 159
        },
        "id": "2o9XBn4yYeM8",
        "outputId": "8d5c18d9-12cf-4baa-a2da-f7d9f67f4b4a"
      },
      "execution_count": null,
      "outputs": [
        {
          "output_type": "display_data",
          "data": {
            "text/plain": [
              "<IPython.core.display.HTML object>"
            ],
            "text/html": [
              "<h5><b style='color:red'>Text: </b>I really tried, but this movie just didn't work for me. The action scenes were dull, the acting was surprisingly poor, and some of these characters were TOO stereotypical to even be funny. Pam Grier tries, but when you have nothing to work with, even her considerable talent cannot prevent a disaster. Even by the standards of this weak genre, this film is pretty bad.</h5>"
            ]
          },
          "metadata": {}
        },
        {
          "output_type": "display_data",
          "data": {
            "text/plain": [
              "<IPython.core.display.HTML object>"
            ],
            "text/html": [
              "<h5><b style='color:red'>Actual: </b>negative</h5>"
            ]
          },
          "metadata": {}
        },
        {
          "output_type": "stream",
          "name": "stdout",
          "text": [
            "368/368 - 2s - 2s/epoch - 5ms/step\n"
          ]
        },
        {
          "output_type": "display_data",
          "data": {
            "text/plain": [
              "<IPython.core.display.HTML object>"
            ],
            "text/html": [
              "<h5><b style='color:red'>Predicted: </b>positive</h5>"
            ]
          },
          "metadata": {}
        }
      ]
    },
    {
      "cell_type": "markdown",
      "metadata": {
        "id": "JN6kaxxcJQgd"
      },
      "source": [
        "## Visualize Word Embeddings\n",
        "\n",
        "After training, we can visualize the trained weights in the `Embedding` layer to see words that are clustered together. The [Tensorflow Embedding Projector](https://projector.tensorflow.org/) is able to reduce the n-dimension vectors we defined earlier into fewer components so it can be plotted in the projector. First, you will need to get these weights and you can do that with the cell below:"
      ]
    },
    {
      "cell_type": "code",
      "source": [
        "# Get the embedding layer from the model (i.e. first layer)\n",
        "embedding_layer = model_lstm.layers[0]\n",
        "\n",
        "# Get the weights of the embedding layer\n",
        "embedding_weights = embedding_layer.get_weights()[0]\n",
        "\n",
        "# Print the shape. Expected is (vocab_size, embedding_dim)\n",
        "print(embedding_weights.shape) "
      ],
      "metadata": {
        "id": "vunKdFwZ7lX1",
        "outputId": "c316c6b4-b615-464d-a98a-4a09f395156f",
        "colab": {
          "base_uri": "https://localhost:8080/"
        }
      },
      "execution_count": null,
      "outputs": [
        {
          "output_type": "stream",
          "name": "stdout",
          "text": [
            "(10000, 16)\n"
          ]
        }
      ]
    },
    {
      "cell_type": "markdown",
      "metadata": {
        "id": "1u4Ty097uRYP"
      },
      "source": [
        "For this, it is useful to have `reverse_word_index` dictionary so you can quickly lookup a word based on a given index. For example, `reverse_word_index[1]` will return your OOV token because it is always at index = 1. Fortunately, the `Tokenizer` class already provides this dictionary through its `index_word` property. Yes, as the name implies, it is the reverse of the `word_index` property which you used earlier!"
      ]
    },
    {
      "cell_type": "code",
      "execution_count": null,
      "metadata": {
        "id": "pPhhHqvxvS8f"
      },
      "outputs": [],
      "source": [
        "# Get the index-word dictionary\n",
        "reverse_word_index = tokenizer.index_word\n"
      ]
    },
    {
      "cell_type": "markdown",
      "metadata": {
        "id": "ykM0Q9ThvszB"
      },
      "source": [
        "Now we can start the loop to generate the files. We will loop `vocab_size-1` times, skipping the `0` key because it is just for the padding."
      ]
    },
    {
      "cell_type": "code",
      "execution_count": null,
      "metadata": {
        "id": "jmB0Uxk0ycP6"
      },
      "outputs": [],
      "source": [
        "import io\n",
        "\n",
        "# Open writeable files\n",
        "out_v = io.open('vecs.tsv', 'w', encoding='utf-8')\n",
        "out_m = io.open('meta.tsv', 'w', encoding='utf-8')\n",
        "\n",
        "# Initialize the loop. Start counting at `1` because `0` is just for the padding\n",
        "for word_num in range(1, vocab_size):\n",
        "\n",
        "  # Get the word associated at the current index\n",
        "  word_name = reverse_word_index[word_num]\n",
        "\n",
        "  # Get the embedding weights associated with the current index\n",
        "  word_embedding = embedding_weights[word_num]\n",
        "\n",
        "  # Write the word name\n",
        "  out_m.write(word_name + \"\\n\")\n",
        "\n",
        "  # Write the word embedding\n",
        "  out_v.write('\\t'.join([str(x) for x in word_embedding]) + \"\\n\")\n",
        "\n",
        "# Close the files\n",
        "out_v.close()\n",
        "out_m.close()"
      ]
    },
    {
      "cell_type": "markdown",
      "metadata": {
        "id": "3t92Osu3u8Qh"
      },
      "source": [
        "**P.S.** As I'm running this on Colab, I run the code below to download the files. \n"
      ]
    },
    {
      "cell_type": "code",
      "execution_count": null,
      "metadata": {
        "id": "VDeqpOCVydtq",
        "outputId": "46588c43-6538-4690-b274-4cab8327accd",
        "colab": {
          "base_uri": "https://localhost:8080/",
          "height": 17
        }
      },
      "outputs": [
        {
          "output_type": "display_data",
          "data": {
            "text/plain": [
              "<IPython.core.display.Javascript object>"
            ],
            "application/javascript": [
              "\n",
              "    async function download(id, filename, size) {\n",
              "      if (!google.colab.kernel.accessAllowed) {\n",
              "        return;\n",
              "      }\n",
              "      const div = document.createElement('div');\n",
              "      const label = document.createElement('label');\n",
              "      label.textContent = `Downloading \"${filename}\": `;\n",
              "      div.appendChild(label);\n",
              "      const progress = document.createElement('progress');\n",
              "      progress.max = size;\n",
              "      div.appendChild(progress);\n",
              "      document.body.appendChild(div);\n",
              "\n",
              "      const buffers = [];\n",
              "      let downloaded = 0;\n",
              "\n",
              "      const channel = await google.colab.kernel.comms.open(id);\n",
              "      // Send a message to notify the kernel that we're ready.\n",
              "      channel.send({})\n",
              "\n",
              "      for await (const message of channel.messages) {\n",
              "        // Send a message to notify the kernel that we're ready.\n",
              "        channel.send({})\n",
              "        if (message.buffers) {\n",
              "          for (const buffer of message.buffers) {\n",
              "            buffers.push(buffer);\n",
              "            downloaded += buffer.byteLength;\n",
              "            progress.value = downloaded;\n",
              "          }\n",
              "        }\n",
              "      }\n",
              "      const blob = new Blob(buffers, {type: 'application/binary'});\n",
              "      const a = document.createElement('a');\n",
              "      a.href = window.URL.createObjectURL(blob);\n",
              "      a.download = filename;\n",
              "      div.appendChild(a);\n",
              "      a.click();\n",
              "      div.remove();\n",
              "    }\n",
              "  "
            ]
          },
          "metadata": {}
        },
        {
          "output_type": "display_data",
          "data": {
            "text/plain": [
              "<IPython.core.display.Javascript object>"
            ],
            "application/javascript": [
              "download(\"download_0eee76f6-2c55-44cc-a768-1c636df2960f\", \"vecs.tsv\", 1857019)"
            ]
          },
          "metadata": {}
        },
        {
          "output_type": "display_data",
          "data": {
            "text/plain": [
              "<IPython.core.display.Javascript object>"
            ],
            "application/javascript": [
              "\n",
              "    async function download(id, filename, size) {\n",
              "      if (!google.colab.kernel.accessAllowed) {\n",
              "        return;\n",
              "      }\n",
              "      const div = document.createElement('div');\n",
              "      const label = document.createElement('label');\n",
              "      label.textContent = `Downloading \"${filename}\": `;\n",
              "      div.appendChild(label);\n",
              "      const progress = document.createElement('progress');\n",
              "      progress.max = size;\n",
              "      div.appendChild(progress);\n",
              "      document.body.appendChild(div);\n",
              "\n",
              "      const buffers = [];\n",
              "      let downloaded = 0;\n",
              "\n",
              "      const channel = await google.colab.kernel.comms.open(id);\n",
              "      // Send a message to notify the kernel that we're ready.\n",
              "      channel.send({})\n",
              "\n",
              "      for await (const message of channel.messages) {\n",
              "        // Send a message to notify the kernel that we're ready.\n",
              "        channel.send({})\n",
              "        if (message.buffers) {\n",
              "          for (const buffer of message.buffers) {\n",
              "            buffers.push(buffer);\n",
              "            downloaded += buffer.byteLength;\n",
              "            progress.value = downloaded;\n",
              "          }\n",
              "        }\n",
              "      }\n",
              "      const blob = new Blob(buffers, {type: 'application/binary'});\n",
              "      const a = document.createElement('a');\n",
              "      a.href = window.URL.createObjectURL(blob);\n",
              "      a.download = filename;\n",
              "      div.appendChild(a);\n",
              "      a.click();\n",
              "      div.remove();\n",
              "    }\n",
              "  "
            ]
          },
          "metadata": {}
        },
        {
          "output_type": "display_data",
          "data": {
            "text/plain": [
              "<IPython.core.display.Javascript object>"
            ],
            "application/javascript": [
              "download(\"download_b9a022c8-ffe1-47a3-a6d2-a69d843ba00b\", \"meta.tsv\", 68788)"
            ]
          },
          "metadata": {}
        }
      ],
      "source": [
        "# Import files utilities in Colab\n",
        "try:\n",
        "  from google.colab import files\n",
        "except ImportError:\n",
        "  pass\n",
        "\n",
        "# Download the files\n",
        "else:\n",
        "  files.download('vecs.tsv')\n",
        "  files.download('meta.tsv')"
      ]
    },
    {
      "cell_type": "markdown",
      "metadata": {
        "id": "TRV8ag3nyAOb"
      },
      "source": [
        "Now we can go to the [Tensorflow Embedding Projector](https://projector.tensorflow.org/) and load the two files you downloaded to see the visualization. We can search for words like `worst` and `fantastic` and see the other words closely located to these."
      ]
    },
    {
      "cell_type": "markdown",
      "source": [
        "# Wrap Up 🏷️ 📚 🛎️\n",
        "\n",
        "In this notebook, I build a simple sentiment classification model and train it on preprocessed text data, yet we still can get much more accurate results if we tweak some hyperparameters like the vocabulary size."
      ],
      "metadata": {
        "id": "pAg0FrV7zGKd"
      }
    },
    {
      "cell_type": "markdown",
      "source": [
        "# For More Refrences 🗺️ 💎 ...\n",
        "\n",
        "\n",
        "\n",
        "* [Natural Language Processing in TensorFlow | Coursera](https://www.coursera.org/account/accomplishments/verify/ZCMB677Y9M6E)\n",
        "\n",
        "* [Text pre-processing | towardsdatascience](https://towardsdatascience.com/text-pre-processing-stop-words-removal-using-different-libraries-f20bac19929a)\n",
        "\n",
        "* [Stemming vs Lemmatization in NLP| analyticsvidhya](https://www.analyticsvidhya.com/blog/2022/06/stemming-vs-lemmatization-in-nlp-must-know-differences/#:~:text=Stemming%20is%20a%20process%20that,'%20would%20return%20'Car')\n",
        "\n",
        "\n",
        "* [What is Tokenization in NLP? Here’s All You Need To Know | analyticsvidhya](https://www.analyticsvidhya.com/blog/2020/05/what-is-tokenization-nlp/)\n",
        "\n",
        "* [Movie Rating 🎬 | Sentiment Analysis | Kaggle ](https://www.kaggle.com/code/ashwinshetgaonkar/movie-rating-sentiment-analysis)\n",
        "\n",
        "* [IMDB Movie Rating Sentiment Analysis | Kaggle ](https://www.kaggle.com/code/yasserh/imdb-movie-rating-sentiment-analysis)\n",
        "\n",
        "* [NLP | IMDB Reviews Prediction|Multiple Models](https://www.kaggle.com/code/majinx/nlp-imdb-reviews-prediction-multiple-models)\n",
        "\n"
      ],
      "metadata": {
        "id": "BW7mR6qUy4XX"
      }
    }
  ]
}